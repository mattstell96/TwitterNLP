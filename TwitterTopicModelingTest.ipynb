{
 "cells": [
  {
   "cell_type": "markdown",
   "id": "df330091",
   "metadata": {},
   "source": [
    "# 2020 Elections: Topic Modelling Test with Gensim"
   ]
  },
  {
   "cell_type": "markdown",
   "id": "e3ef108f",
   "metadata": {},
   "source": [
    "## Useful Libraries"
   ]
  },
  {
   "cell_type": "markdown",
   "id": "9db6d477",
   "metadata": {},
   "source": [
    "JupyterNotify allows us to know when a cell has finished running. All we need to do is inserting '%%notify' at the beginning of the cell."
   ]
  },
  {
   "cell_type": "code",
   "execution_count": 62,
   "id": "34b2fd99",
   "metadata": {},
   "outputs": [
    {
     "name": "stdout",
     "output_type": "stream",
     "text": [
      "Collecting jupyternotify\n",
      "  Downloading jupyternotify-0.1.15.tar.gz (7.2 kB)\n",
      "  Preparing metadata (setup.py) ... \u001b[?25ldone\n",
      "\u001b[?25hRequirement already satisfied: ipython in /Users/matteo-stelluti/opt/anaconda3/lib/python3.9/site-packages (from jupyternotify) (7.31.1)\n",
      "Requirement already satisfied: jupyter in /Users/matteo-stelluti/opt/anaconda3/lib/python3.9/site-packages (from jupyternotify) (1.0.0)\n",
      "Requirement already satisfied: backcall in /Users/matteo-stelluti/opt/anaconda3/lib/python3.9/site-packages (from ipython->jupyternotify) (0.2.0)\n",
      "Requirement already satisfied: decorator in /Users/matteo-stelluti/opt/anaconda3/lib/python3.9/site-packages (from ipython->jupyternotify) (5.1.1)\n",
      "Requirement already satisfied: pickleshare in /Users/matteo-stelluti/opt/anaconda3/lib/python3.9/site-packages (from ipython->jupyternotify) (0.7.5)\n",
      "Requirement already satisfied: traitlets>=4.2 in /Users/matteo-stelluti/opt/anaconda3/lib/python3.9/site-packages (from ipython->jupyternotify) (5.1.1)\n",
      "Requirement already satisfied: setuptools>=18.5 in /Users/matteo-stelluti/opt/anaconda3/lib/python3.9/site-packages (from ipython->jupyternotify) (63.4.1)\n",
      "Requirement already satisfied: appnope in /Users/matteo-stelluti/opt/anaconda3/lib/python3.9/site-packages (from ipython->jupyternotify) (0.1.2)\n",
      "Requirement already satisfied: pygments in /Users/matteo-stelluti/opt/anaconda3/lib/python3.9/site-packages (from ipython->jupyternotify) (2.11.2)\n",
      "Requirement already satisfied: jedi>=0.16 in /Users/matteo-stelluti/opt/anaconda3/lib/python3.9/site-packages (from ipython->jupyternotify) (0.18.1)\n",
      "Requirement already satisfied: pexpect>4.3 in /Users/matteo-stelluti/opt/anaconda3/lib/python3.9/site-packages (from ipython->jupyternotify) (4.8.0)\n",
      "Requirement already satisfied: matplotlib-inline in /Users/matteo-stelluti/opt/anaconda3/lib/python3.9/site-packages (from ipython->jupyternotify) (0.1.6)\n",
      "Requirement already satisfied: prompt-toolkit!=3.0.0,!=3.0.1,<3.1.0,>=2.0.0 in /Users/matteo-stelluti/opt/anaconda3/lib/python3.9/site-packages (from ipython->jupyternotify) (3.0.20)\n",
      "Requirement already satisfied: notebook in /Users/matteo-stelluti/opt/anaconda3/lib/python3.9/site-packages (from jupyter->jupyternotify) (6.4.12)\n",
      "Requirement already satisfied: nbconvert in /Users/matteo-stelluti/opt/anaconda3/lib/python3.9/site-packages (from jupyter->jupyternotify) (6.4.4)\n",
      "Requirement already satisfied: jupyter-console in /Users/matteo-stelluti/opt/anaconda3/lib/python3.9/site-packages (from jupyter->jupyternotify) (6.4.3)\n",
      "Requirement already satisfied: qtconsole in /Users/matteo-stelluti/opt/anaconda3/lib/python3.9/site-packages (from jupyter->jupyternotify) (5.3.2)\n",
      "Requirement already satisfied: ipywidgets in /Users/matteo-stelluti/opt/anaconda3/lib/python3.9/site-packages (from jupyter->jupyternotify) (7.6.5)\n",
      "Requirement already satisfied: ipykernel in /Users/matteo-stelluti/opt/anaconda3/lib/python3.9/site-packages (from jupyter->jupyternotify) (6.15.2)\n",
      "Requirement already satisfied: parso<0.9.0,>=0.8.0 in /Users/matteo-stelluti/opt/anaconda3/lib/python3.9/site-packages (from jedi>=0.16->ipython->jupyternotify) (0.8.3)\n",
      "Requirement already satisfied: ptyprocess>=0.5 in /Users/matteo-stelluti/opt/anaconda3/lib/python3.9/site-packages (from pexpect>4.3->ipython->jupyternotify) (0.7.0)\n",
      "Requirement already satisfied: wcwidth in /Users/matteo-stelluti/opt/anaconda3/lib/python3.9/site-packages (from prompt-toolkit!=3.0.0,!=3.0.1,<3.1.0,>=2.0.0->ipython->jupyternotify) (0.2.5)\n",
      "Requirement already satisfied: nest-asyncio in /Users/matteo-stelluti/opt/anaconda3/lib/python3.9/site-packages (from ipykernel->jupyter->jupyternotify) (1.5.5)\n",
      "Requirement already satisfied: tornado>=6.1 in /Users/matteo-stelluti/opt/anaconda3/lib/python3.9/site-packages (from ipykernel->jupyter->jupyternotify) (6.1)\n",
      "Requirement already satisfied: debugpy>=1.0 in /Users/matteo-stelluti/opt/anaconda3/lib/python3.9/site-packages (from ipykernel->jupyter->jupyternotify) (1.5.1)\n",
      "Requirement already satisfied: pyzmq>=17 in /Users/matteo-stelluti/opt/anaconda3/lib/python3.9/site-packages (from ipykernel->jupyter->jupyternotify) (23.2.0)\n",
      "Requirement already satisfied: packaging in /Users/matteo-stelluti/opt/anaconda3/lib/python3.9/site-packages (from ipykernel->jupyter->jupyternotify) (21.3)\n",
      "Requirement already satisfied: psutil in /Users/matteo-stelluti/opt/anaconda3/lib/python3.9/site-packages (from ipykernel->jupyter->jupyternotify) (5.9.0)\n",
      "Requirement already satisfied: jupyter-client>=6.1.12 in /Users/matteo-stelluti/opt/anaconda3/lib/python3.9/site-packages (from ipykernel->jupyter->jupyternotify) (7.3.4)\n",
      "Requirement already satisfied: widgetsnbextension~=3.5.0 in /Users/matteo-stelluti/opt/anaconda3/lib/python3.9/site-packages (from ipywidgets->jupyter->jupyternotify) (3.5.2)\n",
      "Requirement already satisfied: nbformat>=4.2.0 in /Users/matteo-stelluti/opt/anaconda3/lib/python3.9/site-packages (from ipywidgets->jupyter->jupyternotify) (5.5.0)\n",
      "Requirement already satisfied: jupyterlab-widgets>=1.0.0 in /Users/matteo-stelluti/opt/anaconda3/lib/python3.9/site-packages (from ipywidgets->jupyter->jupyternotify) (1.0.0)\n",
      "Requirement already satisfied: ipython-genutils~=0.2.0 in /Users/matteo-stelluti/opt/anaconda3/lib/python3.9/site-packages (from ipywidgets->jupyter->jupyternotify) (0.2.0)\n",
      "Requirement already satisfied: entrypoints>=0.2.2 in /Users/matteo-stelluti/opt/anaconda3/lib/python3.9/site-packages (from nbconvert->jupyter->jupyternotify) (0.4)\n",
      "Requirement already satisfied: pandocfilters>=1.4.1 in /Users/matteo-stelluti/opt/anaconda3/lib/python3.9/site-packages (from nbconvert->jupyter->jupyternotify) (1.5.0)\n",
      "Requirement already satisfied: nbclient<0.6.0,>=0.5.0 in /Users/matteo-stelluti/opt/anaconda3/lib/python3.9/site-packages (from nbconvert->jupyter->jupyternotify) (0.5.13)\n",
      "Requirement already satisfied: jinja2>=2.4 in /Users/matteo-stelluti/opt/anaconda3/lib/python3.9/site-packages (from nbconvert->jupyter->jupyternotify) (2.11.3)\n",
      "Requirement already satisfied: defusedxml in /Users/matteo-stelluti/opt/anaconda3/lib/python3.9/site-packages (from nbconvert->jupyter->jupyternotify) (0.7.1)\n",
      "Requirement already satisfied: bleach in /Users/matteo-stelluti/opt/anaconda3/lib/python3.9/site-packages (from nbconvert->jupyter->jupyternotify) (4.1.0)\n",
      "Requirement already satisfied: testpath in /Users/matteo-stelluti/opt/anaconda3/lib/python3.9/site-packages (from nbconvert->jupyter->jupyternotify) (0.6.0)\n",
      "Requirement already satisfied: mistune<2,>=0.8.1 in /Users/matteo-stelluti/opt/anaconda3/lib/python3.9/site-packages (from nbconvert->jupyter->jupyternotify) (0.8.4)\n",
      "Requirement already satisfied: jupyter-core in /Users/matteo-stelluti/opt/anaconda3/lib/python3.9/site-packages (from nbconvert->jupyter->jupyternotify) (4.11.1)\n",
      "Requirement already satisfied: beautifulsoup4 in /Users/matteo-stelluti/opt/anaconda3/lib/python3.9/site-packages (from nbconvert->jupyter->jupyternotify) (4.11.1)\n",
      "Requirement already satisfied: jupyterlab-pygments in /Users/matteo-stelluti/opt/anaconda3/lib/python3.9/site-packages (from nbconvert->jupyter->jupyternotify) (0.1.2)\n",
      "Requirement already satisfied: argon2-cffi in /Users/matteo-stelluti/opt/anaconda3/lib/python3.9/site-packages (from notebook->jupyter->jupyternotify) (21.3.0)\n",
      "Requirement already satisfied: Send2Trash>=1.8.0 in /Users/matteo-stelluti/opt/anaconda3/lib/python3.9/site-packages (from notebook->jupyter->jupyternotify) (1.8.0)\n",
      "Requirement already satisfied: terminado>=0.8.3 in /Users/matteo-stelluti/opt/anaconda3/lib/python3.9/site-packages (from notebook->jupyter->jupyternotify) (0.13.1)\n",
      "Requirement already satisfied: prometheus-client in /Users/matteo-stelluti/opt/anaconda3/lib/python3.9/site-packages (from notebook->jupyter->jupyternotify) (0.14.1)\n",
      "Requirement already satisfied: qtpy>=2.0.1 in /Users/matteo-stelluti/opt/anaconda3/lib/python3.9/site-packages (from qtconsole->jupyter->jupyternotify) (2.2.0)\n",
      "Requirement already satisfied: MarkupSafe>=0.23 in /Users/matteo-stelluti/opt/anaconda3/lib/python3.9/site-packages (from jinja2>=2.4->nbconvert->jupyter->jupyternotify) (2.0.1)\n",
      "Requirement already satisfied: python-dateutil>=2.8.2 in /Users/matteo-stelluti/opt/anaconda3/lib/python3.9/site-packages (from jupyter-client>=6.1.12->ipykernel->jupyter->jupyternotify) (2.8.2)\n",
      "Requirement already satisfied: jsonschema>=2.6 in /Users/matteo-stelluti/opt/anaconda3/lib/python3.9/site-packages (from nbformat>=4.2.0->ipywidgets->jupyter->jupyternotify) (4.16.0)\n",
      "Requirement already satisfied: fastjsonschema in /Users/matteo-stelluti/opt/anaconda3/lib/python3.9/site-packages (from nbformat>=4.2.0->ipywidgets->jupyter->jupyternotify) (2.16.2)\n",
      "Requirement already satisfied: argon2-cffi-bindings in /Users/matteo-stelluti/opt/anaconda3/lib/python3.9/site-packages (from argon2-cffi->notebook->jupyter->jupyternotify) (21.2.0)\n",
      "Requirement already satisfied: soupsieve>1.2 in /Users/matteo-stelluti/opt/anaconda3/lib/python3.9/site-packages (from beautifulsoup4->nbconvert->jupyter->jupyternotify) (2.3.1)\n",
      "Requirement already satisfied: webencodings in /Users/matteo-stelluti/opt/anaconda3/lib/python3.9/site-packages (from bleach->nbconvert->jupyter->jupyternotify) (0.5.1)\n",
      "Requirement already satisfied: six>=1.9.0 in /Users/matteo-stelluti/opt/anaconda3/lib/python3.9/site-packages (from bleach->nbconvert->jupyter->jupyternotify) (1.16.0)\n",
      "Requirement already satisfied: pyparsing!=3.0.5,>=2.0.2 in /Users/matteo-stelluti/opt/anaconda3/lib/python3.9/site-packages (from packaging->ipykernel->jupyter->jupyternotify) (3.0.9)\n",
      "Requirement already satisfied: attrs>=17.4.0 in /Users/matteo-stelluti/opt/anaconda3/lib/python3.9/site-packages (from jsonschema>=2.6->nbformat>=4.2.0->ipywidgets->jupyter->jupyternotify) (21.4.0)\n",
      "Requirement already satisfied: pyrsistent!=0.17.0,!=0.17.1,!=0.17.2,>=0.14.0 in /Users/matteo-stelluti/opt/anaconda3/lib/python3.9/site-packages (from jsonschema>=2.6->nbformat>=4.2.0->ipywidgets->jupyter->jupyternotify) (0.18.0)\n",
      "Requirement already satisfied: cffi>=1.0.1 in /Users/matteo-stelluti/opt/anaconda3/lib/python3.9/site-packages (from argon2-cffi-bindings->argon2-cffi->notebook->jupyter->jupyternotify) (1.15.1)\n",
      "Requirement already satisfied: pycparser in /Users/matteo-stelluti/opt/anaconda3/lib/python3.9/site-packages (from cffi>=1.0.1->argon2-cffi-bindings->argon2-cffi->notebook->jupyter->jupyternotify) (2.21)\n",
      "Building wheels for collected packages: jupyternotify\n",
      "  Building wheel for jupyternotify (setup.py) ... \u001b[?25ldone\n",
      "\u001b[?25h  Created wheel for jupyternotify: filename=jupyternotify-0.1.15-py3-none-any.whl size=8725 sha256=ba3fe4fd50e9c2ee1d92da8993c443048a3b687eacbd0c6ae448c90658d39d9d\n",
      "  Stored in directory: /Users/matteo-stelluti/Library/Caches/pip/wheels/db/f4/43/06c94fe0f5bacf0029ea8ebb8d080f372b97661740be7b3d74\n",
      "Successfully built jupyternotify\n",
      "Installing collected packages: jupyternotify\n",
      "Successfully installed jupyternotify-0.1.15\n"
     ]
    }
   ],
   "source": [
    "!pip install jupyternotify"
   ]
  },
  {
   "cell_type": "code",
   "execution_count": 2,
   "id": "ee6d96d3",
   "metadata": {},
   "outputs": [
    {
     "data": {
      "application/javascript": [
       "if (!(\"Notification\" in window)) {\n",
       "    alert(\"This browser does not support desktop notifications, so the %%notify magic will not work.\");\n",
       "} else if (Notification.permission !== 'granted' && Notification.permission !== 'denied') {\n",
       "    Notification.requestPermission(function (permission) {\n",
       "        if(!('permission' in Notification)) {\n",
       "            Notification.permission = permission;\n",
       "        }\n",
       "    })\n",
       "}\n"
      ],
      "text/plain": [
       "<IPython.core.display.Javascript object>"
      ]
     },
     "metadata": {},
     "output_type": "display_data"
    }
   ],
   "source": [
    "%load_ext jupyternotify"
   ]
  },
  {
   "cell_type": "markdown",
   "id": "5dd0682a",
   "metadata": {},
   "source": [
    "## Data Load"
   ]
  },
  {
   "cell_type": "code",
   "execution_count": 3,
   "id": "4cf484c2",
   "metadata": {},
   "outputs": [],
   "source": [
    "import pandas as pd"
   ]
  },
  {
   "cell_type": "code",
   "execution_count": 4,
   "id": "6b42ac96",
   "metadata": {},
   "outputs": [],
   "source": [
    "dft = pd.read_csv(YOUR FILE PATH, lineterminator='\\n')"
   ]
  },
  {
   "cell_type": "code",
   "execution_count": 5,
   "id": "b4b2f280",
   "metadata": {},
   "outputs": [],
   "source": [
    "dfb = pd.read_csv(YOUR FILE PATH, lineterminator='\\n')"
   ]
  },
  {
   "cell_type": "code",
   "execution_count": 6,
   "id": "bac5bf22",
   "metadata": {},
   "outputs": [],
   "source": [
    "df = pd.concat([dft,dfb],ignore_index=True)"
   ]
  },
  {
   "cell_type": "code",
   "execution_count": 7,
   "id": "8b8147d2",
   "metadata": {},
   "outputs": [],
   "source": [
    "###TEST \n",
    "\n",
    "df = pd.concat([dft[:2000],dfb[:2000]],ignore_index=True)"
   ]
  },
  {
   "cell_type": "markdown",
   "id": "90d6a096",
   "metadata": {},
   "source": [
    "# VERSION 1: TWEETS TOGETHER"
   ]
  },
  {
   "cell_type": "markdown",
   "id": "4aa414a2",
   "metadata": {},
   "source": [
    "## Pre-Processing"
   ]
  },
  {
   "cell_type": "code",
   "execution_count": 8,
   "id": "cc75a960",
   "metadata": {},
   "outputs": [
    {
     "name": "stderr",
     "output_type": "stream",
     "text": [
      "[nltk_data] Downloading package punkt to /Users/matteo-\n",
      "[nltk_data]     stelluti/nltk_data...\n",
      "[nltk_data]   Package punkt is already up-to-date!\n",
      "[nltk_data] Downloading package wordnet to /Users/matteo-\n",
      "[nltk_data]     stelluti/nltk_data...\n",
      "[nltk_data]   Package wordnet is already up-to-date!\n",
      "[nltk_data] Downloading package stopwords to /Users/matteo-\n",
      "[nltk_data]     stelluti/nltk_data...\n",
      "[nltk_data]   Package stopwords is already up-to-date!\n",
      "[nltk_data] Downloading package omw-1.4 to /Users/matteo-\n",
      "[nltk_data]     stelluti/nltk_data...\n",
      "[nltk_data]   Package omw-1.4 is already up-to-date!\n"
     ]
    },
    {
     "data": {
      "text/plain": [
       "True"
      ]
     },
     "execution_count": 8,
     "metadata": {},
     "output_type": "execute_result"
    }
   ],
   "source": [
    "import nltk\n",
    "import re\n",
    "\n",
    "nltk.download('punkt')\n",
    "nltk.download('wordnet')\n",
    "nltk.download('stopwords')\n",
    "nltk.download('omw-1.4')"
   ]
  },
  {
   "cell_type": "markdown",
   "id": "e0aceb63",
   "metadata": {},
   "source": [
    "### Tokenization and Cleaning"
   ]
  },
  {
   "cell_type": "code",
   "execution_count": 10,
   "id": "06d25c6e",
   "metadata": {},
   "outputs": [],
   "source": [
    "def tweet_preprocess(tweet):\n",
    "    # lowercase\n",
    "    tweet = tweet.lower()\n",
    "    \n",
    "    #keep only alphabets\n",
    "    tweet = re.sub(r'[^a-zA-Z]+', ' ', tweet)\n",
    "    tweet = tweet.replace('\\n', '')\n",
    "    \n",
    "    #tokenization\n",
    "    word_list = nltk.word_tokenize(tweet)    \n",
    "    stopwords_list = nltk.corpus.stopwords.words('english')\n",
    "    stopwords_list.extend(['trump','realdonaldtrump','thank','trump','presid','america','american','fjv'])\n",
    "    word_list = [word for word in word_list if word not in stopwords_list]\n",
    "    \n",
    "    #small words removal\n",
    "    word_list = [word for word in word_list if len(word)>3]\n",
    "    \n",
    "    #stemmer and lemmatizer\n",
    "    porter_stemmer = nltk.stem.PorterStemmer()\n",
    "    lemmatizer = nltk.stem.WordNetLemmatizer()\n",
    "    word_list = [porter_stemmer.stem(word) for word in word_list]\n",
    "    word_list = [lemmatizer.lemmatize(word) for word in word_list]\n",
    "    \n",
    "    tweet = ' '.join(word_list)\n",
    "    \n",
    "    return tweet"
   ]
  },
  {
   "cell_type": "code",
   "execution_count": 11,
   "id": "abfa2b93",
   "metadata": {},
   "outputs": [],
   "source": [
    "import tqdm"
   ]
  },
  {
   "cell_type": "code",
   "execution_count": 12,
   "id": "3b7719a7",
   "metadata": {},
   "outputs": [
    {
     "name": "stderr",
     "output_type": "stream",
     "text": [
      "100%|█████████████████████████████████████| 4000/4000 [00:02<00:00, 1386.02it/s]\n"
     ]
    }
   ],
   "source": [
    "tqdm.tqdm.pandas()\n",
    "df['tweet_tokenized'] = df['tweet'].progress_apply(lambda x:tweet_preprocess(str(x)))"
   ]
  },
  {
   "cell_type": "code",
   "execution_count": 13,
   "id": "e0a76d59",
   "metadata": {},
   "outputs": [],
   "source": [
    "performance_metrics = pd.DataFrame(columns=['feature-extraction','clustering-algo','c_v','c_umass','topics'])"
   ]
  },
  {
   "cell_type": "markdown",
   "id": "236f69e8",
   "metadata": {},
   "source": [
    "### TF-IDF"
   ]
  },
  {
   "cell_type": "code",
   "execution_count": 14,
   "id": "f344d2a1",
   "metadata": {},
   "outputs": [],
   "source": [
    "import gensim"
   ]
  },
  {
   "cell_type": "code",
   "execution_count": 15,
   "id": "cac3ca10",
   "metadata": {},
   "outputs": [],
   "source": [
    "documents = df['tweet_tokenized'].str.split()"
   ]
  },
  {
   "cell_type": "code",
   "execution_count": 16,
   "id": "fb369ee1",
   "metadata": {},
   "outputs": [
    {
     "name": "stdout",
     "output_type": "stream",
     "text": [
      "0    [eleccion, florida, joebiden, dice, donaldtrum...\n",
      "1    [contro, facebook, twitter, coprono, biden, do...\n",
      "2    [student, use, hear, year, year, heard, china,...\n",
      "3    [hour, sinc, last, tweet, mayb, busi, tremend,...\n",
      "4                        [ralli, iowa, http, jjaluumh]\n",
      "Name: tweet_tokenized, dtype: object\n"
     ]
    }
   ],
   "source": [
    "print(documents[:5])"
   ]
  },
  {
   "cell_type": "code",
   "execution_count": 17,
   "id": "b7ce07c1",
   "metadata": {},
   "outputs": [],
   "source": [
    "dictionary = gensim.corpora.Dictionary(documents)\n",
    "dictionary.filter_extremes(no_below=5, no_above=0.5, keep_n=20000)\n",
    "\n",
    "tfidf = gensim.models.TfidfModel(dictionary=dictionary)\n",
    "\n",
    "corpus = [dictionary.doc2bow(document) for document in documents]\n",
    "\n",
    "corpus_tfidf = list(tfidf[corpus])"
   ]
  },
  {
   "cell_type": "markdown",
   "id": "f0bc4c9d",
   "metadata": {},
   "source": [
    "## Topics Modelling"
   ]
  },
  {
   "cell_type": "markdown",
   "id": "b9969b4b",
   "metadata": {},
   "source": [
    "### Define HyperParameters"
   ]
  },
  {
   "cell_type": "code",
   "execution_count": 20,
   "id": "de94f292",
   "metadata": {},
   "outputs": [],
   "source": [
    "EPOCHS = 205\n",
    "TOPICS = 10\n",
    "CHUNK_SIZE = 1000\n",
    "WORKERS = 7\n",
    "EVAL_PERIOD = 10\n",
    "ALPHA = 0.01\n",
    "BETA = 0.9"
   ]
  },
  {
   "cell_type": "markdown",
   "id": "890fabea",
   "metadata": {},
   "source": [
    "### Algo 1: LDA - Latent Dirichlet Allocation"
   ]
  },
  {
   "cell_type": "code",
   "execution_count": 19,
   "id": "09f07bf4",
   "metadata": {},
   "outputs": [
    {
     "data": {
      "application/javascript": [
       "$(document).ready(\n",
       "    function() {\n",
       "        function appendUniqueDiv(){\n",
       "            // append a div with our uuid so we can check that it's already\n",
       "            // been sent and avoid duplicates on page reload\n",
       "            var notifiedDiv = document.createElement(\"div\")\n",
       "            notifiedDiv.id = \"e945cdad-9cbc-4281-9fa5-b1ad50a617f5\"\n",
       "            element.append(notifiedDiv)\n",
       "        }\n",
       "\n",
       "        // only send notifications if the pageload is complete; this will\n",
       "        // help stop extra notifications when a saved notebook is loaded,\n",
       "        // which during testing gives us state \"interactive\", not \"complete\"\n",
       "        if (document.readyState === 'complete') {\n",
       "            // check for the div that signifies that the notification\n",
       "            // was already sent\n",
       "            if (document.getElementById(\"e945cdad-9cbc-4281-9fa5-b1ad50a617f5\") === null) {\n",
       "                var notificationPayload = {\"requireInteraction\": false, \"icon\": \"/static/base/images/favicon.ico\", \"body\": \"Cell execution has finished!\"};\n",
       "                if (Notification.permission !== 'denied') {\n",
       "                    if (Notification.permission !== 'granted') { \n",
       "                        Notification.requestPermission(function (permission) {\n",
       "                            if(!('permission' in Notification)) {\n",
       "                                Notification.permission = permission\n",
       "                            }\n",
       "                        })\n",
       "                    }\n",
       "                    if (Notification.permission === 'granted') {\n",
       "                    var notification = new Notification(\"Jupyter Notebook\", notificationPayload)\n",
       "                    appendUniqueDiv()\n",
       "                    notification.onclick = function () {\n",
       "                        window.focus();\n",
       "                        this.close();\n",
       "                        };\n",
       "                    } \n",
       "                }     \n",
       "            }\n",
       "        }\n",
       "    }\n",
       ")\n"
      ],
      "text/plain": [
       "<IPython.core.display.Javascript object>"
      ]
     },
     "metadata": {},
     "output_type": "display_data"
    }
   ],
   "source": [
    "%%notify\n",
    "\n",
    "lda = gensim.models.ldamodel.LdaModel(\n",
    "    corpus = corpus_tfidf,\n",
    "    num_topics = 10,\n",
    "    id2word = dictionary,\n",
    "    chunksize=CHUNK_SIZE, passes=EPOCHS, \n",
    "    eval_every = EVAL_PERIOD, \n",
    "    per_word_topics=True\n",
    "    )"
   ]
  },
  {
   "cell_type": "code",
   "execution_count": 21,
   "id": "ab6b10b0",
   "metadata": {},
   "outputs": [],
   "source": [
    "topics_lda = lda.print_topics()"
   ]
  },
  {
   "cell_type": "code",
   "execution_count": 22,
   "id": "6fc7276c",
   "metadata": {},
   "outputs": [
    {
     "name": "stdout",
     "output_type": "stream",
     "text": [
      "[(0, '0.014*\"town\" + 0.014*\"hall\" + 0.013*\"vote\" + 0.012*\"bidenharri\" + 0.011*\"joebiden\" + 0.009*\"maddow\" + 0.009*\"care\" + 0.009*\"democrat\" + 0.009*\"introduc\" + 0.009*\"unit\"'), (1, '0.036*\"covid\" + 0.018*\"coronaviru\" + 0.014*\"barron\" + 0.014*\"potu\" + 0.012*\"donald\" + 0.012*\"para\" + 0.011*\"never\" + 0.011*\"donaldtrump\" + 0.010*\"guilti\" + 0.009*\"youtub\"'), (2, '0.016*\"iowa\" + 0.014*\"elect\" + 0.012*\"decis\" + 0.011*\"presid\" + 0.010*\"maga\" + 0.009*\"ralli\" + 0.009*\"first\" + 0.008*\"joebiden\" + 0.008*\"reason\" + 0.008*\"show\"'), (3, '0.055*\"biden\" + 0.029*\"vote\" + 0.019*\"boycottnbc\" + 0.018*\"covid\" + 0.018*\"watch\" + 0.017*\"bidentownhal\" + 0.016*\"bidenharristosaveamerica\" + 0.014*\"votebluetosaveamerica\" + 0.014*\"rate\" + 0.013*\"covidiot\"'), (4, '0.037*\"burisma\" + 0.012*\"barackobama\" + 0.012*\"alreadi\" + 0.011*\"great\" + 0.009*\"bombshel\" + 0.009*\"brag\" + 0.009*\"realjameswood\" + 0.008*\"estado\" + 0.008*\"florida\" + 0.008*\"admit\"'), (5, '0.034*\"donaldtrump\" + 0.020*\"icecub\" + 0.015*\"need\" + 0.014*\"trumpcovid\" + 0.013*\"deal\" + 0.013*\"fuck\" + 0.012*\"left\" + 0.012*\"cash\" + 0.011*\"hour\" + 0.011*\"true\"'), (6, '0.035*\"censorship\" + 0.019*\"kamalaharri\" + 0.017*\"joebiden\" + 0.015*\"bidencrimefamili\" + 0.015*\"biden\" + 0.013*\"hunterbiden\" + 0.012*\"bidenharri\" + 0.011*\"go\" + 0.010*\"scandal\" + 0.009*\"hunterbidenemail\"'), (7, '0.037*\"joebiden\" + 0.027*\"hunterbiden\" + 0.027*\"twitter\" + 0.022*\"nypost\" + 0.020*\"biden\" + 0.016*\"facebook\" + 0.016*\"corrupt\" + 0.015*\"hunter\" + 0.014*\"ukrain\" + 0.014*\"censor\"'), (8, '0.032*\"hunterbidenemail\" + 0.026*\"bidenharri\" + 0.020*\"hunterbiden\" + 0.019*\"joebiden\" + 0.017*\"biden\" + 0.015*\"newyorkpost\" + 0.012*\"hunterbidenlaptop\" + 0.012*\"twittercensorship\" + 0.011*\"harri\" + 0.010*\"crook\"'), (9, '0.011*\"like\" + 0.010*\"biden\" + 0.009*\"peopl\" + 0.008*\"joebiden\" + 0.008*\"vote\" + 0.008*\"right\" + 0.008*\"say\" + 0.008*\"million\" + 0.008*\"corrupt\" + 0.007*\"get\"')]\n"
     ]
    }
   ],
   "source": [
    "print(topics_lda)"
   ]
  },
  {
   "cell_type": "code",
   "execution_count": 23,
   "id": "3950b5e8",
   "metadata": {},
   "outputs": [
    {
     "data": {
      "application/javascript": [
       "$(document).ready(\n",
       "    function() {\n",
       "        function appendUniqueDiv(){\n",
       "            // append a div with our uuid so we can check that it's already\n",
       "            // been sent and avoid duplicates on page reload\n",
       "            var notifiedDiv = document.createElement(\"div\")\n",
       "            notifiedDiv.id = \"eb976e60-0091-43d0-85f9-80e3f058f89f\"\n",
       "            element.append(notifiedDiv)\n",
       "        }\n",
       "\n",
       "        // only send notifications if the pageload is complete; this will\n",
       "        // help stop extra notifications when a saved notebook is loaded,\n",
       "        // which during testing gives us state \"interactive\", not \"complete\"\n",
       "        if (document.readyState === 'complete') {\n",
       "            // check for the div that signifies that the notification\n",
       "            // was already sent\n",
       "            if (document.getElementById(\"eb976e60-0091-43d0-85f9-80e3f058f89f\") === null) {\n",
       "                var notificationPayload = {\"requireInteraction\": false, \"icon\": \"/static/base/images/favicon.ico\", \"body\": \"Cell execution has finished!\"};\n",
       "                if (Notification.permission !== 'denied') {\n",
       "                    if (Notification.permission !== 'granted') { \n",
       "                        Notification.requestPermission(function (permission) {\n",
       "                            if(!('permission' in Notification)) {\n",
       "                                Notification.permission = permission\n",
       "                            }\n",
       "                        })\n",
       "                    }\n",
       "                    if (Notification.permission === 'granted') {\n",
       "                    var notification = new Notification(\"Jupyter Notebook\", notificationPayload)\n",
       "                    appendUniqueDiv()\n",
       "                    notification.onclick = function () {\n",
       "                        window.focus();\n",
       "                        this.close();\n",
       "                        };\n",
       "                    } \n",
       "                }     \n",
       "            }\n",
       "        }\n",
       "    }\n",
       ")\n"
      ],
      "text/plain": [
       "<IPython.core.display.Javascript object>"
      ]
     },
     "metadata": {},
     "output_type": "display_data"
    }
   ],
   "source": [
    "%%notify\n",
    "\n",
    "coherence_cv = gensim.models.CoherenceModel(model=lda, texts=documents, dictionary=dictionary, coherence='c_v').get_coherence()\n",
    "coherence_cumass = gensim.models.CoherenceModel(model=lda, texts=documents, dictionary=dictionary, coherence='u_mass').get_coherence()"
   ]
  },
  {
   "cell_type": "code",
   "execution_count": 24,
   "id": "bf52160f",
   "metadata": {},
   "outputs": [
    {
     "name": "stderr",
     "output_type": "stream",
     "text": [
      "/var/folders/wb/bvr0h0rn491g8xxj2w3b9f140000gn/T/ipykernel_47202/2216003462.py:1: FutureWarning: The frame.append method is deprecated and will be removed from pandas in a future version. Use pandas.concat instead.\n",
      "  performance_metrics = performance_metrics.append({'feature-extraction':'tf-idf',\n"
     ]
    }
   ],
   "source": [
    "performance_metrics = performance_metrics.append({'feature-extraction':'tf-idf', \n",
    "                                                  'clustering-algo':'LDA',\n",
    "                                                  'c_v':coherence_cv,\n",
    "                                                  'c_umass':coherence_cumass,\n",
    "                                                  'topics':topics_lda}, \n",
    "                                                   ignore_index=True)"
   ]
  },
  {
   "cell_type": "markdown",
   "id": "b34c5b67",
   "metadata": {},
   "source": [
    "### Algo 2: NMF - NonNegative Matrix Factorization"
   ]
  },
  {
   "cell_type": "code",
   "execution_count": 25,
   "id": "3fda32f5",
   "metadata": {},
   "outputs": [],
   "source": [
    "%%notify\n",
    "\n",
    "nmf = gensim.models.Nmf(corpus=corpus_tfidf, \n",
    "                        num_topics=TOPICS, \n",
    "                        id2word=dictionary, \n",
    "                        chunksize=CHUNK_SIZE, passes=EPOCHS, \n",
    "                        eval_every=EVAL_PERIOD, \n",
    "                        minimum_probability=0, \n",
    "                        kappa=1\n",
    "                       )"
   ]
  },
  {
   "cell_type": "code",
   "execution_count": 26,
   "id": "80276613",
   "metadata": {},
   "outputs": [],
   "source": [
    "topics_nmf = nmf.print_topics()"
   ]
  },
  {
   "cell_type": "code",
   "execution_count": 27,
   "id": "c4aff508",
   "metadata": {},
   "outputs": [
    {
     "name": "stdout",
     "output_type": "stream",
     "text": [
      "[(0, '0.173*\"donaldtrump\" + 0.031*\"icecub\" + 0.018*\"year\" + 0.009*\"donald\" + 0.009*\"elect\" + 0.008*\"maga\" + 0.008*\"twitter\" + 0.007*\"black\" + 0.006*\"landslidevictori\" + 0.006*\"stupid\"'), (1, '0.037*\"rate\" + 0.034*\"townhal\" + 0.032*\"know\" + 0.031*\"boycottnbc\" + 0.031*\"time\" + 0.030*\"watch\" + 0.029*\"tonight\" + 0.029*\"boycotttrumptownhal\" + 0.029*\"bidenharrislandslid\" + 0.029*\"sponsor\"'), (2, '0.053*\"kamalaharri\" + 0.039*\"debat\" + 0.038*\"gavinnewsom\" + 0.038*\"kamalaharrisvp\" + 0.038*\"hunterbidden\" + 0.038*\"ilhanomar\" + 0.038*\"gretchenwhitm\" + 0.038*\"tedwheel\" + 0.037*\"mikep\" + 0.037*\"blacklivesmatt\"'), (3, '0.107*\"covid\" + 0.057*\"votebluedownballot\" + 0.057*\"covidiot\" + 0.055*\"votebluetosaveamerica\" + 0.055*\"trumpattacksblackwomen\" + 0.055*\"acbhear\" + 0.054*\"barrontrump\" + 0.054*\"gophypocrisi\" + 0.052*\"trumpisalaughingstock\" + 0.047*\"bidenharristosaveamerica\"'), (4, '0.204*\"vote\" + 0.029*\"liar\" + 0.025*\"chump\" + 0.013*\"biden\" + 0.012*\"corrupt\" + 0.011*\"kamalaharri\" + 0.011*\"decis\" + 0.011*\"maga\" + 0.009*\"reason\" + 0.009*\"like\"'), (5, '0.305*\"joebiden\" + 0.093*\"hunterbiden\" + 0.040*\"hunterbidenemail\" + 0.017*\"elect\" + 0.015*\"kamalaharri\" + 0.012*\"corrupt\" + 0.012*\"watch\" + 0.008*\"bidencrimefamili\" + 0.007*\"presid\" + 0.007*\"burisma\"'), (6, '0.054*\"twitter\" + 0.052*\"nypost\" + 0.049*\"hunterbiden\" + 0.032*\"facebook\" + 0.031*\"censorship\" + 0.030*\"censor\" + 0.028*\"hunterbidenemail\" + 0.027*\"stori\" + 0.016*\"hunter\" + 0.014*\"email\"'), (7, '0.203*\"bidenharri\" + 0.024*\"bidenharristosaveamerica\" + 0.020*\"kamalaharri\" + 0.016*\"trumppenc\" + 0.012*\"watch\" + 0.012*\"tosaveamerica\" + 0.011*\"landslid\" + 0.009*\"votebiden\" + 0.009*\"presid\" + 0.009*\"dumptrump\"'), (8, '0.026*\"democrat\" + 0.017*\"elect\" + 0.014*\"covid\" + 0.012*\"republican\" + 0.011*\"ukrain\" + 0.008*\"coronaviru\" + 0.008*\"peopl\" + 0.007*\"care\" + 0.007*\"state\" + 0.007*\"harri\"'), (9, '0.357*\"biden\" + 0.028*\"hunter\" + 0.021*\"corrupt\" + 0.010*\"elect\" + 0.006*\"yesterday\" + 0.006*\"bidencrimefamili\" + 0.006*\"youtub\" + 0.005*\"harri\" + 0.005*\"bidencar\" + 0.005*\"lie\"')]\n"
     ]
    }
   ],
   "source": [
    "print(topics_nmf)"
   ]
  },
  {
   "cell_type": "code",
   "execution_count": 28,
   "id": "62c46aa2",
   "metadata": {},
   "outputs": [],
   "source": [
    "%%notify\n",
    "\n",
    "coherence_cv = gensim.models.CoherenceModel(model=nmf, texts=documents, dictionary=dictionary, coherence='c_v').get_coherence()\n",
    "coherence_cumass = gensim.models.CoherenceModel(model=nmf, texts=documents, dictionary=dictionary, coherence='u_mass').get_coherence()"
   ]
  },
  {
   "cell_type": "code",
   "execution_count": 29,
   "id": "fbb67479",
   "metadata": {},
   "outputs": [
    {
     "name": "stderr",
     "output_type": "stream",
     "text": [
      "/var/folders/wb/bvr0h0rn491g8xxj2w3b9f140000gn/T/ipykernel_47202/1051443423.py:1: FutureWarning: The frame.append method is deprecated and will be removed from pandas in a future version. Use pandas.concat instead.\n",
      "  performance_metrics = performance_metrics.append({'feature-extraction':'tf-idf',\n"
     ]
    }
   ],
   "source": [
    "performance_metrics = performance_metrics.append({'feature-extraction':'tf-idf', \n",
    "                                                  'clustering-algo':'NMF',\n",
    "                                                  'c_v':coherence_cv,\n",
    "                                                  'c_umass':coherence_cumass,\n",
    "                                                  'topics':topics_nmf}, \n",
    "                                                   ignore_index=True)"
   ]
  },
  {
   "cell_type": "markdown",
   "id": "42106e12",
   "metadata": {},
   "source": [
    "### Algo Evaluation"
   ]
  },
  {
   "cell_type": "code",
   "execution_count": 30,
   "id": "9bd09125",
   "metadata": {},
   "outputs": [
    {
     "data": {
      "text/html": [
       "<div>\n",
       "<style scoped>\n",
       "    .dataframe tbody tr th:only-of-type {\n",
       "        vertical-align: middle;\n",
       "    }\n",
       "\n",
       "    .dataframe tbody tr th {\n",
       "        vertical-align: top;\n",
       "    }\n",
       "\n",
       "    .dataframe thead th {\n",
       "        text-align: right;\n",
       "    }\n",
       "</style>\n",
       "<table border=\"1\" class=\"dataframe\">\n",
       "  <thead>\n",
       "    <tr style=\"text-align: right;\">\n",
       "      <th></th>\n",
       "      <th>feature-extraction</th>\n",
       "      <th>clustering-algo</th>\n",
       "      <th>c_v</th>\n",
       "      <th>c_umass</th>\n",
       "      <th>topics</th>\n",
       "    </tr>\n",
       "  </thead>\n",
       "  <tbody>\n",
       "    <tr>\n",
       "      <th>0</th>\n",
       "      <td>tf-idf</td>\n",
       "      <td>LDA</td>\n",
       "      <td>0.430409</td>\n",
       "      <td>-9.852635</td>\n",
       "      <td>[(0, 0.014*\"town\" + 0.014*\"hall\" + 0.013*\"vote...</td>\n",
       "    </tr>\n",
       "    <tr>\n",
       "      <th>1</th>\n",
       "      <td>tf-idf</td>\n",
       "      <td>NMF</td>\n",
       "      <td>0.491805</td>\n",
       "      <td>-7.589611</td>\n",
       "      <td>[(0, 0.173*\"donaldtrump\" + 0.031*\"icecub\" + 0....</td>\n",
       "    </tr>\n",
       "  </tbody>\n",
       "</table>\n",
       "</div>"
      ],
      "text/plain": [
       "  feature-extraction clustering-algo       c_v   c_umass  \\\n",
       "0             tf-idf             LDA  0.430409 -9.852635   \n",
       "1             tf-idf             NMF  0.491805 -7.589611   \n",
       "\n",
       "                                              topics  \n",
       "0  [(0, 0.014*\"town\" + 0.014*\"hall\" + 0.013*\"vote...  \n",
       "1  [(0, 0.173*\"donaldtrump\" + 0.031*\"icecub\" + 0....  "
      ]
     },
     "execution_count": 30,
     "metadata": {},
     "output_type": "execute_result"
    }
   ],
   "source": [
    "performance_metrics"
   ]
  },
  {
   "cell_type": "code",
   "execution_count": 31,
   "id": "0ebc57c2",
   "metadata": {},
   "outputs": [],
   "source": [
    "mean_perf = performance_metrics.groupby('clustering-algo')[['c_v','c_umass']].mean()"
   ]
  },
  {
   "cell_type": "code",
   "execution_count": 32,
   "id": "0f49d539",
   "metadata": {},
   "outputs": [],
   "source": [
    "performance_metrics.to_csv('/Users/matteo-stelluti/Desktop/Assistant Research/2020 Elections/test_performance.csv')"
   ]
  },
  {
   "cell_type": "code",
   "execution_count": 33,
   "id": "54c80afc",
   "metadata": {},
   "outputs": [
    {
     "name": "stdout",
     "output_type": "stream",
     "text": [
      "                      c_v   c_umass\n",
      "clustering-algo                    \n",
      "LDA              0.430409 -9.852635\n",
      "NMF              0.491805 -7.589611\n"
     ]
    }
   ],
   "source": [
    "print(mean_perf)"
   ]
  },
  {
   "cell_type": "markdown",
   "id": "4a4070e5",
   "metadata": {},
   "source": [
    "## LDA Visualization"
   ]
  },
  {
   "cell_type": "markdown",
   "id": "8bf6530c",
   "metadata": {},
   "source": [
    "__NOTE__: not available for NMF"
   ]
  },
  {
   "cell_type": "code",
   "execution_count": 34,
   "id": "fc0f079f",
   "metadata": {},
   "outputs": [
    {
     "name": "stderr",
     "output_type": "stream",
     "text": [
      "/Users/matteo-stelluti/opt/anaconda3/lib/python3.9/site-packages/past/builtins/misc.py:45: DeprecationWarning: the imp module is deprecated in favour of importlib; see the module's documentation for alternative uses\n",
      "  from imp import reload\n"
     ]
    }
   ],
   "source": [
    "import pyLDAvis\n",
    "import pyLDAvis.gensim_models as gensimviz\n",
    "pyLDAvis.enable_notebook() #This is only needed on Jupyter Notebook"
   ]
  },
  {
   "cell_type": "markdown",
   "id": "eb6516b9",
   "metadata": {},
   "source": [
    "### LDA"
   ]
  },
  {
   "cell_type": "code",
   "execution_count": 35,
   "id": "ab9ea76f",
   "metadata": {},
   "outputs": [
    {
     "name": "stderr",
     "output_type": "stream",
     "text": [
      "/Users/matteo-stelluti/opt/anaconda3/lib/python3.9/site-packages/pyLDAvis/_prepare.py:246: FutureWarning: In a future version of pandas all arguments of DataFrame.drop except for the argument 'labels' will be keyword-only.\n",
      "  default_term_info = default_term_info.sort_values(\n",
      "/Users/matteo-stelluti/opt/anaconda3/lib/python3.9/site-packages/past/builtins/misc.py:45: DeprecationWarning: the imp module is deprecated in favour of importlib; see the module's documentation for alternative uses\n",
      "  from imp import reload\n",
      "/Users/matteo-stelluti/opt/anaconda3/lib/python3.9/site-packages/past/builtins/misc.py:45: DeprecationWarning: the imp module is deprecated in favour of importlib; see the module's documentation for alternative uses\n",
      "  from imp import reload\n",
      "/Users/matteo-stelluti/opt/anaconda3/lib/python3.9/site-packages/past/builtins/misc.py:45: DeprecationWarning: the imp module is deprecated in favour of importlib; see the module's documentation for alternative uses\n",
      "  from imp import reload\n",
      "/Users/matteo-stelluti/opt/anaconda3/lib/python3.9/site-packages/past/builtins/misc.py:45: DeprecationWarning: the imp module is deprecated in favour of importlib; see the module's documentation for alternative uses\n",
      "  from imp import reload\n",
      "/Users/matteo-stelluti/opt/anaconda3/lib/python3.9/site-packages/past/builtins/misc.py:45: DeprecationWarning: the imp module is deprecated in favour of importlib; see the module's documentation for alternative uses\n",
      "  from imp import reload\n",
      "/Users/matteo-stelluti/opt/anaconda3/lib/python3.9/site-packages/past/builtins/misc.py:45: DeprecationWarning: the imp module is deprecated in favour of importlib; see the module's documentation for alternative uses\n",
      "  from imp import reload\n",
      "/Users/matteo-stelluti/opt/anaconda3/lib/python3.9/site-packages/past/builtins/misc.py:45: DeprecationWarning: the imp module is deprecated in favour of importlib; see the module's documentation for alternative uses\n",
      "  from imp import reload\n",
      "/Users/matteo-stelluti/opt/anaconda3/lib/python3.9/site-packages/past/builtins/misc.py:45: DeprecationWarning: the imp module is deprecated in favour of importlib; see the module's documentation for alternative uses\n",
      "  from imp import reload\n",
      "/Users/matteo-stelluti/opt/anaconda3/lib/python3.9/site-packages/past/builtins/misc.py:45: DeprecationWarning: the imp module is deprecated in favour of importlib; see the module's documentation for alternative uses\n",
      "  from imp import reload\n"
     ]
    },
    {
     "data": {
      "text/html": [
       "\n",
       "<link rel=\"stylesheet\" type=\"text/css\" href=\"https://cdn.jsdelivr.net/gh/bmabey/pyLDAvis@3.3.1/pyLDAvis/js/ldavis.v1.0.0.css\">\n",
       "\n",
       "\n",
       "<div id=\"ldavis_el47202140609781772064477832361\"></div>\n",
       "<script type=\"text/javascript\">\n",
       "\n",
       "var ldavis_el47202140609781772064477832361_data = {\"mdsDat\": {\"x\": [0.1741916471482296, 0.10192503146811278, 0.04249333746425378, -0.01401334755074473, -0.05270688035879589, 0.09871342456147392, -0.16867909714702983, 0.10498764791304453, -0.16265649845317698, -0.12425526504536685], \"y\": [-0.0750551016720944, -0.12534293397476357, 0.04111417743493747, 0.25847997354819147, -0.11511495508404938, 0.05867538149371448, 0.009441227384324631, 0.03798089088525479, -0.058984755533215714, -0.031193904482299705], \"topics\": [1, 2, 3, 4, 5, 6, 7, 8, 9, 10], \"cluster\": [1, 1, 1, 1, 1, 1, 1, 1, 1, 1], \"Freq\": [21.856220487576515, 17.59794083079666, 10.116512533248807, 9.285016883073123, 8.837944961031088, 7.228903092915863, 6.99854211901396, 6.751594414457933, 5.984280760617149, 5.3430439172689015]}, \"tinfo\": {\"Term\": [\"covid\", \"hunterbidenemail\", \"hunterbiden\", \"censorship\", \"burisma\", \"biden\", \"donaldtrump\", \"bidenharri\", \"twitter\", \"nypost\", \"censor\", \"boycottnbc\", \"facebook\", \"vote\", \"bidentownhal\", \"kamalaharri\", \"watch\", \"bidenharristosaveamerica\", \"iowa\", \"hunter\", \"icecub\", \"coronaviru\", \"town\", \"hall\", \"ukrain\", \"corrupt\", \"email\", \"votebluetosaveamerica\", \"rate\", \"liar\", \"censor\", \"york\", \"smoke\", \"liar\", \"block\", \"probabl\", \"social\", \"tomorrow\", \"washingtonpost\", \"crack\", \"chump\", \"inform\", \"messag\", \"email\", \"becom\", \"jack\", \"facebook\", \"twittersafeti\", \"fnrnn\", \"seanhann\", \"interfer\", \"ukraineg\", \"deni\", \"involv\", \"choic\", \"healthcar\", \"tune\", \"nypost\", \"biggest\", \"rvat\", \"twitter\", \"post\", \"dem\", \"ukrain\", \"link\", \"stori\", \"hunter\", \"hunterbiden\", \"corrupt\", \"joebiden\", \"landslidevictori\", \"tri\", \"medium\", \"articl\", \"still\", \"biden\", \"video\", \"elect\", \"maga\", \"hunterbidenemail\", \"news\", \"vote\", \"donaldtrump\", \"prosecutor\", \"fire\", \"administr\", \"donat\", \"next\", \"russia\", \"crimin\", \"month\", \"earli\", \"explain\", \"drive\", \"projectlincoln\", \"court\", \"answer\", \"rais\", \"wise\", \"high\", \"heard\", \"alleg\", \"georgia\", \"speech\", \"team\", \"bia\", \"interest\", \"attent\", \"foreign\", \"hollywood\", \"access\", \"rise\", \"kayleigh\", \"spread\", \"agre\", \"pandem\", \"actual\", \"million\", \"question\", \"mean\", \"hard\", \"point\", \"right\", \"rememb\", \"get\", \"much\", \"account\", \"like\", \"say\", \"mani\", \"money\", \"american\", \"peopl\", \"year\", \"call\", \"investig\", \"look\", \"good\", \"think\", \"presid\", \"corrupt\", \"biden\", \"vote\", \"hunter\", \"lie\", \"joebiden\", \"make\", \"time\", \"give\", \"know\", \"town\", \"hall\", \"introduc\", \"yesterday\", \"ballot\", \"night\", \"mayb\", \"unit\", \"hell\", \"guess\", \"thursday\", \"bidencar\", \"businessman\", \"blue\", \"slaughter\", \"usual\", \"justic\", \"mastermind\", \"maidan\", \"takeov\", \"tucker\", \"second\", \"reward\", \"hilari\", \"cancel\", \"fourmoreyear\", \"network\", \"definit\", \"electiontwitt\", \"debt\", \"reveal\", \"maddow\", \"presidenti\", \"race\", \"wake\", \"schedul\", \"drop\", \"care\", \"votebiden\", \"state\", \"teamtrump\", \"bidenharri\", \"nbcnew\", \"vote\", \"democrat\", \"kamalaharri\", \"ukrainian\", \"republican\", \"joebiden\", \"elect\", \"want\", \"biden\", \"watch\", \"bidenharristosaveamerica\", \"today\", \"votebluetosaveamerica\", \"rate\", \"covidiot\", \"votebluedownballot\", \"barrontrump\", \"gophypocrisi\", \"trumpattacksblackwomen\", \"acbhear\", \"trend\", \"disgust\", \"presssec\", \"boycotttrumptownhal\", \"worst\", \"cave\", \"boycot\", \"sponsor\", \"hack\", \"votebluetoendthisnightmar\", \"savannahguthri\", \"nunl\", \"factcheck\", \"presidenttrump\", \"bidenharrislandslid\", \"action\", \"relat\", \"suppos\", \"boycottnbc\", \"corona\", \"act\", \"soon\", \"votehimout\", \"bidentownhal\", \"bidenharristosaveamerica\", \"townhal\", \"tonight\", \"biden\", \"watch\", \"around\", \"vote\", \"trumpisalaughingstock\", \"covid\", \"time\", \"know\", \"joebiden\", \"everyon\", \"lie\", \"decis\", \"first\", \"releas\", \"billion\", \"sleepyjo\", \"voteearli\", \"hand\", \"politician\", \"accus\", \"leav\", \"aid\", \"air\", \"absolut\", \"appar\", \"moin\", \"put\", \"dbongino\", \"late\", \"northcarolina\", \"demand\", \"energi\", \"former\", \"pull\", \"term\", \"fall\", \"kick\", \"comment\", \"hunterlaptop\", \"return\", \"awesom\", \"iowa\", \"evid\", \"part\", \"event\", \"everyth\", \"reason\", \"leak\", \"turn\", \"done\", \"donaldjtrumpjr\", \"ralli\", \"show\", \"follow\", \"win\", \"presid\", \"elect\", \"polit\", \"maga\", \"trumppenc\", \"noth\", \"joebiden\", \"donaldtrump\", \"would\", \"biden\", \"bidencrimefamili\", \"bidenemail\", \"hillari\", \"mikep\", \"riot\", \"tedwheel\", \"joebidenisaliar\", \"california\", \"half\", \"gavinnewsom\", \"gretchenwhitm\", \"hunterbidden\", \"ilhanomar\", \"kamalaharrisvp\", \"burismag\", \"bideng\", \"centuri\", \"becam\", \"experienc\", \"thedemocrat\", \"music\", \"bidenli\", \"burismabiden\", \"kixih\", \"group\", \"antifa\", \"eeuu\", \"influenc\", \"came\", \"joewillleadu\", \"censorship\", \"scandal\", \"wors\", \"tuckercarlson\", \"begin\", \"kamalaharri\", \"blacklivesmatt\", \"made\", \"go\", \"debat\", \"surpris\", \"landslid\", \"obama\", \"face\", \"joebiden\", \"bidenharri\", \"biden\", \"hunterbiden\", \"hunterbidenemail\", \"break\", \"elect\", \"almost\", \"think\", \"barron\", \"para\", \"guilti\", \"whereshunt\", \"desper\", \"quid\", \"hijo\", \"melania\", \"scare\", \"littl\", \"dead\", \"miss\", \"activ\", \"anymor\", \"copi\", \"pelosi\", \"listen\", \"recov\", \"count\", \"vaccin\", \"dknight\", \"quidprojo\", \"minnesota\", \"octobersurpris\", \"coronaviru\", \"huge\", \"penc\", \"special\", \"conspiraci\", \"trumpviru\", \"kill\", \"covid\", \"wisconsin\", \"donald\", \"promis\", \"test\", \"votebidenharri\", \"case\", \"potu\", \"posit\", \"youtub\", \"never\", \"death\", \"donaldtrump\", \"fail\", \"stop\", \"famili\", \"democrat\", \"newyorkpost\", \"hunterbidenlaptop\", \"trumpral\", \"twittercensorship\", \"hunterscrackpip\", \"hillaryclinton\", \"whole\", \"jail\", \"liter\", \"russian\", \"ignor\", \"fight\", \"campa\", \"taken\", \"threat\", \"vou\", \"joebidenissick\", \"worri\", \"own\", \"worth\", \"rule\", \"machin\", \"crook\", \"import\", \"pour\", \"meme\", \"base\", \"abcnew\", \"trumpli\", \"will\", \"child\", \"candid\", \"wonder\", \"hunterbidenemail\", \"bidenharri\", \"harri\", \"washington\", \"enough\", \"hunterbiden\", \"also\", \"keep\", \"joebiden\", \"china\", \"biden\", \"censorship\", \"share\", \"potu\", \"elect\", \"burisma\", \"barackobama\", \"brag\", \"realjameswood\", \"admit\", \"iran\", \"unido\", \"known\", \"wear\", \"bombshel\", \"fair\", \"theplumlineg\", \"cheer\", \"entr\", \"apolog\", \"host\", \"americaortrump\", \"khrzuhsrqi\", \"consid\", \"prison\", \"mental\", \"sexual\", \"serious\", \"trumptax\", \"est\", \"votevet\", \"loser\", \"americaneedspennsylvania\", \"obamabideng\", \"pretti\", \"train\", \"estado\", \"told\", \"alreadi\", \"great\", \"florida\", \"eleccion\", \"dollar\", \"mask\", \"seem\", \"clinton\", \"swamp\", \"crowd\", \"would\", \"ohio\", \"deal\", \"year\", \"left\", \"cash\", \"hour\", \"run\", \"prove\", \"herd\", \"either\", \"system\", \"lindseygrahamsc\", \"funder\", \"trumpcovid\", \"announc\", \"boycottmsnbc\", \"doubt\", \"revel\", \"babi\", \"short\", \"suprem\", \"supremecourt\", \"fuck\", \"murder\", \"como\", \"hundr\", \"immun\", \"devil\", \"march\", \"kid\", \"phone\", \"barrett\", \"past\", \"photo\", \"true\", \"deal\", \"icecub\", \"drug\", \"someth\", \"donaldtrump\", \"day\", \"woman\", \"friend\", \"need\", \"el\", \"shit\", \"insid\", \"save\", \"countri\", \"covid\", \"well\", \"want\"], \"Freq\": [210.0, 178.0, 368.0, 135.0, 89.0, 614.0, 218.0, 195.0, 263.0, 210.0, 121.0, 80.0, 151.0, 330.0, 79.0, 120.0, 141.0, 87.0, 73.0, 181.0, 69.0, 62.0, 59.0, 58.0, 148.0, 206.0, 110.0, 53.0, 53.0, 103.0, 118.5094344011239, 50.68934743466983, 42.41786406148871, 97.34588351761535, 60.02294133198273, 37.526058363259864, 36.57893928612513, 34.35489872341189, 33.78955315125425, 33.77206839996303, 31.42462470016384, 31.231914226730872, 30.95159386245658, 101.63850678863963, 29.081279917145263, 74.25770309106976, 136.99992918020968, 24.801171213296584, 24.700696268192626, 24.25992410356411, 24.013848505861777, 23.65467646761605, 22.586817559226233, 22.522036852715207, 22.02083239763858, 21.833993077951757, 21.440415880738303, 186.8561430670005, 20.907128986202967, 20.55191131356636, 225.94596392405447, 92.9716541797492, 29.082543254781026, 121.89153578338993, 48.57511427831033, 112.45985302537918, 128.40955800210884, 233.57075703843657, 132.65365168257304, 315.43923376040686, 50.55645936455046, 52.90313476497242, 55.193296597800774, 47.64767792233468, 44.610329103919966, 168.91506946937199, 44.59096320724634, 88.7706961529801, 69.6944245827307, 66.8388934159083, 48.95767984450108, 65.55498595042546, 49.76045368606107, 48.921368273827824, 48.38154453738467, 41.29896795881267, 34.06396767193951, 33.665528316625725, 33.4452519673978, 32.42615179212498, 30.762743295360494, 29.71811427741369, 27.573567132960978, 26.54212344657262, 26.267718680608397, 25.68360211514164, 24.851000243825005, 20.357665647386323, 20.27486272181342, 20.041252765835406, 18.949866043098453, 26.94193713753373, 18.071856887285502, 17.92627934751058, 17.238154909708246, 16.646691547648828, 26.798983909215305, 16.418980712198774, 16.14592796088528, 16.127332976367004, 16.036649144640126, 15.69076138708909, 15.6504815543814, 25.580986116379282, 23.757052983907535, 24.64366050647922, 37.99077624258306, 53.550889647903674, 40.126742558202935, 31.68475032417065, 30.528615173390158, 31.655235589248043, 54.480119113468334, 30.38482012462882, 50.788331504658814, 44.84156840382692, 33.31896295739242, 77.5584161007147, 54.02268536416112, 42.30691401321694, 38.67262848034296, 41.05978891418488, 60.802853892186974, 49.95212319803562, 43.33183359117275, 38.506965232348776, 41.7120466991772, 34.46513656626515, 44.490334767592024, 49.0873440157743, 53.3218028824494, 67.02885584910221, 56.109494467857175, 47.389717431233834, 40.697327816664064, 56.374591378242414, 39.50356584305657, 37.74093732772555, 34.643506838747946, 34.77640605245845, 56.75648012214702, 56.131908656597126, 35.059547119848474, 28.237190882897288, 26.712139950690318, 25.7618241831589, 25.72635383255315, 35.044171135306826, 22.73756709772121, 22.472967447667607, 22.31778328894767, 22.163915291040905, 21.480580361440968, 20.616546450894663, 20.075947145081138, 19.598532723765267, 19.4475170186514, 19.090076704663463, 17.40315449027352, 17.40315449027352, 17.29347686663305, 16.64240987407254, 16.521334077818814, 16.432674699141934, 16.345489127280924, 16.261524299916776, 15.912681192354727, 15.827689832880024, 15.684582091203533, 15.423146359762098, 26.29548523176091, 36.41050737157077, 32.211833393402465, 22.939383310656115, 24.42329230234653, 18.158914926459147, 21.37871354730598, 35.70622202145026, 28.289423036393938, 31.713455719914638, 22.77820310455471, 47.65045839091727, 24.374475201210522, 51.054174904114284, 35.5873422706759, 33.29473678157025, 26.76710157974521, 27.756328413545784, 41.76394931801786, 34.60502803078407, 26.765697430465416, 34.30573159539374, 26.864228015241103, 25.34587703814855, 22.848678200130347, 50.825818308419564, 50.48493155665321, 45.32601293805562, 45.19475666596554, 43.38403722556821, 38.09363352472616, 36.72020057304936, 35.95811470532863, 28.390124633204444, 26.879960790008457, 23.75107950963838, 22.66223086990156, 21.92543020666763, 21.40078029966339, 21.14563342354119, 20.20376670672539, 20.002711560555614, 17.64670387371432, 16.934172228693313, 16.527330949926405, 16.34588113264642, 16.34482793296522, 41.46265442697515, 16.064469879170883, 16.044820807163344, 15.658722178347709, 67.88390133027626, 15.097487883056463, 14.445360436364648, 14.140430527388354, 39.09077808295643, 61.33945310551654, 58.009504901983455, 38.53611198503803, 29.40019023544687, 197.85764539707463, 64.45549746325476, 28.215409573630268, 106.16225867640318, 40.29886877925069, 65.92548157037025, 34.828226609004794, 28.461398996294374, 33.65456511123458, 22.85502697895471, 22.1042705787311, 40.3582573628274, 31.36641130787222, 27.73037982839858, 24.571789008039843, 22.243991952203295, 20.91719708219561, 20.428021224547166, 20.11444096176801, 19.92982617501269, 19.030720679616454, 18.317110751433162, 17.46373217455857, 17.32761636263787, 16.25694924686825, 16.07120065545112, 15.209384201792517, 15.123658640561802, 14.909441623335356, 14.635695057106847, 14.50964736652626, 14.474057430362327, 14.245751128651978, 13.927829418926258, 13.805074245838156, 13.645632164561633, 12.756797370010764, 21.34331226191644, 11.992444878954439, 11.813340575025794, 11.675801902311283, 56.304425627352714, 26.488396109364697, 27.178992044899864, 18.79587097981549, 24.779848569158013, 28.11692394428703, 24.42566592870156, 20.01243537484244, 21.192083858761983, 26.362181871206666, 32.35864732601924, 28.02786903292651, 20.57456227424807, 22.00534208508245, 38.297259917537254, 48.56230134810637, 26.637262419473714, 33.753079729496136, 25.052166669626164, 23.413392955853176, 28.84984538435841, 24.813491179801098, 22.567629126389466, 26.401170018518, 42.484316786353766, 25.48883590240958, 20.20790446210385, 18.90367977318371, 18.84467303539104, 17.9816916359913, 17.89233011792853, 16.481963247700595, 16.168917623659386, 15.898838147129169, 15.898838147129169, 15.898838147129169, 15.898838147129169, 15.898838147129169, 15.703698589853841, 15.322562323593743, 15.160840007806756, 14.935145261122585, 14.756186449539696, 14.647042060741649, 14.426686318302792, 14.039136959602788, 13.63619932271977, 13.509857734035382, 12.769421938456706, 12.738471170224974, 12.54132883142583, 18.727268646403846, 11.327402213079598, 11.29941566629221, 97.85107971609933, 28.614896240405766, 24.659592661092905, 21.495875052967044, 20.165792345693923, 54.62557920202163, 22.120393154803484, 23.437026182098467, 29.906172927126462, 25.386108535642396, 17.220244317571826, 19.14738514508208, 24.440664670034664, 17.90828818680014, 47.47226709403873, 32.93396729395398, 42.1348399245611, 36.04376960430227, 26.146468667230756, 18.878074558515554, 25.702272945038878, 18.32045250324743, 20.709921495483393, 37.197289568012344, 32.066143115771474, 26.637152690503257, 23.836899413748792, 21.59782846502172, 18.68932696847934, 17.818408212964467, 17.047120783650755, 16.0255110104885, 15.619233671762466, 14.789913144404514, 14.222505602158229, 13.456293199795832, 13.12601445307188, 13.081062040435642, 12.47880395079404, 12.070553413183386, 11.911193508919515, 11.849801153905252, 11.116930232953148, 10.978769535472171, 10.960986651179743, 10.9512309834295, 10.767889611230517, 50.15575838494361, 10.538236398886095, 21.11121428661733, 10.132759879630264, 10.058281766717293, 24.063791923026493, 18.75445014040784, 97.92690845407002, 18.02054062698369, 32.92562086849905, 16.408031338993162, 23.05190611454757, 24.80169221851356, 18.170155008478726, 36.84002390260999, 19.658710377333005, 25.753938217517128, 30.59151427015042, 18.375400663668735, 29.697013505343527, 14.331557811723039, 15.49151596452239, 15.740047719151727, 16.427968763712947, 40.68476583920602, 32.19133454365427, 21.82605200033297, 31.590742457627158, 19.501558892669916, 18.93383647883105, 18.747795210816637, 17.56908690661422, 17.245517354455615, 16.848393530648718, 15.510445684585683, 15.256967026006102, 14.537580215839952, 14.367568846391961, 13.925901894537793, 13.765200418098308, 13.654708748341498, 13.635049092540354, 13.524059508663377, 13.369521401603246, 13.350039135353512, 13.30122397755779, 26.921286711444502, 13.103877489925557, 13.130684109584218, 12.690414253369433, 11.569692758458768, 11.364703839601287, 11.326499023732342, 10.848441522938483, 26.20507089243184, 16.88277284908828, 19.43600550147835, 83.5572317510371, 69.2387973636334, 29.07071957601356, 21.298967697657915, 15.721594302693866, 52.923783629670474, 19.6883488669289, 19.830155297702632, 50.51651688719066, 22.644686429448942, 44.9476202660316, 20.530826898506874, 16.48126566829722, 16.320123776419752, 16.099891589903137, 86.71241365242399, 29.086779125056484, 20.46805323406442, 20.173928062490642, 17.555083285288926, 17.396778257976653, 17.351340056811566, 16.253771763066332, 13.33382083063532, 20.749274754581865, 12.57760940869174, 12.433255505286256, 12.244353644204528, 11.782848600302476, 11.662436933478824, 11.466391437677842, 11.38410084283204, 11.295536254287757, 11.270940160429708, 11.123622754642968, 11.087368916876798, 10.817162126395505, 10.631902564801024, 10.601426092818732, 10.46626848055684, 10.367373380784516, 10.36295686223389, 10.297165591293396, 10.132402232410408, 10.132021628921267, 15.864444755207447, 19.00901246929518, 14.389511897170843, 28.74119766295941, 24.565099071343393, 17.55591605873525, 17.05070667400753, 14.458930286832636, 13.088751219884102, 13.13844328853608, 13.82343848439338, 12.590077154897262, 12.52535070625402, 14.874327007187013, 12.143257333369654, 12.82605023382398, 12.223042017493508, 25.487021973658905, 24.127054605797337, 23.756994944367918, 22.42793478159923, 19.34463417018819, 16.95284983972167, 16.74781707189306, 13.739751359234303, 13.682757365479983, 12.82228059945826, 30.10142393366821, 11.123163679708695, 10.758022217811659, 10.120465750043806, 10.113735174620746, 9.275313822683128, 9.2369702611713, 9.155362034166714, 9.106162612151614, 27.57122326714952, 9.04480904113463, 9.012209510690841, 8.548678886258745, 18.513260946714304, 8.509231634300672, 8.406023991633194, 20.0442829070524, 8.217829280156405, 13.628460636272361, 7.883270209190221, 14.105955849297985, 23.39758880019329, 27.619088579133987, 41.126011597985595, 17.992557220867752, 18.641267739189267, 70.7510962891482, 16.70800095497006, 20.03765495547785, 15.68828682944273, 30.791923657622768, 14.55949032999546, 17.399583070081544, 15.034697805718913, 14.874334488328238, 17.382940579931606, 18.450757214074393, 14.555695183899605, 14.219572067393152], \"Total\": [210.0, 178.0, 368.0, 135.0, 89.0, 614.0, 218.0, 195.0, 263.0, 210.0, 121.0, 80.0, 151.0, 330.0, 79.0, 120.0, 141.0, 87.0, 73.0, 181.0, 69.0, 62.0, 59.0, 58.0, 148.0, 206.0, 110.0, 53.0, 53.0, 103.0, 121.19362706908633, 53.373585682145254, 45.10201281884639, 103.84237918272001, 64.03631553905956, 40.21120819974185, 39.26314902469173, 37.03950024767491, 36.473962214693174, 36.456351102077605, 34.108618202745916, 33.91621623921799, 33.63586316889882, 110.74858744957467, 31.76594534488053, 82.18943815937791, 151.79679769241383, 27.485297452592302, 27.384689770774695, 26.94426716727572, 26.698219422400825, 26.33895219872867, 25.271625632987618, 25.206310368399066, 24.705152281559325, 24.519337036798294, 24.125601068391514, 210.2806309894003, 23.59147860631172, 23.23598881639148, 263.83180294025567, 108.52125655745589, 33.108431335044706, 148.30572593444313, 59.00695149540512, 151.06400746986304, 181.19103203374831, 368.17735584358104, 206.2391233087778, 605.6440551758019, 65.61046864394854, 72.40931779607092, 77.18296061575037, 64.23855099901172, 58.618709219778125, 614.9282669394505, 64.67001956091491, 256.0304649109083, 167.79336248975784, 178.66062343965075, 85.6363706302519, 330.3028299614093, 218.9864120486281, 51.62323825685318, 51.08342967694882, 44.00106078410378, 36.7660213320454, 36.36764465086414, 36.14716963256227, 35.12802510026834, 33.46473835163105, 32.42013730830708, 30.275467194484122, 29.24400431059668, 28.970159149478537, 28.386266855267362, 27.552887240986745, 23.059892982582102, 22.976722644868342, 22.743463866815375, 21.65181075351981, 30.82296231677641, 20.774624453769555, 20.628827672797655, 19.940761354691144, 19.348980646774034, 31.16462045675028, 19.121015413425507, 18.84793134265341, 18.829100904550398, 18.73880554695783, 18.392928937905623, 18.352405392648546, 30.060507638485912, 28.008704287547086, 29.12208536337766, 45.75829322172389, 66.58208928752754, 49.2748796654941, 38.70006832985204, 37.36571731199832, 39.34626154611787, 74.97265712337136, 38.495049804804275, 73.64478032697068, 62.96380914767188, 43.6353803426078, 132.9016963495972, 83.28848507996189, 60.73373750377067, 55.16977883249547, 60.894674071182344, 130.98127692012184, 94.82884388270739, 73.86119527248029, 59.86417464938632, 74.54409215321252, 52.79086649616672, 103.19524693751691, 141.51834045756357, 206.2391233087778, 614.9282669394505, 330.3028299614093, 181.19103203374831, 106.52735330877289, 605.6440551758019, 99.03408460522114, 114.99136946878521, 83.1111318983219, 132.92146112114028, 59.48829230804031, 58.86372400318636, 37.7917905759588, 30.96900727666004, 29.443965660960412, 28.493905177538675, 28.45848087278277, 38.9667419308949, 25.469604561918455, 25.205321511808833, 25.049760679083967, 24.895781413716886, 24.212507719658195, 23.348498957239165, 22.808089811027337, 22.330680885330445, 22.179906302444277, 21.82205786393628, 20.134896442178043, 20.134896442178043, 20.02533295963143, 19.374378533286144, 19.25317369519997, 19.16514144285975, 19.077538803453535, 18.9934687448787, 18.64480164475223, 18.559986638868182, 18.41640251500498, 18.15536144127026, 31.730323421184096, 45.220667949406504, 39.87809019416473, 28.141914580545468, 30.734760822026352, 21.96069328609884, 27.558779454059135, 69.81852017062538, 52.30239921257635, 71.57140987261475, 35.94843099733757, 195.26422845725017, 43.32692906199769, 330.3028299614093, 149.23761217579434, 120.87446584237276, 65.23191269374026, 75.9203953628186, 605.6440551758019, 256.0304649109083, 103.28029496132402, 614.9282669394505, 141.19134938522362, 87.71090289950888, 56.262659389908386, 53.545462425598764, 53.20487106080462, 48.045614425392216, 47.91427685348726, 46.10360246186798, 40.81338979082996, 39.43971308124208, 38.677732005880266, 31.110090219250512, 29.599936156552946, 26.471011402561107, 25.381756762789376, 24.64624390122268, 24.12035616114479, 23.865159077897612, 22.923260475244366, 22.72273060057704, 20.366581393926147, 19.653904951150274, 19.24683433248175, 19.065817209272474, 19.0652936194205, 48.47959638871793, 18.78470227831336, 18.764808482917438, 18.378566097102073, 80.07345785102176, 17.817108869950605, 17.16534910364886, 16.860567591555153, 47.466924164188605, 79.24058229312666, 87.71090289950888, 59.00184984367451, 42.753777633936465, 614.9282669394505, 141.19134938522362, 42.09319206525278, 330.3028299614093, 84.02923125518775, 210.75300543568207, 114.99136946878521, 132.92146112114028, 605.6440551758019, 45.852770538584195, 106.52735330877289, 43.097386283853, 34.105454016690345, 30.46951477315517, 27.312362162174104, 24.9831475734404, 23.656257466803645, 23.167296044304784, 22.85375255934308, 22.66911324364093, 21.769895533038795, 21.056163082863517, 20.202740901608585, 20.066667273188354, 18.99594378790071, 18.810179327715947, 17.948872405545295, 17.86381923074395, 17.64858728196806, 17.375263145409424, 17.248591333102304, 17.21358930747002, 16.985490484463067, 16.667178908091717, 16.544272880765426, 16.384806159346244, 15.495711531513498, 26.081443995669833, 14.731524263462745, 14.552508389035737, 14.414855654591241, 73.4270368633005, 34.08649469014355, 35.03324369165466, 23.92434356504161, 33.09623445352751, 41.090943955414716, 35.83884063507249, 27.645979597281798, 30.72620506976996, 43.60227153936007, 60.168054936710305, 62.685938327115686, 33.904221570255054, 39.52825403712623, 141.51834045756357, 256.0304649109083, 76.89347442496087, 167.79336248975784, 80.48199295815829, 60.702633964248996, 605.6440551758019, 218.9864120486281, 88.01694360098453, 614.9282669394505, 45.23721322704783, 28.241680795865456, 22.96104876414419, 21.656422115694212, 21.597491682059996, 20.734394887219214, 20.64537683330316, 19.23488672167956, 18.921816457458245, 18.651541423379257, 18.651541423379257, 18.651541423379257, 18.651541423379257, 18.651541423379257, 18.45651849565662, 18.075348724897136, 17.913659506411456, 17.68795833086806, 17.50900681502754, 17.399933012803473, 17.17962883099146, 16.792003261790224, 16.38906629730137, 16.26266305271133, 15.52285046932514, 15.49131472189041, 15.2942834110636, 22.935350136551456, 14.08036220565997, 14.05235953960034, 135.2384011520073, 37.4700042171571, 34.33463811413895, 31.135253011965528, 29.34392355925832, 120.87446584237276, 33.757939045113055, 38.36017703303858, 77.71551475784807, 67.76988071535817, 26.119621873519737, 35.17095581723022, 69.96320513329457, 29.257300112228176, 605.6440551758019, 195.26422845725017, 614.9282669394505, 368.17735584358104, 178.66062343965075, 44.33683917609599, 256.0304649109083, 40.376980045681414, 103.19524693751691, 39.94169183403312, 34.81061209402785, 29.381585613007378, 26.581348344739506, 24.342552348159785, 21.43385907458278, 20.562652655807334, 19.79150802456368, 18.77004211928167, 18.363711433192243, 17.534597506460223, 16.967100420455605, 16.201219649893734, 15.870511318928992, 15.825695574072999, 15.223250340065675, 14.815129610804005, 14.655831759647945, 14.594028146806743, 13.861417128163273, 13.72339529061879, 13.705513217870397, 13.695964026261638, 13.512542106027935, 62.96122340128428, 13.28283303143976, 26.611967635092682, 12.877684548580188, 12.802936922503994, 30.665805056178, 26.9213908009417, 210.75300543568207, 26.16009957293906, 56.63276332006088, 23.28660364035417, 38.30987820583887, 43.72101141934325, 28.751903588416475, 89.91227100120545, 32.697250958842865, 52.658281731655414, 74.86756713871273, 32.12657077250672, 218.9864120486281, 23.113266212168224, 53.490002824283415, 67.46149738775435, 149.23761217579434, 43.4499336576567, 34.95612572437715, 24.591528321291683, 35.82615508961097, 22.266478634740142, 21.69897137537229, 21.51323995430758, 20.334133636818283, 20.01077241853918, 19.613473889398005, 18.275554351071655, 18.02212509721037, 17.302318837048205, 17.133003583434288, 16.691296778644553, 16.529943963190046, 16.419486466624903, 16.39988974899462, 16.289112478676092, 16.134684937372423, 16.115317014321846, 16.06601075131029, 32.544624001703816, 15.869449665381074, 15.906776899242555, 15.45517774784609, 14.334959191952107, 14.130140296372206, 14.091393546013602, 13.613964164415927, 33.61506939598996, 21.608769634423314, 27.86891405890736, 178.66062343965075, 195.26422845725017, 58.41737064353137, 35.26015653850215, 21.903160335589867, 368.17735584358104, 40.60352272143893, 42.37717464183672, 605.6440551758019, 72.81551498186383, 614.9282669394505, 135.2384011520073, 47.66448778243488, 89.91227100120545, 256.0304649109083, 89.48572188234925, 31.85907179169866, 23.240305499019662, 22.945937150310808, 20.327258649446144, 20.168784074111617, 20.12305524539959, 19.029973718158566, 16.10594102186195, 25.263176731806574, 15.3495533581899, 15.205250736942876, 15.016554760831058, 14.55469470395807, 14.434504279294623, 14.238983902524662, 14.155853541921168, 14.06725850349052, 14.043133340660221, 13.895825217622857, 13.859479843052036, 13.58908330846708, 13.403921227788253, 13.373182762561814, 13.238018191287408, 13.139165950638418, 13.134986882477785, 13.06888927757021, 12.90429286208572, 12.904205586724144, 21.020979123174808, 27.26440571671216, 19.624759664552837, 46.041790287471756, 44.50004635977848, 28.86379215418013, 33.0817417101359, 25.440938367351947, 21.394567402105828, 24.80332434895841, 32.35120635242878, 23.392753115065165, 24.177977837062993, 88.01694360098453, 24.35002362596572, 42.943610844234975, 94.82884388270739, 28.255646961044683, 26.894842294244764, 26.52517204462226, 25.19596142171062, 22.112705530124824, 19.720544317907454, 19.516199017899563, 16.507604862534645, 16.450782801932526, 15.58994442078246, 37.38190023346745, 13.891164672154968, 13.526507110561177, 12.888435693438096, 12.88206451832037, 12.043206246467683, 12.004716180938114, 11.923360774236592, 11.87407198504542, 35.979542766007654, 11.812651404645514, 11.779890658472585, 11.316636336084802, 24.525406211176815, 11.276973979275944, 11.173703526052904, 26.675629134109144, 10.986222826226442, 18.3566566255814, 10.65126903957935, 19.918227167354107, 35.48373478360428, 42.943610844234975, 69.46960515201368, 27.025685517968327, 32.14216393991529, 218.9864120486281, 29.168699600137565, 40.45273477581416, 27.95371414735109, 89.90178295633694, 28.137944536978708, 43.41931591397571, 31.786164624251125, 32.579880128934946, 51.97284139479549, 210.75300543568207, 49.909568206178804, 103.28029496132402], \"Category\": [\"Default\", \"Default\", \"Default\", \"Default\", \"Default\", \"Default\", \"Default\", \"Default\", \"Default\", \"Default\", \"Default\", \"Default\", \"Default\", \"Default\", \"Default\", \"Default\", \"Default\", \"Default\", \"Default\", \"Default\", \"Default\", \"Default\", \"Default\", \"Default\", \"Default\", \"Default\", \"Default\", \"Default\", \"Default\", \"Default\", \"Topic1\", \"Topic1\", \"Topic1\", \"Topic1\", \"Topic1\", \"Topic1\", \"Topic1\", \"Topic1\", \"Topic1\", \"Topic1\", \"Topic1\", \"Topic1\", \"Topic1\", \"Topic1\", \"Topic1\", \"Topic1\", \"Topic1\", \"Topic1\", \"Topic1\", \"Topic1\", \"Topic1\", \"Topic1\", \"Topic1\", \"Topic1\", \"Topic1\", \"Topic1\", \"Topic1\", \"Topic1\", \"Topic1\", \"Topic1\", \"Topic1\", \"Topic1\", \"Topic1\", \"Topic1\", \"Topic1\", \"Topic1\", \"Topic1\", \"Topic1\", \"Topic1\", \"Topic1\", \"Topic1\", \"Topic1\", \"Topic1\", \"Topic1\", \"Topic1\", \"Topic1\", \"Topic1\", \"Topic1\", \"Topic1\", \"Topic1\", \"Topic1\", \"Topic1\", \"Topic1\", \"Topic2\", \"Topic2\", \"Topic2\", \"Topic2\", \"Topic2\", \"Topic2\", \"Topic2\", \"Topic2\", \"Topic2\", \"Topic2\", \"Topic2\", \"Topic2\", \"Topic2\", \"Topic2\", \"Topic2\", \"Topic2\", \"Topic2\", \"Topic2\", \"Topic2\", \"Topic2\", \"Topic2\", \"Topic2\", \"Topic2\", \"Topic2\", \"Topic2\", \"Topic2\", \"Topic2\", \"Topic2\", \"Topic2\", \"Topic2\", \"Topic2\", \"Topic2\", \"Topic2\", \"Topic2\", \"Topic2\", \"Topic2\", \"Topic2\", \"Topic2\", \"Topic2\", \"Topic2\", \"Topic2\", \"Topic2\", \"Topic2\", \"Topic2\", \"Topic2\", \"Topic2\", \"Topic2\", \"Topic2\", \"Topic2\", \"Topic2\", \"Topic2\", \"Topic2\", \"Topic2\", \"Topic2\", \"Topic2\", \"Topic2\", \"Topic2\", \"Topic2\", \"Topic2\", \"Topic2\", \"Topic2\", \"Topic2\", \"Topic2\", \"Topic2\", \"Topic2\", \"Topic2\", \"Topic2\", \"Topic3\", \"Topic3\", \"Topic3\", \"Topic3\", \"Topic3\", \"Topic3\", \"Topic3\", \"Topic3\", \"Topic3\", \"Topic3\", \"Topic3\", \"Topic3\", \"Topic3\", \"Topic3\", \"Topic3\", \"Topic3\", \"Topic3\", \"Topic3\", \"Topic3\", \"Topic3\", \"Topic3\", \"Topic3\", \"Topic3\", \"Topic3\", \"Topic3\", \"Topic3\", \"Topic3\", \"Topic3\", \"Topic3\", \"Topic3\", \"Topic3\", \"Topic3\", \"Topic3\", \"Topic3\", \"Topic3\", \"Topic3\", \"Topic3\", \"Topic3\", \"Topic3\", \"Topic3\", \"Topic3\", \"Topic3\", \"Topic3\", \"Topic3\", \"Topic3\", \"Topic3\", \"Topic3\", \"Topic3\", \"Topic3\", \"Topic3\", \"Topic3\", \"Topic3\", \"Topic3\", \"Topic3\", \"Topic3\", \"Topic4\", \"Topic4\", \"Topic4\", \"Topic4\", \"Topic4\", \"Topic4\", \"Topic4\", \"Topic4\", \"Topic4\", \"Topic4\", \"Topic4\", \"Topic4\", \"Topic4\", \"Topic4\", \"Topic4\", \"Topic4\", \"Topic4\", \"Topic4\", \"Topic4\", \"Topic4\", \"Topic4\", \"Topic4\", \"Topic4\", \"Topic4\", \"Topic4\", \"Topic4\", \"Topic4\", \"Topic4\", \"Topic4\", \"Topic4\", \"Topic4\", \"Topic4\", \"Topic4\", \"Topic4\", \"Topic4\", \"Topic4\", \"Topic4\", \"Topic4\", \"Topic4\", \"Topic4\", \"Topic4\", \"Topic4\", \"Topic4\", \"Topic4\", \"Topic4\", \"Topic4\", \"Topic5\", \"Topic5\", \"Topic5\", \"Topic5\", \"Topic5\", \"Topic5\", \"Topic5\", \"Topic5\", \"Topic5\", \"Topic5\", \"Topic5\", \"Topic5\", \"Topic5\", \"Topic5\", \"Topic5\", \"Topic5\", \"Topic5\", \"Topic5\", \"Topic5\", \"Topic5\", \"Topic5\", \"Topic5\", \"Topic5\", \"Topic5\", \"Topic5\", \"Topic5\", \"Topic5\", \"Topic5\", \"Topic5\", \"Topic5\", \"Topic5\", \"Topic5\", \"Topic5\", \"Topic5\", \"Topic5\", \"Topic5\", \"Topic5\", \"Topic5\", \"Topic5\", \"Topic5\", \"Topic5\", \"Topic5\", \"Topic5\", \"Topic5\", \"Topic5\", \"Topic5\", \"Topic5\", \"Topic5\", \"Topic5\", \"Topic5\", \"Topic5\", \"Topic5\", \"Topic5\", \"Topic5\", \"Topic6\", \"Topic6\", \"Topic6\", \"Topic6\", \"Topic6\", \"Topic6\", \"Topic6\", \"Topic6\", \"Topic6\", \"Topic6\", \"Topic6\", \"Topic6\", \"Topic6\", \"Topic6\", \"Topic6\", \"Topic6\", \"Topic6\", \"Topic6\", \"Topic6\", \"Topic6\", \"Topic6\", \"Topic6\", \"Topic6\", \"Topic6\", \"Topic6\", \"Topic6\", \"Topic6\", \"Topic6\", \"Topic6\", \"Topic6\", \"Topic6\", \"Topic6\", \"Topic6\", \"Topic6\", \"Topic6\", \"Topic6\", \"Topic6\", \"Topic6\", \"Topic6\", \"Topic6\", \"Topic6\", \"Topic6\", \"Topic6\", \"Topic6\", \"Topic6\", \"Topic6\", \"Topic6\", \"Topic6\", \"Topic6\", \"Topic6\", \"Topic6\", \"Topic6\", \"Topic6\", \"Topic7\", \"Topic7\", \"Topic7\", \"Topic7\", \"Topic7\", \"Topic7\", \"Topic7\", \"Topic7\", \"Topic7\", \"Topic7\", \"Topic7\", \"Topic7\", \"Topic7\", \"Topic7\", \"Topic7\", \"Topic7\", \"Topic7\", \"Topic7\", \"Topic7\", \"Topic7\", \"Topic7\", \"Topic7\", \"Topic7\", \"Topic7\", \"Topic7\", \"Topic7\", \"Topic7\", \"Topic7\", \"Topic7\", \"Topic7\", \"Topic7\", \"Topic7\", \"Topic7\", \"Topic7\", \"Topic7\", \"Topic7\", \"Topic7\", \"Topic7\", \"Topic7\", \"Topic7\", \"Topic7\", \"Topic7\", \"Topic7\", \"Topic7\", \"Topic7\", \"Topic7\", \"Topic7\", \"Topic7\", \"Topic8\", \"Topic8\", \"Topic8\", \"Topic8\", \"Topic8\", \"Topic8\", \"Topic8\", \"Topic8\", \"Topic8\", \"Topic8\", \"Topic8\", \"Topic8\", \"Topic8\", \"Topic8\", \"Topic8\", \"Topic8\", \"Topic8\", \"Topic8\", \"Topic8\", \"Topic8\", \"Topic8\", \"Topic8\", \"Topic8\", \"Topic8\", \"Topic8\", \"Topic8\", \"Topic8\", \"Topic8\", \"Topic8\", \"Topic8\", \"Topic8\", \"Topic8\", \"Topic8\", \"Topic8\", \"Topic8\", \"Topic8\", \"Topic8\", \"Topic8\", \"Topic8\", \"Topic8\", \"Topic8\", \"Topic8\", \"Topic8\", \"Topic8\", \"Topic8\", \"Topic8\", \"Topic8\", \"Topic8\", \"Topic9\", \"Topic9\", \"Topic9\", \"Topic9\", \"Topic9\", \"Topic9\", \"Topic9\", \"Topic9\", \"Topic9\", \"Topic9\", \"Topic9\", \"Topic9\", \"Topic9\", \"Topic9\", \"Topic9\", \"Topic9\", \"Topic9\", \"Topic9\", \"Topic9\", \"Topic9\", \"Topic9\", \"Topic9\", \"Topic9\", \"Topic9\", \"Topic9\", \"Topic9\", \"Topic9\", \"Topic9\", \"Topic9\", \"Topic9\", \"Topic9\", \"Topic9\", \"Topic9\", \"Topic9\", \"Topic9\", \"Topic9\", \"Topic9\", \"Topic9\", \"Topic9\", \"Topic9\", \"Topic9\", \"Topic9\", \"Topic9\", \"Topic9\", \"Topic9\", \"Topic9\", \"Topic9\", \"Topic10\", \"Topic10\", \"Topic10\", \"Topic10\", \"Topic10\", \"Topic10\", \"Topic10\", \"Topic10\", \"Topic10\", \"Topic10\", \"Topic10\", \"Topic10\", \"Topic10\", \"Topic10\", \"Topic10\", \"Topic10\", \"Topic10\", \"Topic10\", \"Topic10\", \"Topic10\", \"Topic10\", \"Topic10\", \"Topic10\", \"Topic10\", \"Topic10\", \"Topic10\", \"Topic10\", \"Topic10\", \"Topic10\", \"Topic10\", \"Topic10\", \"Topic10\", \"Topic10\", \"Topic10\", \"Topic10\", \"Topic10\", \"Topic10\", \"Topic10\", \"Topic10\", \"Topic10\", \"Topic10\", \"Topic10\", \"Topic10\", \"Topic10\", \"Topic10\", \"Topic10\", \"Topic10\", \"Topic10\", \"Topic10\"], \"logprob\": [30.0, 29.0, 28.0, 27.0, 26.0, 25.0, 24.0, 23.0, 22.0, 21.0, 20.0, 19.0, 18.0, 17.0, 16.0, 15.0, 14.0, 13.0, 12.0, 11.0, 10.0, 9.0, 8.0, 7.0, 6.0, 5.0, 4.0, 3.0, 2.0, 1.0, -4.2734, -5.1227, -5.3008, -4.4701, -4.9536, -5.4233, -5.4489, -5.5116, -5.5282, -5.5287, -5.6008, -5.6069, -5.6159, -4.427, -5.6783, -4.7408, -4.1284, -5.8375, -5.8415, -5.8595, -5.8697, -5.8848, -5.931, -5.9339, -5.9564, -5.9649, -5.9831, -3.818, -6.0083, -6.0254, -3.6281, -4.5161, -5.6782, -4.2452, -5.1653, -4.3258, -4.1931, -3.5949, -4.1606, -3.2944, -5.1253, -5.0799, -5.0375, -5.1845, -5.2504, -3.919, -5.2508, -4.5623, -4.8043, -4.8461, -5.1574, -4.8655, -5.1412, -4.9415, -4.9526, -5.1108, -5.3034, -5.3152, -5.3218, -5.3527, -5.4054, -5.4399, -5.5148, -5.5529, -5.5633, -5.5858, -5.6188, -5.8182, -5.8223, -5.8339, -5.8899, -5.538, -5.9373, -5.9454, -5.9845, -6.0195, -5.5433, -6.0332, -6.05, -6.0512, -6.0568, -6.0786, -6.0812, -5.5898, -5.6638, -5.6271, -5.1943, -4.851, -5.1396, -5.3758, -5.413, -5.3768, -4.8338, -5.4177, -4.904, -5.0285, -5.3255, -4.4806, -4.8423, -5.0867, -5.1765, -5.1166, -4.724, -4.9206, -5.0628, -5.1808, -5.1009, -5.2917, -5.0364, -4.9381, -4.8553, -4.6265, -4.8044, -4.9733, -5.1255, -4.7997, -5.1553, -5.2009, -5.2866, -5.2827, -4.2393, -4.2504, -4.721, -4.9374, -4.9929, -5.0292, -5.0305, -4.7214, -5.154, -5.1657, -5.1727, -5.1796, -5.2109, -5.252, -5.2785, -5.3026, -5.3103, -5.3289, -5.4214, -5.4214, -5.4277, -5.4661, -5.4734, -5.4788, -5.4841, -5.4893, -5.5109, -5.5163, -5.5254, -5.5422, -5.0087, -4.6832, -4.8057, -5.1452, -5.0825, -5.3789, -5.2157, -4.7027, -4.9356, -4.8213, -5.1523, -4.4142, -5.0845, -4.3452, -4.7061, -4.7727, -4.9909, -4.9546, -4.546, -4.7341, -4.9909, -4.7427, -4.9873, -5.0454, -5.1492, -4.2639, -4.2706, -4.3784, -4.3813, -4.4222, -4.5522, -4.589, -4.6099, -4.8462, -4.9009, -5.0247, -5.0716, -5.1046, -5.1289, -5.1409, -5.1864, -5.1964, -5.3217, -5.363, -5.3873, -5.3983, -5.3984, -4.4675, -5.4157, -5.4169, -5.4413, -3.9745, -5.4778, -5.5219, -5.5433, -4.5264, -4.0759, -4.1317, -4.5407, -4.8113, -2.9047, -4.0263, -4.8524, -3.5273, -4.496, -4.0038, -4.6419, -4.8437, -4.6761, -5.0631, -5.0965, -4.4451, -4.6972, -4.8204, -4.9413, -5.0409, -5.1024, -5.126, -5.1415, -5.1507, -5.1969, -5.2351, -5.2828, -5.2906, -5.3544, -5.3659, -5.421, -5.4267, -5.4409, -5.4595, -5.4681, -5.4706, -5.4865, -5.5091, -5.5179, -5.5295, -5.5969, -5.0822, -5.6587, -5.6737, -5.6854, -4.1122, -4.8662, -4.8405, -5.2093, -4.9329, -4.8066, -4.9473, -5.1466, -5.0893, -4.871, -4.6661, -4.8097, -5.1189, -5.0517, -4.4976, -4.2601, -4.8606, -4.6239, -4.922, -4.9896, -4.7808, -4.9316, -5.0264, -4.8695, -4.1928, -4.7037, -4.9359, -5.0026, -5.0057, -5.0526, -5.0576, -5.1397, -5.1589, -5.1757, -5.1757, -5.1757, -5.1757, -5.1757, -5.1881, -5.2126, -5.2233, -5.2383, -5.2503, -5.2577, -5.2729, -5.3001, -5.3292, -5.3386, -5.3949, -5.3973, -5.4129, -5.012, -5.5148, -5.5172, -3.3585, -4.588, -4.7368, -4.8741, -4.938, -3.9415, -4.8455, -4.7877, -4.5439, -4.7078, -5.0959, -4.9898, -4.7457, -5.0567, -4.0818, -4.4475, -4.2011, -4.3572, -4.6783, -5.004, -4.6954, -5.034, -4.9114, -4.2934, -4.4418, -4.6273, -4.7384, -4.837, -4.9816, -5.0294, -5.0736, -5.1354, -5.1611, -5.2156, -5.2548, -5.3101, -5.335, -5.3384, -5.3856, -5.4188, -5.4321, -5.4373, -5.5011, -5.5136, -5.5152, -5.5161, -5.533, -3.9945, -5.5546, -4.8598, -5.5938, -5.6012, -4.7289, -4.9782, -3.3254, -5.0181, -4.4153, -5.1118, -4.7718, -4.6987, -5.0098, -4.303, -4.9311, -4.661, -4.4889, -4.9986, -4.5185, -5.2471, -5.1693, -5.1534, -5.1106, -4.1678, -4.402, -4.7906, -4.4208, -4.9032, -4.9327, -4.9426, -5.0075, -5.0261, -5.0494, -5.1322, -5.1486, -5.1969, -5.2087, -5.2399, -5.2515, -5.2596, -5.261, -5.2692, -5.2807, -5.2821, -5.2858, -4.5807, -5.3008, -5.2987, -5.3328, -5.4253, -5.4432, -5.4465, -5.4896, -4.6077, -5.0474, -4.9065, -3.4481, -3.6361, -4.5039, -4.815, -5.1186, -3.9048, -4.8936, -4.8865, -3.9514, -4.7537, -4.0682, -4.8517, -5.0714, -5.0813, -5.0949, -3.2904, -4.3827, -4.7342, -4.7486, -4.8877, -4.8967, -4.8994, -4.9647, -5.1627, -4.7205, -5.2211, -5.2326, -5.248, -5.2864, -5.2967, -5.3136, -5.3208, -5.3286, -5.3308, -5.344, -5.3472, -5.3719, -5.3892, -5.392, -5.4049, -5.4144, -5.4148, -5.4212, -5.4373, -5.4373, -4.9889, -4.8081, -5.0865, -4.3947, -4.5517, -4.8876, -4.9168, -5.0817, -5.1813, -5.1775, -5.1267, -5.2201, -5.2253, -5.0534, -5.2562, -5.2015, -5.2497, -4.4015, -4.4563, -4.4718, -4.5294, -4.6773, -4.8092, -4.8214, -5.0194, -5.0235, -5.0885, -4.2351, -5.2307, -5.264, -5.3251, -5.3258, -5.4123, -5.4165, -5.4253, -5.4307, -4.3229, -5.4375, -5.4411, -5.4939, -4.7212, -5.4985, -5.5107, -4.6417, -5.5334, -5.0275, -5.5749, -4.9931, -4.4871, -4.3212, -3.923, -4.7497, -4.7143, -3.3805, -4.8238, -4.6421, -4.8868, -4.2124, -4.9614, -4.7832, -4.9293, -4.94, -4.7842, -4.7246, -4.9617, -4.9851], \"loglift\": [30.0, 29.0, 28.0, 27.0, 26.0, 25.0, 24.0, 23.0, 22.0, 21.0, 20.0, 19.0, 18.0, 17.0, 16.0, 15.0, 14.0, 13.0, 12.0, 11.0, 10.0, 9.0, 8.0, 7.0, 6.0, 5.0, 4.0, 3.0, 2.0, 1.0, 1.4983, 1.4691, 1.4593, 1.4561, 1.456, 1.4516, 1.4499, 1.4454, 1.4442, 1.4442, 1.4387, 1.4382, 1.4375, 1.4348, 1.4324, 1.4192, 1.4181, 1.4179, 1.4175, 1.4157, 1.4147, 1.4132, 1.4084, 1.4081, 1.4057, 1.4047, 1.4027, 1.4026, 1.3999, 1.3979, 1.3657, 1.366, 1.391, 1.3245, 1.3261, 1.2256, 1.1764, 1.0656, 1.0794, 0.8684, 1.26, 1.2068, 1.1853, 1.2219, 1.2476, 0.2286, 1.1489, 0.4614, 0.6421, 0.5375, 0.9615, -0.0964, 0.0389, 1.6836, 1.683, 1.674, 1.6611, 1.6602, 1.6597, 1.6574, 1.6532, 1.6504, 1.6439, 1.6404, 1.6395, 1.6373, 1.6342, 1.6128, 1.6123, 1.6109, 1.6041, 1.6028, 1.598, 1.597, 1.5917, 1.587, 1.5865, 1.585, 1.5827, 1.5825, 1.5817, 1.5785, 1.5781, 1.576, 1.5728, 1.5704, 1.5514, 1.5196, 1.532, 1.5374, 1.5353, 1.5199, 1.4181, 1.5008, 1.3658, 1.398, 1.4676, 1.1988, 1.3045, 1.3758, 1.3821, 1.3433, 0.97, 1.0964, 1.2041, 1.2961, 1.1568, 1.311, 0.896, 0.6786, 0.3847, -0.479, -0.0353, 0.3962, 0.7751, -0.6369, 0.8183, 0.6233, 0.8623, 0.3966, 2.244, 2.2435, 2.216, 2.1987, 2.1936, 2.1902, 2.1901, 2.1849, 2.1775, 2.1763, 2.1755, 2.1748, 2.1713, 2.1666, 2.1634, 2.1605, 2.1595, 2.1572, 2.1452, 2.1452, 2.1443, 2.139, 2.138, 2.1372, 2.1364, 2.1357, 2.1326, 2.1318, 2.1304, 2.1279, 2.1031, 2.0743, 2.0775, 2.0866, 2.0611, 2.1009, 2.0371, 1.6204, 1.6764, 1.477, 1.8347, 0.8805, 1.7158, 0.4239, 0.8575, 1.0016, 1.4002, 1.2848, -0.3833, 0.2897, 0.9407, -0.5952, 0.6317, 1.0496, 1.3899, 2.3246, 2.3243, 2.3185, 2.3183, 2.316, 2.3078, 2.3053, 2.3039, 2.2853, 2.2804, 2.2683, 2.2634, 2.2598, 2.2571, 2.2558, 2.2505, 2.2493, 2.2334, 2.2278, 2.2244, 2.2228, 2.2228, 2.2204, 2.2203, 2.2202, 2.2166, 2.2116, 2.2111, 2.2042, 2.2008, 2.1826, 2.1207, 1.9633, 1.9508, 2.0023, 1.2428, 1.5926, 1.9768, 1.2417, 1.6419, 1.2146, 1.1823, 0.8356, -0.5134, 1.6805, 0.8041, 2.3604, 2.3424, 2.3319, 2.3204, 2.31, 2.3031, 2.3003, 2.2984, 2.2973, 2.2916, 2.2868, 2.2804, 2.2794, 2.2704, 2.2687, 2.2605, 2.2596, 2.2575, 2.2545, 2.2532, 2.2528, 2.2502, 2.2466, 2.2451, 2.2432, 2.2316, 2.2256, 2.2204, 2.2176, 2.2154, 2.1606, 2.1739, 2.1723, 2.1849, 2.1367, 2.0467, 2.0427, 2.103, 2.0546, 1.9229, 1.8059, 1.6212, 1.9266, 1.8404, 1.1191, 0.7637, 1.366, 0.8225, 1.259, 1.4734, -0.6181, 0.2485, 1.0651, -0.722, 2.5643, 2.5245, 2.4994, 2.4911, 2.4907, 2.4846, 2.484, 2.4726, 2.4699, 2.4674, 2.4674, 2.4674, 2.4674, 2.4674, 2.4656, 2.4619, 2.4602, 2.4579, 2.456, 2.4549, 2.4524, 2.448, 2.4432, 2.4416, 2.4318, 2.4314, 2.4286, 2.4244, 2.4095, 2.409, 2.3035, 2.3575, 2.2961, 2.2566, 2.252, 1.8328, 2.2044, 2.1344, 1.6721, 1.6452, 2.2105, 2.019, 1.5754, 2.1362, 0.0809, 0.8472, -0.0535, 0.3033, 0.7053, 1.7733, 0.3284, 1.8368, 1.0211, 2.5883, 2.5773, 2.5614, 2.5505, 2.5398, 2.5224, 2.5162, 2.5102, 2.5014, 2.4976, 2.4892, 2.483, 2.4738, 2.4696, 2.469, 2.4607, 2.4546, 2.4521, 2.4512, 2.4388, 2.4363, 2.436, 2.4358, 2.4324, 2.4321, 2.428, 2.4279, 2.4197, 2.4182, 2.417, 2.298, 1.893, 2.2867, 2.1171, 2.3094, 2.1515, 2.0926, 2.2005, 1.7672, 2.1507, 1.9442, 1.7645, 2.1008, 0.6615, 2.1815, 1.4203, 1.2041, 0.4529, 2.6296, 2.613, 2.5761, 2.5696, 2.5628, 2.5591, 2.5578, 2.5492, 2.5467, 2.5434, 2.5313, 2.5288, 2.5213, 2.5194, 2.5143, 2.5124, 2.511, 2.5108, 2.5094, 2.5074, 2.5071, 2.5065, 2.5057, 2.5039, 2.5036, 2.4983, 2.4811, 2.4776, 2.477, 2.4683, 2.4464, 2.4486, 2.335, 1.9354, 1.6586, 1.9975, 2.1913, 2.3638, 0.7557, 1.9716, 1.936, 0.2114, 1.5274, 0.0794, 0.8103, 1.6334, 0.989, -0.0711, 2.7846, 2.725, 2.689, 2.6873, 2.6694, 2.6682, 2.6678, 2.6583, 2.6271, 2.6192, 2.6169, 2.6148, 2.6119, 2.6048, 2.6028, 2.5995, 2.5981, 2.5966, 2.5961, 2.5935, 2.5929, 2.5879, 2.5843, 2.5838, 2.5811, 2.5791, 2.579, 2.5777, 2.5742, 2.5742, 2.5346, 2.4554, 2.5057, 2.3448, 2.2219, 2.3188, 2.1532, 2.251, 2.3247, 2.1806, 1.9657, 2.1965, 2.1583, 1.0381, 2.1203, 1.6076, 0.7673, 2.8263, 2.8208, 2.8192, 2.813, 2.7956, 2.7781, 2.7764, 2.7458, 2.7451, 2.7339, 2.7128, 2.7072, 2.7004, 2.6876, 2.6874, 2.6682, 2.6673, 2.6652, 2.664, 2.6632, 2.6624, 2.6616, 2.6489, 2.6482, 2.6478, 2.6448, 2.6436, 2.639, 2.6315, 2.6284, 2.5843, 2.5129, 2.488, 2.4051, 2.5225, 2.3846, 1.7995, 2.3722, 2.2269, 2.3517, 1.8579, 2.2705, 2.0149, 2.1807, 2.1453, 1.8341, 0.4938, 1.6971, 0.9465]}, \"token.table\": {\"Topic\": [8, 5, 4, 2, 2, 4, 5, 4, 4, 7, 2, 9, 2, 9, 2, 10, 5, 5, 2, 8, 2, 6, 5, 9, 1, 7, 8, 9, 1, 2, 7, 9, 9, 10, 2, 6, 7, 9, 5, 1, 4, 8, 1, 2, 5, 2, 5, 10, 3, 9, 9, 10, 7, 4, 8, 6, 1, 2, 6, 2, 1, 2, 3, 4, 5, 6, 7, 8, 9, 10, 3, 6, 6, 6, 1, 3, 4, 5, 6, 8, 1, 4, 3, 4, 6, 6, 1, 4, 1, 5, 1, 3, 6, 1, 9, 3, 3, 9, 4, 10, 3, 4, 4, 9, 2, 4, 6, 9, 6, 6, 3, 6, 2, 3, 4, 6, 9, 6, 8, 3, 5, 8, 2, 3, 2, 3, 7, 10, 4, 1, 3, 4, 6, 8, 6, 9, 6, 8, 2, 3, 8, 10, 1, 1, 5, 9, 5, 8, 10, 9, 7, 7, 4, 3, 7, 8, 10, 1, 2, 6, 8, 9, 7, 2, 4, 10, 2, 2, 3, 4, 5, 7, 10, 4, 1, 2, 5, 8, 3, 8, 9, 4, 10, 5, 7, 9, 10, 2, 3, 7, 2, 3, 4, 5, 6, 8, 3, 5, 3, 1, 8, 5, 1, 2, 3, 6, 7, 8, 9, 1, 7, 10, 4, 7, 5, 7, 9, 2, 5, 7, 9, 1, 5, 1, 2, 4, 5, 6, 7, 8, 9, 10, 2, 4, 5, 6, 10, 2, 3, 6, 1, 5, 10, 2, 6, 10, 1, 4, 10, 6, 9, 1, 2, 3, 5, 6, 7, 8, 9, 10, 3, 1, 5, 5, 3, 8, 9, 9, 8, 9, 5, 7, 2, 4, 8, 9, 5, 6, 4, 5, 6, 2, 2, 4, 6, 1, 6, 7, 8, 4, 4, 7, 9, 9, 5, 1, 2, 7, 8, 2, 5, 5, 6, 9, 1, 5, 6, 7, 9, 2, 5, 3, 1, 3, 5, 10, 3, 5, 10, 10, 6, 2, 1, 2, 8, 1, 2, 4, 6, 8, 9, 2, 3, 4, 6, 1, 2, 3, 6, 4, 1, 5, 8, 9, 6, 6, 3, 7, 4, 6, 3, 5, 2, 9, 2, 7, 8, 1, 2, 3, 10, 2, 7, 3, 6, 8, 2, 9, 10, 7, 10, 1, 2, 6, 10, 6, 1, 2, 3, 5, 6, 8, 1, 6, 8, 8, 5, 8, 3, 4, 6, 10, 8, 6, 1, 10, 8, 4, 6, 1, 5, 10, 2, 9, 1, 3, 1, 2, 5, 1, 2, 5, 9, 1, 2, 4, 8, 1, 2, 3, 4, 5, 6, 7, 8, 9, 10, 6, 8, 6, 3, 1, 3, 4, 5, 6, 8, 6, 2, 1, 5, 8, 9, 5, 8, 10, 7, 9, 6, 1, 2, 4, 5, 6, 9, 10, 9, 3, 5, 6, 8, 1, 3, 4, 6, 5, 5, 9, 5, 10, 1, 2, 1, 2, 4, 6, 7, 10, 1, 2, 3, 8, 9, 10, 10, 1, 5, 10, 7, 8, 7, 1, 2, 5, 8, 9, 8, 3, 9, 6, 8, 1, 2, 3, 4, 5, 6, 7, 3, 1, 2, 3, 5, 6, 1, 2, 3, 9, 10, 10, 3, 8, 9, 3, 3, 2, 6, 1, 3, 6, 8, 7, 8, 9, 1, 6, 2, 3, 5, 9, 7, 7, 5, 1, 2, 7, 2, 1, 2, 3, 10, 6, 1, 3, 8, 1, 3, 4, 5, 9, 10, 3, 1, 2, 5, 7, 1, 2, 5, 9, 8, 2, 3, 5, 2, 4, 5, 7, 4, 1, 2, 6, 8, 1, 3, 5, 6, 9, 9, 7, 5, 9, 8, 2, 10, 7, 1, 5, 10, 7, 7, 8, 1, 2, 3, 6, 7, 10, 10, 3, 10, 2, 7, 1, 5, 6, 8, 5, 4, 5, 7, 1, 2, 5, 6, 2, 5, 6, 7, 8, 9, 8, 1, 2, 5, 8, 9, 3, 5, 4, 4, 9, 9, 1, 2, 7, 10, 2, 10, 5, 5, 1, 2, 7, 7, 2, 3, 2, 3, 5, 7, 9, 10, 4, 9, 2, 5, 7, 4, 5, 1, 2, 1, 2, 3, 5, 6, 7, 10, 5, 3, 5, 10, 3, 1, 2, 5, 6, 2, 8, 10, 2, 8, 1, 4, 2, 10, 2, 3, 5, 8, 2, 6, 7, 3, 10, 1, 3, 2, 9, 9, 9, 1, 3, 4, 8, 1, 10, 10, 1, 3, 5, 3, 5, 1, 1, 4, 6, 10, 4, 7, 2, 4, 2, 5, 1, 2, 3, 7, 9, 1, 3, 7, 1, 4, 6, 7, 1, 2, 5, 4, 10, 10, 4, 6, 1, 3, 9, 10, 8, 3, 2, 1, 3, 6, 5, 4, 7, 8, 6, 9, 1, 2, 6, 9, 8, 3, 1, 2, 3, 4, 6, 1, 2, 3, 3, 9, 1, 1, 4, 3, 3, 4, 8, 5, 9, 4, 1, 2, 2, 10, 4, 5, 7, 10, 1, 3, 4, 5, 6, 7, 8, 9, 10, 8, 1, 2, 3, 5, 7, 8, 8, 9, 3, 7, 3, 4, 6, 1, 3, 5, 1, 2, 4, 6, 8, 6, 8, 1, 1, 2, 3, 1, 2, 3, 4, 9, 3, 9, 3, 7, 1, 4, 6, 7, 1, 2, 3, 4, 5, 6, 7, 8, 9, 1, 2, 3, 5, 6, 7, 2, 5, 7, 4, 4, 4, 5, 4, 8, 9, 8, 2, 3, 1, 3, 5, 8, 9, 10, 2, 8, 1, 1, 2, 3, 4, 10, 9, 1, 2, 3, 5, 6, 10, 7, 8, 8, 1, 3, 5, 2, 7, 2, 3, 7, 9, 10, 6, 8, 8, 5, 6, 4, 8, 1, 3, 4, 5, 6, 9, 1, 2, 3, 4, 6, 8, 9, 3, 1, 1, 6, 7, 9], \"Freq\": [0.7784777623775014, 0.8471760541280406, 0.9307681224567882, 0.85384310968516, 0.7562670415817855, 0.18333746462588738, 0.8822577127321175, 0.8155965786343373, 0.8517569117117041, 0.8024087248323474, 0.8304505549599343, 0.10926980986314924, 0.9317957174071593, 0.8855104522660484, 0.8568764821681026, 0.07140637351400855, 0.8548566008519014, 0.841469980870092, 0.8759703146801163, 0.032443344988152455, 0.4953317453997933, 0.44579857085981395, 0.32579098046240806, 0.6298625622273223, 0.36942607425734275, 0.024628404950489517, 0.4925680990097903, 0.07388521485146854, 0.13137437915585956, 0.6732936931737803, 0.16421797394482446, 0.7651759677207408, 0.7770637049489515, 0.7918702469958946, 0.9073459264483485, 0.839179903925779, 0.8191292478708426, 0.8313413310087299, 0.8422850782592362, 0.07127043240981597, 0.6651907024916157, 0.2138112972294479, 0.7472148616916726, 0.15566976285243178, 0.06226790514097272, 0.8367756447058697, 0.8324745170915332, 0.7473092975252943, 0.9169960429548778, 0.9102587856171116, 0.10895230219716849, 0.7626661153801795, 0.926350344741116, 0.9326819967173943, 0.8371143467737953, 0.848034562237905, 0.9129273404316834, 0.23855023974090966, 0.6815721135454562, 0.8785992559682637, 0.2748288037580825, 0.10895579793959483, 0.05529100193949588, 0.32198877600059367, 0.04228135442432038, 0.06830064945467139, 0.016262059393969377, 0.0731792672728622, 0.017888265333366314, 0.01951447127276325, 0.8836838512680149, 0.9284391544899087, 0.8852164352647158, 0.829859508012638, 0.12803164305884798, 0.2458207546729881, 0.06145518866824703, 0.03584886005647744, 0.16900176883767934, 0.35336733484242044, 0.10313617217249749, 0.8457166118144794, 0.2850272790902941, 0.6612632874894823, 0.022802182327223523, 0.8337301858353401, 0.20191673933960783, 0.7698075687322549, 0.8901519209729232, 0.9153364272030422, 0.1777359687740945, 0.08886798438704725, 0.6516985521716799, 0.9369683357781949, 0.031232277859273166, 0.8994154201715389, 0.07916660763735153, 0.8312493801921912, 0.8799438516816283, 0.8132180695348513, 0.12488532740281051, 0.8492202263391114, 0.9061626511888601, 0.8605738853494699, 0.42853754018269674, 0.11277303689018335, 0.42853754018269674, 0.9722221396881914, 0.8542280411853143, 0.8669023902728614, 0.8673203223369568, 0.8318218990063752, 0.5821730861702049, 0.08123345388421464, 0.04061672694210732, 0.18954472572983416, 0.08123345388421464, 0.7812299029905824, 0.8669358217975722, 0.8386826081099926, 0.09255501510895603, 0.7867176284261262, 0.45833111217191486, 0.5156225011934042, 0.17390152915003487, 0.1391212233200279, 0.6260455049401256, 0.8923644071761584, 0.8706339102002425, 0.9818998150139046, 0.014788698941745176, 0.09612654312134365, 0.7246462481455136, 0.15528133888832435, 0.837349844381678, 0.7991180527840254, 0.1487428135607676, 0.7734626305159915, 0.45320011824704276, 0.16480004299892465, 0.3158667490812722, 0.05493334766630821, 0.8905025052778754, 0.9088612096723503, 0.4945719744017766, 0.4327504776015545, 0.8051701433205355, 0.07668287079243195, 0.7640138827202804, 0.783300972308709, 0.7810707855962945, 0.8214488860317588, 0.8418874301934702, 0.06353116702491535, 0.7941395878114418, 0.04764837526868651, 0.06353116702491535, 0.6448824930315215, 0.25698324910278675, 0.014546221647327552, 0.05818488658931021, 0.019394962196436737, 0.8222541356839626, 0.5772245502629797, 0.05772245502629797, 0.3270939118156885, 0.9159358690089758, 0.08540803469345194, 0.01897956326521154, 0.31316279387599044, 0.02372445408151443, 0.4649992999976828, 0.08540803469345194, 0.9366099390794219, 0.9326221350238856, 0.9109535736398559, 0.09218112336596485, 0.8296301102936836, 0.1654398075371012, 0.24815971130565181, 0.5376793744955789, 0.3428332471822926, 0.5828165202098974, 0.839686060760441, 0.8554516289566152, 0.30272256441484596, 0.6520178310473606, 0.18676129620204224, 0.18676129620204224, 0.5602838886061268, 0.02951163524103349, 0.32462798765136835, 0.11804654096413396, 0.1032907233436172, 0.3688954405129186, 0.02951163524103349, 0.8262022239834025, 0.9281305306207519, 0.862069586111281, 0.87590981603843, 0.060407573519891726, 0.8696362334942122, 0.2948318413736762, 0.20772243369509003, 0.2412260520330078, 0.06030651300825195, 0.1072115786813368, 0.04690506567308485, 0.0402043420055013, 0.9101116142674093, 0.9037671845312115, 0.798086438484259, 0.9121641295845375, 0.8015509112034045, 0.2751470837641357, 0.07861345250403877, 0.5502941675282714, 0.01765762327980511, 0.28252197247688177, 0.5827015682335687, 0.08828811639902555, 0.3440187740324354, 0.596299208322888, 0.22832466878765523, 0.03196545363027173, 0.06849740063629657, 0.11416233439382761, 0.03196545363027173, 0.13699480127259314, 0.04109844038177794, 0.02283246687876552, 0.3242210296784704, 0.9247669116256938, 0.09763652859791515, 0.683455700185406, 0.1301820381305535, 0.7758893505665169, 0.9232661749477463, 0.7620076221084933, 0.14514430897304634, 0.07400367323412677, 0.14800734646825353, 0.6660330591071408, 0.9253508001742187, 0.8499907874465071, 0.8710712564679324, 0.21323519179287734, 0.17769599316073112, 0.5330879794821933, 0.42319416319336495, 0.5138786267348002, 0.34761488259207596, 0.10545620033692192, 0.13670248191823212, 0.19138347468552497, 0.10155041513925814, 0.0039057851976637744, 0.06249256316262039, 0.019528925988318874, 0.03515206677897397, 0.8687907416751894, 0.9210049748620223, 0.06320622376504074, 0.8133109109280626, 0.1826220480841071, 0.7304881923364284, 0.8244762424825486, 0.7554000799441032, 0.22006714770688005, 0.6968793010717869, 0.7941701701593564, 0.12539529002516153, 0.19628039689393859, 0.5016054587289541, 0.13085359792929238, 0.13085359792929238, 0.7553729423540332, 0.18128950616496795, 0.14668566085927867, 0.762765436468249, 0.8567019339512666, 0.9248412194643626, 0.10253851136271255, 0.23925652651299595, 0.6152310681762753, 0.9025223330310523, 0.019763262767103336, 0.0065877542557011125, 0.05928978830131001, 0.83919822708772, 0.17306078523398644, 0.6057127483189525, 0.1297955889254898, 0.8469301807445574, 0.8544501450823756, 0.4150515639915603, 0.32611194313622593, 0.23717232228089158, 0.8323102807849135, 0.9396393371304863, 0.9089455306717039, 0.27716385834774726, 0.03464548229346841, 0.6236186812824314, 0.9129188685087947, 0.6193918936166869, 0.02949485207698509, 0.20646396453889565, 0.08848455623095527, 0.8488995269094354, 0.8242328952941366, 0.8423948366100402, 0.17886710773544212, 0.10732026464126528, 0.10732026464126528, 0.5723747447534148, 0.08338071496657, 0.08338071496657, 0.7782200063546534, 0.8338708368113302, 0.8578379468382376, 0.8664416553019277, 0.12220825372879768, 0.6925134377965202, 0.16294433830506358, 0.19251332083377698, 0.42112288932388714, 0.20454540338588803, 0.03609624765633318, 0.024064165104222122, 0.09625666041688849, 0.3345535325991571, 0.1801442098610846, 0.06433721780753021, 0.38602330684518127, 0.07577068279965532, 0.6440508037970702, 0.15154136559931064, 0.07577068279965532, 0.9310669903860307, 0.15730320690917243, 0.20224698031179314, 0.06741566010393105, 0.5617971675327587, 0.8578379468382376, 0.8374750517431981, 0.8728315562129559, 0.9189429173640977, 0.88017590630116, 0.845584779662812, 0.9513499349271319, 0.8632858993018566, 0.8296374920667118, 0.10704999897634991, 0.20541835190127264, 0.2567729398765908, 0.49642768376140883, 0.8972510132301984, 0.8775247583812952, 0.9030371847385904, 0.8620451710637097, 0.8793735253837777, 0.8753734404455067, 0.8348490433897127, 0.8710403520954084, 0.8756175429386691, 0.8497484867231927, 0.7725270339023018, 0.904800917393702, 0.8281365860704253, 0.7952893185497304, 0.7064367290328086, 0.2593947364417344, 0.005519036945568817, 0.011038073891137635, 0.8578379468382376, 0.6355632585384043, 0.0597538106318158, 0.03530906991880024, 0.027160823014461724, 0.09777896285206221, 0.14395236197664715, 0.375012684440966, 0.14552731038007635, 0.47016515661255437, 0.9154332563143388, 0.8145796582477555, 0.8982111778014156, 0.18713219934895764, 0.11515827652243547, 0.0863687073918266, 0.5901861671774818, 0.8754864390234915, 0.8578379468382376, 0.1630961773092714, 0.7747068422190392, 0.8191840469653634, 0.08720163363944697, 0.8284155195747461, 0.9140170525317647, 0.44044319802329207, 0.47190342645352723, 0.8663670407111208, 0.0641753363489719, 0.8989363530312094, 0.9261270626924252, 0.26727170454965954, 0.6514747798397952, 0.06681792613741488, 0.9124699197878203, 0.204284424930909, 0.7626618530753937, 0.8428867073757299, 0.9003589957203827, 0.03650104036704254, 0.03650104036704254, 0.8852110604509872, 0.5201074745273676, 0.09246355102708757, 0.06934766327031568, 0.05613858455216031, 0.047882910353313206, 0.07760333746916279, 0.023115887756771893, 0.08420787682824046, 0.013209078718155368, 0.01651134839769421, 0.8718658974034376, 0.8526454239879623, 0.7827866892390122, 0.8566312111925448, 0.06618436693182544, 0.27301051359378, 0.057911321065347264, 0.03309218346591272, 0.45501752265629997, 0.09927655039773817, 0.8578379468382376, 0.8718203231500732, 0.330366526752318, 0.165183263376159, 0.47195218107473996, 0.7819576214704921, 0.8389417919636675, 0.14994960305867153, 0.7497480152933577, 0.7057584855287412, 0.2228711006932867, 0.8608676177218039, 0.20312746920072658, 0.2633133860009419, 0.2106507088007535, 0.14294155240051132, 0.0677091564002422, 0.015046479200053822, 0.09780211480034984, 0.8407788805684299, 0.22746040913908874, 0.056865102284772186, 0.5402184717053358, 0.11373020456954437, 0.7773149781441759, 0.07620735079844862, 0.0609658806387589, 0.0609658806387589, 0.8499263856278073, 0.6696645196863091, 0.2511241948823659, 0.8727648679418282, 0.8847788916129523, 0.9341080276032561, 0.03851991866405179, 0.2910050708773879, 0.3848776743862227, 0.2065197277194366, 0.03754904140353393, 0.03754904140353393, 0.028161781052650443, 0.0752435843534687, 0.5868999579570559, 0.17306024401297804, 0.03762179217673435, 0.030097433741387482, 0.09029230122416244, 0.8510233323581037, 0.8304106339710777, 0.1016829347719687, 0.033894311590656236, 0.8099827888950051, 0.8495424186749623, 0.8712835669526011, 0.2146380690654165, 0.5634249312967183, 0.09390415521611972, 0.12073391384929678, 0.7613254652991019, 0.8091616644125402, 0.7960961576303404, 0.13268269293839005, 0.5995801317650521, 0.3128244165730707, 0.4171797916277697, 0.10727480356142649, 0.10131509225245836, 0.017879133926904416, 0.2026301845049167, 0.10131509225245836, 0.053637401780713245, 0.8443053108725632, 0.2726334080597595, 0.40390134527371774, 0.07068273542290061, 0.13126793721395827, 0.11107286995027238, 0.032930626077076676, 0.6915431476186101, 0.08232656519269169, 0.06586125215415335, 0.09879187823123002, 0.715966732189286, 0.1869633503132336, 0.0934816751566168, 0.6076308885180092, 0.8706786554443113, 0.9136116617126243, 0.8268719250636617, 0.12919873829119713, 0.7125925147366841, 0.0647811377033349, 0.15547473048800378, 0.038868682622000945, 0.8589542534556196, 0.8411420568625776, 0.7936805799760562, 0.921635334414844, 0.8773379045946317, 0.8110289205075385, 0.10513337858431054, 0.030038108166945868, 0.030038108166945868, 0.8031563151675778, 0.8251262533415281, 0.8506032675842025, 0.1993845223378149, 0.7069087610158892, 0.054377597001222244, 0.9263481959508307, 0.17470353444152656, 0.7146962772607905, 0.07941069747342117, 0.7618949964493666, 0.8149186538154118, 0.3000443438167045, 0.553928019353916, 0.092321336558986, 0.2669579980594623, 0.11123249919144262, 0.07786274943400984, 0.11123249919144262, 0.07786274943400984, 0.34482074749347214, 0.8581480406633, 0.21371069758892533, 0.240424534787541, 0.10685534879446267, 0.41406447657854284, 0.5721867897877757, 0.2685774727575274, 0.058386407121201606, 0.08174096996968225, 0.9436147894503177, 0.934896948273831, 0.9124758378326961, 0.8632962778444612, 0.24710624597994044, 0.1153162481239722, 0.3788962438359087, 0.21415874651594838, 0.8832621358053724, 0.8892878013544966, 0.061822146618227033, 0.01902219895945447, 0.01902219895945447, 0.18581195608795045, 0.02858645478276161, 0.2572780930448545, 0.3430374573931393, 0.15722550130518886, 0.7749359152705793, 0.8140585179078116, 0.410677219603864, 0.4928126635246368, 0.8594697850068416, 0.8584550071897884, 0.06867640057518307, 0.9192599059609743, 0.1427215830771348, 0.770696548616528, 0.7510842107426424, 0.7882679278036644, 0.7891186509751992, 0.11273123585359988, 0.2061363321145952, 0.46571541699964103, 0.10688550554090122, 0.03053871586882892, 0.11452018450810844, 0.0763467896720723, 0.7281847570852381, 0.15061581408796199, 0.702873799077156, 0.8132920064716365, 0.12707687601119322, 0.40315514719330847, 0.3511351282006235, 0.11704504273354116, 0.10404003798536993, 0.8751298040909082, 0.27525249787294365, 0.06116722174954303, 0.6116722174954303, 0.856974964630655, 0.05528870739552613, 0.04607392282960511, 0.027644353697763066, 0.16682928629173313, 0.12234147661393764, 0.03336585725834663, 0.4115122395196084, 0.177951238711182, 0.07785366693614214, 0.817261729534852, 0.31091376465931686, 0.3462448742796938, 0.26851643311486456, 0.02119866577222615, 0.0423973315444523, 0.8024456498341159, 0.1253821327865806, 0.8392212739751305, 0.9066521726358354, 0.7749411564155493, 0.7916046602291503, 0.9450101526729047, 0.8974752215148946, 0.6870903222775279, 0.17177258056938197, 0.9491849340446028, 0.8592345235238498, 0.8399741838256243, 0.8357070940771609, 0.1420602150125983, 0.8117726572148475, 0.886447929599903, 0.8025967233140368, 0.10660255511094127, 0.8172862558505498, 0.8673067136567658, 0.03324023025347527, 0.5318436840556043, 0.16620115126737636, 0.06648046050695054, 0.16620115126737636, 0.9397635780915253, 0.8716139972399904, 0.26769888790910795, 0.6814153510413656, 0.8187866916594748, 0.8526599146783521, 0.9189512930697896, 0.15586419631677384, 0.7793209815838692, 0.1185452203849781, 0.15806029384663747, 0.3688073523088208, 0.06585845576943228, 0.05268676461554583, 0.17123198500052392, 0.06585845576943228, 0.8246001087373455, 0.8194054518411129, 0.09454678290474379, 0.7762730877320472, 0.8829713100359288, 0.16005835274389946, 0.7202625873475476, 0.08002917637194973, 0.8797317892143184, 0.8698995170380894, 0.806685961464287, 0.8731558058762245, 0.912934548830423, 0.8667510965096954, 0.9037704470397173, 0.8649680581163618, 0.46040685050520347, 0.46040685050520347, 0.648348927803847, 0.08404523138198017, 0.15608400113796317, 0.08404523138198017, 0.1601280844599603, 0.7739524082231414, 0.8524221681721149, 0.8196462545831389, 0.0455359030323966, 0.8907275099004518, 0.8774474995826657, 0.36285458648118457, 0.5241232915839332, 0.8206553748760789, 0.8094732919288327, 0.440579579830056, 0.1258798799514446, 0.0629399399757223, 0.3356796798705189, 0.5527493811176084, 0.39153081162497266, 0.7497053544914954, 0.31905081958945036, 0.20738303273314276, 0.44667114742523056, 0.8768818505059696, 0.8805936055626639, 0.9312222975212721, 0.9423594622207077, 0.12444712831025843, 0.21778247454295224, 0.5911238594737276, 0.8303397809105841, 0.7765371144382114, 0.872565338443145, 0.8724762352894215, 0.8649221867002898, 0.06653247590002229, 0.12574853584718407, 0.3073853098486722, 0.4471059052344323, 0.08383235723145605, 0.027944119077152017, 0.7676729938095749, 0.034118799724869996, 0.17059399862434996, 0.4486819729443811, 0.1682557398541429, 0.07478032882406352, 0.2804262330902382, 0.7414075786539939, 0.14563363152132022, 0.09267594733174923, 0.8705793431035338, 0.7548207397570955, 0.757953969904754, 0.22971236065568176, 0.6508516885244316, 0.08549656340843353, 0.2564896902253006, 0.555727662154818, 0.8480939613337936, 0.8171363492584829, 0.8443053108725632, 0.85252512166496, 0.30599388331620614, 0.639805392388431, 0.8681227543850479, 0.8462142821807884, 0.31323513835058503, 0.600367348505288, 0.026102928195882082, 0.8620722843566399, 0.7892010600551718, 0.271330326065827, 0.426376226674871, 0.20349774454937025, 0.077522950304522, 0.8387604741359643, 0.8782519035548929, 0.1826224011159422, 0.3304595829717049, 0.12174826741062812, 0.3043706685265703, 0.052177828890269194, 0.10664266611393411, 0.4621182198270478, 0.40879688677008075, 0.15286811412109882, 0.7133845325651278, 0.9179389509213017, 0.2572872061548213, 0.6783026344081653, 0.9581717307473626, 0.2711779383594247, 0.6609962247510978, 0.03389724229492809, 0.14271457016446096, 0.7611443742104584, 0.9000295339122473, 0.7319499977788202, 0.23477641438188573, 0.28181926341701297, 0.6481843058591299, 0.9381406990406724, 0.05350182809084249, 0.08025274213626372, 0.8025274213626373, 0.04760248237726262, 0.11900620594315654, 0.47602482377262617, 0.04760248237726262, 0.03570186178294696, 0.07140372356589392, 0.03570186178294696, 0.08330434416020958, 0.07140372356589392, 0.7806183230977787, 0.36032904919584663, 0.07455083776465793, 0.12425139627442988, 0.3106284906860747, 0.024850279254885976, 0.0994011170195439, 0.8946170287819036, 0.8225416638135289, 0.13043844740655686, 0.7826306844393413, 0.8489247112280168, 0.22482553770511657, 0.6744766131153497, 0.8704446343313468, 0.18085812377911215, 0.7234324951164486, 0.8566063586017997, 0.03790293622131857, 0.03790293622131857, 0.018951468110659286, 0.045483523465582286, 0.05582513655170239, 0.8932021848272382, 0.9095772037075808, 0.8226250148556551, 0.12811373182178235, 0.040456967943720744, 0.9111979785269679, 0.49055743850771316, 0.413907838740883, 0.061319679813464145, 0.8448021333085807, 0.898201857934911, 0.025662910226711744, 0.8956287585990481, 0.7935696544078802, 0.6958402101241512, 0.15463115780536693, 0.04638934734161008, 0.07731557890268347, 0.19981663495802038, 0.1695413872371082, 0.1544037633766521, 0.3209176258416691, 0.05449544589764192, 0.0514679211255507, 0.021192673404638526, 0.021192673404638526, 0.006055049544182436, 0.07647832719379692, 0.09559790899224614, 0.5353482903565784, 0.11471749079069538, 0.03823916359689846, 0.09559790899224614, 0.09148919181293921, 0.2973398733920524, 0.5718074488308701, 0.9391772756500414, 0.8838007543754042, 0.9524616594891552, 0.8877143829478894, 0.8216247563271337, 0.12640380866571288, 0.7610833166708052, 0.846947819737085, 0.13014579886150807, 0.7808747931690484, 0.42602511947198585, 0.2614245051305368, 0.009682389078908768, 0.08714150171017891, 0.06777672355236138, 0.13555344710472275, 0.3403274737846572, 0.59557307912315, 0.9321718271206476, 0.20539501978182095, 0.09207362955736802, 0.19122984600376436, 0.4532855608978118, 0.049578108223198164, 0.8071555696344601, 0.10018119129672214, 0.3606522886681997, 0.12021742955606657, 0.04007247651868886, 0.060108714778033284, 0.3005435738901664, 0.9028887356931102, 0.8831770593529611, 0.8079939000244847, 0.20238687983754955, 0.17708851985785587, 0.5565639195532613, 0.2293569251627243, 0.6880707754881729, 0.8704461601910328, 0.0741606226779416, 0.17304145291519704, 0.22248186803382478, 0.4944041511862773, 0.2152936417729668, 0.6817631989477283, 0.853664275447843, 0.20387574718946613, 0.7281276685338076, 0.8926309456390877, 0.8057176232731003, 0.2613133228559726, 0.15906028347754853, 0.10225303937842405, 0.2613133228559726, 0.03408434645947468, 0.17042173229737342, 0.0632718881126646, 0.5272657342722049, 0.07381720279810869, 0.052726573427220494, 0.052726573427220494, 0.08436251748355279, 0.1265437762253292, 0.904129723948315, 0.9555288322527059, 0.24687474738062098, 0.11394219109874815, 0.49374949476124197, 0.13293255628187284], \"Term\": [\"abcnew\", \"absolut\", \"acbhear\", \"access\", \"account\", \"account\", \"accus\", \"act\", \"action\", \"activ\", \"actual\", \"actual\", \"administr\", \"admit\", \"agre\", \"agre\", \"aid\", \"air\", \"alleg\", \"alleg\", \"almost\", \"almost\", \"alreadi\", \"alreadi\", \"also\", \"also\", \"also\", \"also\", \"american\", \"american\", \"american\", \"americaneedspennsylvania\", \"americaortrump\", \"announc\", \"answer\", \"antifa\", \"anymor\", \"apolog\", \"appar\", \"around\", \"around\", \"around\", \"articl\", \"articl\", \"articl\", \"attent\", \"awesom\", \"babi\", \"ballot\", \"barackobama\", \"barrett\", \"barrett\", \"barron\", \"barrontrump\", \"base\", \"becam\", \"becom\", \"begin\", \"begin\", \"bia\", \"biden\", \"biden\", \"biden\", \"biden\", \"biden\", \"biden\", \"biden\", \"biden\", \"biden\", \"biden\", \"bidencar\", \"bidencrimefamili\", \"bidenemail\", \"bideng\", \"bidenharri\", \"bidenharri\", \"bidenharri\", \"bidenharri\", \"bidenharri\", \"bidenharri\", \"bidenharrislandslid\", \"bidenharrislandslid\", \"bidenharristosaveamerica\", \"bidenharristosaveamerica\", \"bidenharristosaveamerica\", \"bidenli\", \"bidentownhal\", \"bidentownhal\", \"biggest\", \"billion\", \"blacklivesmatt\", \"blacklivesmatt\", \"blacklivesmatt\", \"block\", \"block\", \"blue\", \"bombshel\", \"bombshel\", \"boycot\", \"boycottmsnbc\", \"boycottnbc\", \"boycottnbc\", \"boycotttrumptownhal\", \"brag\", \"break\", \"break\", \"break\", \"burisma\", \"burismabiden\", \"burismag\", \"businessman\", \"california\", \"call\", \"call\", \"call\", \"call\", \"call\", \"came\", \"campa\", \"cancel\", \"candid\", \"candid\", \"care\", \"care\", \"case\", \"case\", \"case\", \"cash\", \"cave\", \"censor\", \"censorship\", \"censorship\", \"censorship\", \"censorship\", \"centuri\", \"cheer\", \"child\", \"child\", \"china\", \"china\", \"china\", \"china\", \"choic\", \"chump\", \"clinton\", \"clinton\", \"comment\", \"comment\", \"como\", \"consid\", \"conspiraci\", \"copi\", \"corona\", \"coronaviru\", \"coronaviru\", \"coronaviru\", \"coronaviru\", \"corrupt\", \"corrupt\", \"corrupt\", \"corrupt\", \"corrupt\", \"count\", \"countri\", \"countri\", \"countri\", \"court\", \"covid\", \"covid\", \"covid\", \"covid\", \"covid\", \"covid\", \"covidiot\", \"crack\", \"crimin\", \"crook\", \"crook\", \"crowd\", \"crowd\", \"crowd\", \"day\", \"day\", \"dbongino\", \"dead\", \"deal\", \"deal\", \"death\", \"death\", \"death\", \"debat\", \"debat\", \"debat\", \"debat\", \"debat\", \"debat\", \"debt\", \"decis\", \"definit\", \"dem\", \"dem\", \"demand\", \"democrat\", \"democrat\", \"democrat\", \"democrat\", \"democrat\", \"democrat\", \"democrat\", \"deni\", \"desper\", \"devil\", \"disgust\", \"dknight\", \"dollar\", \"dollar\", \"dollar\", \"donald\", \"donald\", \"donald\", \"donald\", \"donaldjtrumpjr\", \"donaldjtrumpjr\", \"donaldtrump\", \"donaldtrump\", \"donaldtrump\", \"donaldtrump\", \"donaldtrump\", \"donaldtrump\", \"donaldtrump\", \"donaldtrump\", \"donaldtrump\", \"donat\", \"done\", \"done\", \"done\", \"doubt\", \"drive\", \"drop\", \"drop\", \"drug\", \"drug\", \"drug\", \"earli\", \"eeuu\", \"either\", \"el\", \"el\", \"el\", \"eleccion\", \"eleccion\", \"elect\", \"elect\", \"elect\", \"elect\", \"elect\", \"elect\", \"elect\", \"elect\", \"elect\", \"electiontwitt\", \"email\", \"email\", \"energi\", \"enough\", \"enough\", \"entr\", \"est\", \"estado\", \"estado\", \"event\", \"event\", \"everyon\", \"everyon\", \"everyon\", \"everyon\", \"everyth\", \"everyth\", \"evid\", \"evid\", \"experienc\", \"explain\", \"face\", \"face\", \"face\", \"facebook\", \"facebook\", \"facebook\", \"facebook\", \"factcheck\", \"fail\", \"fail\", \"fail\", \"fair\", \"fall\", \"famili\", \"famili\", \"famili\", \"fight\", \"fire\", \"first\", \"florida\", \"florida\", \"florida\", \"fnrnn\", \"follow\", \"follow\", \"follow\", \"follow\", \"foreign\", \"former\", \"fourmoreyear\", \"friend\", \"friend\", \"friend\", \"friend\", \"fuck\", \"fuck\", \"fuck\", \"funder\", \"gavinnewsom\", \"georgia\", \"get\", \"get\", \"get\", \"give\", \"give\", \"give\", \"give\", \"give\", \"give\", \"go\", \"go\", \"go\", \"go\", \"good\", \"good\", \"good\", \"good\", \"gophypocrisi\", \"great\", \"great\", \"great\", \"great\", \"gretchenwhitm\", \"group\", \"guess\", \"guilti\", \"hack\", \"half\", \"hall\", \"hand\", \"hard\", \"hard\", \"harri\", \"harri\", \"harri\", \"healthcar\", \"heard\", \"hell\", \"herd\", \"high\", \"hijo\", \"hilari\", \"hillari\", \"hillaryclinton\", \"hollywood\", \"host\", \"hour\", \"huge\", \"hundr\", \"hunter\", \"hunter\", \"hunter\", \"hunter\", \"hunterbidden\", \"hunterbiden\", \"hunterbiden\", \"hunterbiden\", \"hunterbiden\", \"hunterbiden\", \"hunterbiden\", \"hunterbidenemail\", \"hunterbidenemail\", \"hunterbidenemail\", \"hunterbidenlaptop\", \"hunterlaptop\", \"hunterscrackpip\", \"icecub\", \"icecub\", \"icecub\", \"icecub\", \"ignor\", \"ilhanomar\", \"immun\", \"immun\", \"import\", \"influenc\", \"influenc\", \"inform\", \"insid\", \"insid\", \"interest\", \"interest\", \"interfer\", \"introduc\", \"investig\", \"investig\", \"investig\", \"involv\", \"iowa\", \"iowa\", \"iran\", \"jack\", \"jack\", \"jack\", \"jail\", \"joebiden\", \"joebiden\", \"joebiden\", \"joebiden\", \"joebiden\", \"joebiden\", \"joebiden\", \"joebiden\", \"joebiden\", \"joebiden\", \"joebidenisaliar\", \"joebidenissick\", \"joewillleadu\", \"justic\", \"kamalaharri\", \"kamalaharri\", \"kamalaharri\", \"kamalaharri\", \"kamalaharri\", \"kamalaharri\", \"kamalaharrisvp\", \"kayleigh\", \"keep\", \"keep\", \"keep\", \"khrzuhsrqi\", \"kick\", \"kid\", \"kid\", \"kill\", \"kill\", \"kixih\", \"know\", \"know\", \"know\", \"know\", \"know\", \"know\", \"know\", \"known\", \"landslid\", \"landslid\", \"landslid\", \"landslid\", \"landslidevictori\", \"landslidevictori\", \"landslidevictori\", \"landslidevictori\", \"late\", \"leak\", \"leak\", \"leav\", \"left\", \"liar\", \"liar\", \"lie\", \"lie\", \"lie\", \"lie\", \"lie\", \"lie\", \"like\", \"like\", \"like\", \"like\", \"like\", \"like\", \"lindseygrahamsc\", \"link\", \"link\", \"link\", \"listen\", \"liter\", \"littl\", \"look\", \"look\", \"look\", \"look\", \"loser\", \"machin\", \"maddow\", \"maddow\", \"made\", \"made\", \"maga\", \"maga\", \"maga\", \"maga\", \"maga\", \"maga\", \"maga\", \"maidan\", \"make\", \"make\", \"make\", \"make\", \"make\", \"mani\", \"mani\", \"mani\", \"mani\", \"mani\", \"march\", \"mask\", \"mask\", \"mask\", \"mastermind\", \"mayb\", \"mean\", \"mean\", \"medium\", \"medium\", \"medium\", \"medium\", \"melania\", \"meme\", \"mental\", \"messag\", \"mikep\", \"million\", \"million\", \"million\", \"million\", \"minnesota\", \"miss\", \"moin\", \"money\", \"money\", \"money\", \"month\", \"much\", \"much\", \"much\", \"murder\", \"music\", \"nbcnew\", \"nbcnew\", \"nbcnew\", \"need\", \"need\", \"need\", \"need\", \"need\", \"need\", \"network\", \"never\", \"never\", \"never\", \"never\", \"news\", \"news\", \"news\", \"news\", \"newyorkpost\", \"next\", \"night\", \"northcarolina\", \"noth\", \"noth\", \"noth\", \"noth\", \"nunl\", \"nypost\", \"nypost\", \"nypost\", \"nypost\", \"obama\", \"obama\", \"obama\", \"obama\", \"obama\", \"obamabideng\", \"octobersurpris\", \"ohio\", \"ohio\", \"own\", \"pandem\", \"pandem\", \"para\", \"part\", \"part\", \"past\", \"pelosi\", \"penc\", \"penc\", \"peopl\", \"peopl\", \"peopl\", \"peopl\", \"peopl\", \"peopl\", \"phone\", \"photo\", \"photo\", \"point\", \"point\", \"polit\", \"polit\", \"polit\", \"polit\", \"politician\", \"posit\", \"posit\", \"posit\", \"post\", \"post\", \"post\", \"post\", \"potu\", \"potu\", \"potu\", \"potu\", \"potu\", \"potu\", \"pour\", \"presid\", \"presid\", \"presid\", \"presid\", \"presid\", \"presidenti\", \"presidenti\", \"presidenttrump\", \"presssec\", \"pretti\", \"prison\", \"probabl\", \"projectlincoln\", \"promis\", \"promis\", \"prosecutor\", \"prove\", \"pull\", \"put\", \"question\", \"question\", \"quid\", \"quidprojo\", \"race\", \"race\", \"rais\", \"ralli\", \"ralli\", \"ralli\", \"ralli\", \"ralli\", \"rate\", \"realjameswood\", \"reason\", \"reason\", \"recov\", \"relat\", \"releas\", \"rememb\", \"rememb\", \"republican\", \"republican\", \"republican\", \"republican\", \"republican\", \"republican\", \"republican\", \"return\", \"reveal\", \"reveal\", \"revel\", \"reward\", \"right\", \"right\", \"right\", \"riot\", \"rise\", \"rule\", \"run\", \"russia\", \"russian\", \"rvat\", \"savannahguthri\", \"save\", \"save\", \"say\", \"say\", \"say\", \"say\", \"scandal\", \"scandal\", \"scare\", \"schedul\", \"schedul\", \"seanhann\", \"second\", \"seem\", \"seem\", \"serious\", \"sexual\", \"share\", \"share\", \"share\", \"share\", \"shit\", \"shit\", \"short\", \"show\", \"show\", \"show\", \"slaughter\", \"sleepyjo\", \"smoke\", \"social\", \"someth\", \"someth\", \"someth\", \"soon\", \"special\", \"speech\", \"sponsor\", \"spread\", \"spread\", \"state\", \"state\", \"state\", \"state\", \"state\", \"still\", \"still\", \"still\", \"stop\", \"stop\", \"stop\", \"stop\", \"stori\", \"stori\", \"stori\", \"suppos\", \"suprem\", \"supremecourt\", \"surpris\", \"surpris\", \"swamp\", \"swamp\", \"swamp\", \"system\", \"taken\", \"takeov\", \"team\", \"teamtrump\", \"teamtrump\", \"tedwheel\", \"term\", \"test\", \"test\", \"test\", \"thedemocrat\", \"theplumlineg\", \"think\", \"think\", \"think\", \"think\", \"threat\", \"thursday\", \"time\", \"time\", \"time\", \"time\", \"time\", \"today\", \"today\", \"today\", \"told\", \"told\", \"tomorrow\", \"tonight\", \"tonight\", \"town\", \"townhal\", \"townhal\", \"townhal\", \"train\", \"train\", \"trend\", \"tri\", \"tri\", \"true\", \"true\", \"trumpattacksblackwomen\", \"trumpcovid\", \"trumpcovid\", \"trumpcovid\", \"trumpisalaughingstock\", \"trumpisalaughingstock\", \"trumpisalaughingstock\", \"trumpisalaughingstock\", \"trumpisalaughingstock\", \"trumpisalaughingstock\", \"trumpisalaughingstock\", \"trumpisalaughingstock\", \"trumpisalaughingstock\", \"trumpli\", \"trumppenc\", \"trumppenc\", \"trumppenc\", \"trumppenc\", \"trumppenc\", \"trumppenc\", \"trumpral\", \"trumptax\", \"trumpviru\", \"trumpviru\", \"tucker\", \"tuckercarlson\", \"tuckercarlson\", \"tune\", \"turn\", \"turn\", \"twitter\", \"twitter\", \"twitter\", \"twitter\", \"twitter\", \"twittercensorship\", \"twittercensorship\", \"twittersafeti\", \"ukrain\", \"ukrain\", \"ukrain\", \"ukraineg\", \"ukrainian\", \"ukrainian\", \"ukrainian\", \"unido\", \"unit\", \"unit\", \"usual\", \"vaccin\", \"video\", \"video\", \"video\", \"video\", \"vote\", \"vote\", \"vote\", \"vote\", \"vote\", \"vote\", \"vote\", \"vote\", \"vote\", \"votebiden\", \"votebiden\", \"votebiden\", \"votebiden\", \"votebiden\", \"votebiden\", \"votebidenharri\", \"votebidenharri\", \"votebidenharri\", \"votebluedownballot\", \"votebluetoendthisnightmar\", \"votebluetosaveamerica\", \"voteearli\", \"votehimout\", \"votehimout\", \"votevet\", \"vou\", \"wake\", \"wake\", \"want\", \"want\", \"want\", \"want\", \"want\", \"want\", \"washington\", \"washington\", \"washingtonpost\", \"watch\", \"watch\", \"watch\", \"watch\", \"watch\", \"wear\", \"well\", \"well\", \"well\", \"well\", \"well\", \"well\", \"whereshunt\", \"whole\", \"will\", \"win\", \"win\", \"win\", \"wisconsin\", \"wisconsin\", \"wise\", \"woman\", \"woman\", \"woman\", \"woman\", \"wonder\", \"wonder\", \"worri\", \"wors\", \"wors\", \"worst\", \"worth\", \"would\", \"would\", \"would\", \"would\", \"would\", \"would\", \"year\", \"year\", \"year\", \"year\", \"year\", \"year\", \"year\", \"yesterday\", \"york\", \"youtub\", \"youtub\", \"youtub\", \"youtub\"]}, \"R\": 30, \"lambda.step\": 0.01, \"plot.opts\": {\"xlab\": \"PC1\", \"ylab\": \"PC2\"}, \"topic.order\": [8, 10, 1, 4, 3, 7, 2, 9, 5, 6]};\n",
       "\n",
       "function LDAvis_load_lib(url, callback){\n",
       "  var s = document.createElement('script');\n",
       "  s.src = url;\n",
       "  s.async = true;\n",
       "  s.onreadystatechange = s.onload = callback;\n",
       "  s.onerror = function(){console.warn(\"failed to load library \" + url);};\n",
       "  document.getElementsByTagName(\"head\")[0].appendChild(s);\n",
       "}\n",
       "\n",
       "if(typeof(LDAvis) !== \"undefined\"){\n",
       "   // already loaded: just create the visualization\n",
       "   !function(LDAvis){\n",
       "       new LDAvis(\"#\" + \"ldavis_el47202140609781772064477832361\", ldavis_el47202140609781772064477832361_data);\n",
       "   }(LDAvis);\n",
       "}else if(typeof define === \"function\" && define.amd){\n",
       "   // require.js is available: use it to load d3/LDAvis\n",
       "   require.config({paths: {d3: \"https://d3js.org/d3.v5\"}});\n",
       "   require([\"d3\"], function(d3){\n",
       "      window.d3 = d3;\n",
       "      LDAvis_load_lib(\"https://cdn.jsdelivr.net/gh/bmabey/pyLDAvis@3.3.1/pyLDAvis/js/ldavis.v3.0.0.js\", function(){\n",
       "        new LDAvis(\"#\" + \"ldavis_el47202140609781772064477832361\", ldavis_el47202140609781772064477832361_data);\n",
       "      });\n",
       "    });\n",
       "}else{\n",
       "    // require.js not available: dynamically load d3 & LDAvis\n",
       "    LDAvis_load_lib(\"https://d3js.org/d3.v5.js\", function(){\n",
       "         LDAvis_load_lib(\"https://cdn.jsdelivr.net/gh/bmabey/pyLDAvis@3.3.1/pyLDAvis/js/ldavis.v3.0.0.js\", function(){\n",
       "                 new LDAvis(\"#\" + \"ldavis_el47202140609781772064477832361\", ldavis_el47202140609781772064477832361_data);\n",
       "            })\n",
       "         });\n",
       "}\n",
       "</script>"
      ],
      "text/plain": [
       "PreparedData(topic_coordinates=              x         y  topics  cluster       Freq\n",
       "topic                                                \n",
       "7      0.174192 -0.075055       1        1  21.856220\n",
       "9      0.101925 -0.125343       2        1  17.597941\n",
       "0      0.042493  0.041114       3        1  10.116513\n",
       "3     -0.014013  0.258480       4        1   9.285017\n",
       "2     -0.052707 -0.115115       5        1   8.837945\n",
       "6      0.098713  0.058675       6        1   7.228903\n",
       "1     -0.168679  0.009441       7        1   6.998542\n",
       "8      0.104988  0.037981       8        1   6.751594\n",
       "4     -0.162656 -0.058985       9        1   5.984281\n",
       "5     -0.124255 -0.031194      10        1   5.343044, topic_info=                  Term        Freq       Total Category  logprob  loglift\n",
       "139              covid  210.000000  210.000000  Default  30.0000  30.0000\n",
       "278   hunterbidenemail  178.000000  178.000000  Default  29.0000  29.0000\n",
       "197        hunterbiden  368.000000  368.000000  Default  28.0000  28.0000\n",
       "68          censorship  135.000000  135.000000  Default  27.0000  27.0000\n",
       "1242           burisma   89.000000   89.000000  Default  26.0000  26.0000\n",
       "...                ...         ...         ...      ...      ...      ...\n",
       "268               save   14.874334   32.579880  Topic10  -4.9400   2.1453\n",
       "189            countri   17.382941   51.972841  Topic10  -4.7842   1.8341\n",
       "139              covid   18.450757  210.753005  Topic10  -4.7246   0.4938\n",
       "269               well   14.555695   49.909568  Topic10  -4.9617   1.6971\n",
       "389               want   14.219572  103.280295  Topic10  -4.9851   0.9465\n",
       "\n",
       "[550 rows x 6 columns], token_table=      Topic      Freq     Term\n",
       "term                          \n",
       "851       8  0.778478   abcnew\n",
       "443       5  0.847176  absolut\n",
       "1348      4  0.930768  acbhear\n",
       "1053      2  0.853843   access\n",
       "753       2  0.756267  account\n",
       "...     ...       ...      ...\n",
       "797       1  0.955529     york\n",
       "686       1  0.246875   youtub\n",
       "686       6  0.113942   youtub\n",
       "686       7  0.493749   youtub\n",
       "686       9  0.132933   youtub\n",
       "\n",
       "[943 rows x 3 columns], R=30, lambda_step=0.01, plot_opts={'xlab': 'PC1', 'ylab': 'PC2'}, topic_order=[8, 10, 1, 4, 3, 7, 2, 9, 5, 6])"
      ]
     },
     "execution_count": 35,
     "metadata": {},
     "output_type": "execute_result"
    }
   ],
   "source": [
    "gensimviz.prepare(lda,corpus,dictionary)"
   ]
  },
  {
   "cell_type": "markdown",
   "id": "da69c38a-f6ef-498f-9d24-08b37cfbee2d",
   "metadata": {},
   "source": [
    "# VERSION 2: BIDEN VS. TRUMP"
   ]
  },
  {
   "cell_type": "markdown",
   "id": "c777d7d9-dc28-4428-a1a9-3b1448d917d4",
   "metadata": {},
   "source": [
    "## Pre-Processing"
   ]
  },
  {
   "cell_type": "code",
   "execution_count": 36,
   "id": "0ed0752a-f477-4626-b706-48328655b1e3",
   "metadata": {},
   "outputs": [],
   "source": [
    "dft = dft[:2000]"
   ]
  },
  {
   "cell_type": "code",
   "execution_count": 37,
   "id": "0a29c3bb-1bc0-4491-8907-27ea16568849",
   "metadata": {},
   "outputs": [],
   "source": [
    "dfb = dfb[:2000]"
   ]
  },
  {
   "cell_type": "code",
   "execution_count": 38,
   "id": "c0dce613-3a33-4b27-86b0-718777d31bdb",
   "metadata": {},
   "outputs": [
    {
     "name": "stderr",
     "output_type": "stream",
     "text": [
      "100%|█████████████████████████████████████| 2000/2000 [00:01<00:00, 1911.86it/s]\n"
     ]
    }
   ],
   "source": [
    "tqdm.tqdm.pandas()\n",
    "dft['tweet_tokenized'] = dft['tweet'].progress_apply(lambda x:tweet_preprocess(str(x)))"
   ]
  },
  {
   "cell_type": "code",
   "execution_count": 39,
   "id": "99485c58-5af4-4103-a391-00aae9577b65",
   "metadata": {},
   "outputs": [
    {
     "name": "stderr",
     "output_type": "stream",
     "text": [
      "100%|█████████████████████████████████████| 2000/2000 [00:00<00:00, 2139.31it/s]\n"
     ]
    }
   ],
   "source": [
    "tqdm.tqdm.pandas()\n",
    "dfb['tweet_tokenized'] = dfb['tweet'].progress_apply(lambda x:tweet_preprocess(str(x)))"
   ]
  },
  {
   "cell_type": "code",
   "execution_count": 40,
   "id": "ae67aa0b-01c7-486f-a6c5-76180e0004e1",
   "metadata": {},
   "outputs": [],
   "source": [
    "documents_t = dft['tweet_tokenized'].str.split()"
   ]
  },
  {
   "cell_type": "code",
   "execution_count": 41,
   "id": "340179bf-2d36-42cc-a9be-0c40a7cf9d8b",
   "metadata": {},
   "outputs": [],
   "source": [
    "documents_b = dfb['tweet_tokenized'].str.split()"
   ]
  },
  {
   "cell_type": "code",
   "execution_count": 42,
   "id": "c0acc6ac-01d5-45f9-8451-5d51efc310f5",
   "metadata": {},
   "outputs": [],
   "source": [
    "dictionary_t = gensim.corpora.Dictionary(documents_t)\n",
    "dictionary_t.filter_extremes(no_below=5, no_above=0.5, keep_n=20000)\n",
    "\n",
    "tfidf_t = gensim.models.TfidfModel(dictionary=dictionary_t)\n",
    "\n",
    "corpus_t = [dictionary_t.doc2bow(document) for document in documents_t]\n",
    "\n",
    "corpus_tfidf_t = list(tfidf_t[corpus_t])"
   ]
  },
  {
   "cell_type": "code",
   "execution_count": 43,
   "id": "7ed3d643-0776-4f32-ae2d-8be63c6c1a1f",
   "metadata": {},
   "outputs": [],
   "source": [
    "dictionary_b = gensim.corpora.Dictionary(documents_b)\n",
    "dictionary_b.filter_extremes(no_below=5, no_above=0.5, keep_n=20000)\n",
    "\n",
    "tfidf_b = gensim.models.TfidfModel(dictionary=dictionary_b)\n",
    "\n",
    "corpus_b = [dictionary_b.doc2bow(document) for document in documents_b]\n",
    "\n",
    "corpus_tfidf_b = list(tfidf_b[corpus_b])"
   ]
  },
  {
   "cell_type": "markdown",
   "id": "95c80a2b-28bb-4618-8959-f6c5ac6e31b1",
   "metadata": {},
   "source": [
    "## LDA Modelling"
   ]
  },
  {
   "cell_type": "markdown",
   "id": "c5abecb6-24ac-4344-99c3-ecabccc658c0",
   "metadata": {},
   "source": [
    "### TRUMP"
   ]
  },
  {
   "cell_type": "code",
   "execution_count": 44,
   "id": "fa16f131-5f74-47f9-a360-c767db22dc79",
   "metadata": {},
   "outputs": [
    {
     "data": {
      "application/javascript": [
       "$(document).ready(\n",
       "    function() {\n",
       "        function appendUniqueDiv(){\n",
       "            // append a div with our uuid so we can check that it's already\n",
       "            // been sent and avoid duplicates on page reload\n",
       "            var notifiedDiv = document.createElement(\"div\")\n",
       "            notifiedDiv.id = \"88093f66-777b-4d3d-86c2-40f0bea39aba\"\n",
       "            element.append(notifiedDiv)\n",
       "        }\n",
       "\n",
       "        // only send notifications if the pageload is complete; this will\n",
       "        // help stop extra notifications when a saved notebook is loaded,\n",
       "        // which during testing gives us state \"interactive\", not \"complete\"\n",
       "        if (document.readyState === 'complete') {\n",
       "            // check for the div that signifies that the notification\n",
       "            // was already sent\n",
       "            if (document.getElementById(\"88093f66-777b-4d3d-86c2-40f0bea39aba\") === null) {\n",
       "                var notificationPayload = {\"requireInteraction\": false, \"icon\": \"/static/base/images/favicon.ico\", \"body\": \"Cell execution has finished!\"};\n",
       "                if (Notification.permission !== 'denied') {\n",
       "                    if (Notification.permission !== 'granted') { \n",
       "                        Notification.requestPermission(function (permission) {\n",
       "                            if(!('permission' in Notification)) {\n",
       "                                Notification.permission = permission\n",
       "                            }\n",
       "                        })\n",
       "                    }\n",
       "                    if (Notification.permission === 'granted') {\n",
       "                    var notification = new Notification(\"Jupyter Notebook\", notificationPayload)\n",
       "                    appendUniqueDiv()\n",
       "                    notification.onclick = function () {\n",
       "                        window.focus();\n",
       "                        this.close();\n",
       "                        };\n",
       "                    } \n",
       "                }     \n",
       "            }\n",
       "        }\n",
       "    }\n",
       ")\n"
      ],
      "text/plain": [
       "<IPython.core.display.Javascript object>"
      ]
     },
     "metadata": {},
     "output_type": "display_data"
    }
   ],
   "source": [
    "%%notify\n",
    "\n",
    "lda_t = gensim.models.ldamodel.LdaModel(\n",
    "    corpus = corpus_tfidf_t,\n",
    "    num_topics = 10,\n",
    "    id2word = dictionary_t,\n",
    "    chunksize=CHUNK_SIZE, passes=EPOCHS, \n",
    "    eval_every = EVAL_PERIOD, \n",
    "    per_word_topics=True\n",
    "    )"
   ]
  },
  {
   "cell_type": "code",
   "execution_count": null,
   "id": "37816509-ce95-448b-88da-04e19103a23c",
   "metadata": {},
   "outputs": [],
   "source": [
    "topics_lda_t = lda_t.print_topics()"
   ]
  },
  {
   "cell_type": "code",
   "execution_count": 45,
   "id": "06473d21-62bc-47fe-b1ae-4ee8275b8bca",
   "metadata": {},
   "outputs": [
    {
     "name": "stderr",
     "output_type": "stream",
     "text": [
      "/Users/matteo-stelluti/opt/anaconda3/lib/python3.9/site-packages/pyLDAvis/_prepare.py:246: FutureWarning: In a future version of pandas all arguments of DataFrame.drop except for the argument 'labels' will be keyword-only.\n",
      "  default_term_info = default_term_info.sort_values(\n",
      "/Users/matteo-stelluti/opt/anaconda3/lib/python3.9/site-packages/past/builtins/misc.py:45: DeprecationWarning: the imp module is deprecated in favour of importlib; see the module's documentation for alternative uses\n",
      "  from imp import reload\n",
      "/Users/matteo-stelluti/opt/anaconda3/lib/python3.9/site-packages/past/builtins/misc.py:45: DeprecationWarning: the imp module is deprecated in favour of importlib; see the module's documentation for alternative uses\n",
      "  from imp import reload\n",
      "/Users/matteo-stelluti/opt/anaconda3/lib/python3.9/site-packages/past/builtins/misc.py:45: DeprecationWarning: the imp module is deprecated in favour of importlib; see the module's documentation for alternative uses\n",
      "  from imp import reload\n",
      "/Users/matteo-stelluti/opt/anaconda3/lib/python3.9/site-packages/past/builtins/misc.py:45: DeprecationWarning: the imp module is deprecated in favour of importlib; see the module's documentation for alternative uses\n",
      "  from imp import reload\n",
      "/Users/matteo-stelluti/opt/anaconda3/lib/python3.9/site-packages/past/builtins/misc.py:45: DeprecationWarning: the imp module is deprecated in favour of importlib; see the module's documentation for alternative uses\n",
      "  from imp import reload\n",
      "/Users/matteo-stelluti/opt/anaconda3/lib/python3.9/site-packages/past/builtins/misc.py:45: DeprecationWarning: the imp module is deprecated in favour of importlib; see the module's documentation for alternative uses\n",
      "  from imp import reload\n",
      "/Users/matteo-stelluti/opt/anaconda3/lib/python3.9/site-packages/past/builtins/misc.py:45: DeprecationWarning: the imp module is deprecated in favour of importlib; see the module's documentation for alternative uses\n",
      "  from imp import reload\n",
      "/Users/matteo-stelluti/opt/anaconda3/lib/python3.9/site-packages/past/builtins/misc.py:45: DeprecationWarning: the imp module is deprecated in favour of importlib; see the module's documentation for alternative uses\n",
      "  from imp import reload\n",
      "/Users/matteo-stelluti/opt/anaconda3/lib/python3.9/site-packages/past/builtins/misc.py:45: DeprecationWarning: the imp module is deprecated in favour of importlib; see the module's documentation for alternative uses\n",
      "  from imp import reload\n"
     ]
    },
    {
     "data": {
      "text/html": [
       "\n",
       "<link rel=\"stylesheet\" type=\"text/css\" href=\"https://cdn.jsdelivr.net/gh/bmabey/pyLDAvis@3.3.1/pyLDAvis/js/ldavis.v1.0.0.css\">\n",
       "\n",
       "\n",
       "<div id=\"ldavis_el472021406102750479045804392984\"></div>\n",
       "<script type=\"text/javascript\">\n",
       "\n",
       "var ldavis_el472021406102750479045804392984_data = {\"mdsDat\": {\"x\": [-0.12265767050393726, -0.10375174497966137, -0.14585117075028825, -0.0543151640356386, 0.13624853571540552, 0.12610209751739548, -0.021108474042060708, 0.014453252557357398, 0.0254410008541617, 0.1454393376672661], \"y\": [-0.028886052289339385, -0.03914403397941186, 0.037760153433762704, 0.14297298572237166, 0.18719132957925447, -0.054152334990474685, -0.1027645770524372, 0.0189222329248595, -0.06747325952514684, -0.0944264438234387], \"topics\": [1, 2, 3, 4, 5, 6, 7, 8, 9, 10], \"cluster\": [1, 1, 1, 1, 1, 1, 1, 1, 1, 1], \"Freq\": [18.04312809778141, 14.975610093262906, 11.35117974785422, 11.082859009869265, 9.896826723614105, 8.908862577100853, 7.82610484960631, 6.226942422137246, 5.845766226134141, 5.842720252639545]}, \"tinfo\": {\"Term\": [\"joebiden\", \"hunterbiden\", \"twitter\", \"vote\", \"trumpcovid\", \"boycottnbc\", \"barron\", \"donaldtrump\", \"covid\", \"alreadi\", \"icecub\", \"iowa\", \"elect\", \"para\", \"plea\", \"donald\", \"bidentownhal\", \"liar\", \"year\", \"ralli\", \"ukrain\", \"facebook\", \"watch\", \"trumppenc\", \"nypost\", \"donaldjtrumpjr\", \"woman\", \"trumpisalaughingstock\", \"votebluetosaveamerica\", \"covidiot\", \"mean\", \"cash\", \"social\", \"soon\", \"damn\", \"accus\", \"antifa\", \"esto\", \"allow\", \"instead\", \"issu\", \"nytim\", \"ignor\", \"word\", \"respect\", \"clown\", \"patriot\", \"hack\", \"abort\", \"icecub\", \"retweet\", \"confess\", \"beg\", \"hundr\", \"middl\", \"nancypelosi\", \"alway\", \"usual\", \"better\", \"incom\", \"white\", \"medium\", \"support\", \"shit\", \"kid\", \"hous\", \"never\", \"would\", \"like\", \"right\", \"noth\", \"said\", \"fuck\", \"hate\", \"mani\", \"much\", \"plan\", \"look\", \"know\", \"elect\", \"follow\", \"work\", \"think\", \"polit\", \"say\", \"vote\", \"maga\", \"biden\", \"republican\", \"peopl\", \"money\", \"estado\", \"month\", \"die\", \"without\", \"york\", \"unido\", \"rich\", \"offici\", \"rise\", \"trumpisalos\", \"hide\", \"control\", \"count\", \"hospit\", \"trade\", \"judg\", \"ohio\", \"four\", \"todo\", \"spi\", \"economi\", \"alon\", \"harri\", \"caught\", \"senat\", \"suprem\", \"giuliani\", \"regeneron\", \"senior\", \"power\", \"song\", \"govern\", \"democrat\", \"stori\", \"use\", \"american\", \"video\", \"republican\", \"death\", \"could\", \"still\", \"polit\", \"anoth\", \"million\", \"votebidenharri\", \"biden\", \"peopl\", \"year\", \"happen\", \"everi\", \"covid\", \"want\", \"elect\", \"give\", \"famili\", \"leav\", \"funni\", \"barackobama\", \"surpris\", \"histori\", \"biggest\", \"novemb\", \"trumptaxreturn\", \"matter\", \"fascism\", \"return\", \"larg\", \"funder\", \"order\", \"bodi\", \"pennsylvania\", \"learn\", \"laugh\", \"rais\", \"votetrumpout\", \"desper\", \"problem\", \"honor\", \"votehimout\", \"univers\", \"voteearli\", \"propaganda\", \"serious\", \"electionday\", \"hillari\", \"trumppenc\", \"facebook\", \"love\", \"putin\", \"landslid\", \"leader\", \"life\", \"articl\", \"twitter\", \"administr\", \"donaldtrump\", \"wall\", \"countri\", \"win\", \"presid\", \"bidenharri\", \"world\", \"lie\", \"stop\", \"realli\", \"elect\", \"know\", \"vote\", \"biden\", \"joebiden\", \"jack\", \"account\", \"defeat\", \"censorship\", \"event\", \"left\", \"heard\", \"told\", \"schedul\", \"twittercensorship\", \"barr\", \"hunterbidenemail\", \"wonder\", \"gopsuperspread\", \"nbcistrumpsaccomplic\", \"hillaryclinton\", \"bidencrimefamili\", \"entr\", \"ddale\", \"hold\", \"side\", \"advic\", \"answer\", \"simpl\", \"forc\", \"billboard\", \"americafirst\", \"thursday\", \"hunterbiden\", \"virtual\", \"voic\", \"poll\", \"bank\", \"chang\", \"nypost\", \"joebiden\", \"agre\", \"watch\", \"wrong\", \"florida\", \"hall\", \"last\", \"town\", \"campaign\", \"twitter\", \"townhal\", \"nbcnew\", \"ralli\", \"kamalaharri\", \"potu\", \"biden\", \"donaldtrump\", \"go\", \"peopl\", \"bidenharri\", \"elect\", \"year\", \"boycottnbc\", \"votebluetosaveamerica\", \"votebluedownballot\", \"gophypocrisi\", \"bidentownhal\", \"trumpattacksblackwomen\", \"acbhear\", \"presidenttrump\", \"yesterday\", \"tiktok\", \"veteran\", \"tonight\", \"boycotttrumptownhal\", \"around\", \"covidiot\", \"desmoin\", \"mock\", \"trumpsthebiggestliarev\", \"boycot\", \"cave\", \"sponsor\", \"alllivesmatt\", \"bidenharrislandslid\", \"sucker\", \"group\", \"resist\", \"afraid\", \"maddow\", \"listen\", \"bidenharristosaveamerica\", \"rate\", \"youtub\", \"suppos\", \"iowa\", \"donald\", \"ralli\", \"barrontrump\", \"trumpisalaughingstock\", \"biden\", \"covid\", \"anyth\", \"maga\", \"potu\", \"show\", \"donaldtrump\", \"vote\", \"time\", \"hijo\", \"court\", \"swamp\", \"conserv\", \"rule\", \"bien\", \"texa\", \"racism\", \"seen\", \"melaniatrump\", \"melania\", \"refus\", \"shame\", \"posit\", \"tambi\", \"exist\", \"acyn\", \"arif\", \"barron\", \"agent\", \"liter\", \"meme\", \"menor\", \"seanhann\", \"valu\", \"partner\", \"christian\", \"coward\", \"integr\", \"head\", \"unitedst\", \"test\", \"whitehous\", \"investig\", \"landslidevictori\", \"also\", \"true\", \"sound\", \"great\", \"foxnew\", \"coronaviru\", \"infect\", \"covid\", \"talk\", \"corrupt\", \"maga\", \"obama\", \"herdimmun\", \"donaldtrump\", \"like\", \"barrontrump\", \"say\", \"child\", \"name\", \"justic\", \"amyconeybarrett\", \"effect\", \"penc\", \"plea\", \"supremecourt\", \"run\", \"scotushear\", \"taken\", \"aid\", \"devil\", \"grave\", \"refer\", \"caus\", \"project\", \"hilari\", \"ridicul\", \"wednesday\", \"camera\", \"southwestair\", \"dumptrump\", \"gain\", \"appoint\", \"normal\", \"write\", \"trumprussia\", \"bite\", \"impress\", \"move\", \"danc\", \"immun\", \"fight\", \"woman\", \"well\", \"littl\", \"pandem\", \"hear\", \"fear\", \"save\", \"need\", \"scotu\", \"reason\", \"tell\", \"away\", \"stupid\", \"keep\", \"good\", \"say\", \"person\", \"like\", \"donaldtrump\", \"covid\", \"get\", \"promis\", \"wake\", \"blue\", \"burisma\", \"bluewav\", \"thread\", \"armenia\", \"halloween\", \"sanctionturkey\", \"outstand\", \"murder\", \"discus\", \"factcheck\", \"john\", \"genocid\", \"subject\", \"turkey\", \"tuckercarlson\", \"maidan\", \"mastermind\", \"takeov\", \"sorri\", \"hour\", \"citizen\", \"rememberinnovemb\", \"trumpcovid\", \"donaldjtrumpjr\", \"bankrupt\", \"bush\", \"disgust\", \"ukrain\", \"fourmoreyear\", \"california\", \"hunter\", \"elect\", \"impeach\", \"messag\", \"leak\", \"tweet\", \"post\", \"uspoli\", \"covid\", \"self\", \"biden\", \"trumpviru\", \"vote\", \"lie\", \"voteblu\", \"care\", \"para\", \"moin\", \"wear\", \"day\", \"chump\", \"corona\", \"anti\", \"el\", \"como\", \"decis\", \"attent\", \"steve\", \"alreadi\", \"eeuu\", \"nomin\", \"positivo\", \"bia\", \"recent\", \"leadership\", \"fuel\", \"film\", \"wind\", \"base\", \"front\", \"exampl\", \"amend\", \"load\", \"memori\", \"bidenwillcrushcovid\", \"throw\", \"president\", \"must\", \"earli\", \"liar\", \"politician\", \"releas\", \"conspiraci\", \"vote\", \"fair\", \"eleccion\", \"year\", \"black\", \"viru\", \"compani\", \"donald\", \"lost\", \"covid\", \"donaldtrump\", \"hard\", \"biden\", \"vou\", \"debt\", \"trumpisanationaldisgrac\", \"clinton\", \"hollywood\", \"pour\", \"thank\", \"dump\", \"trumptax\", \"americaortrump\", \"americaneedspennsylvania\", \"trumpproject\", \"begin\", \"guess\", \"three\", \"northcarolina\", \"boycottnbctownhal\", \"ncpol\", \"reckless\", \"washington\", \"tedwheel\", \"farmer\", \"georgetakei\", \"slaughter\", \"spreader\", \"riot\", \"gavinnewsom\", \"gretchenwhitm\", \"hunterbidden\", \"ilhanomar\", \"probabl\", \"trumpcrimefamili\", \"blacklivesmatt\", \"presidenti\", \"teamtrump\", \"debat\", \"obama\", \"unit\", \"voter\", \"wors\", \"give\", \"trumpisalaughingstock\"], \"Freq\": [102.0, 56.0, 79.0, 139.0, 32.0, 33.0, 37.0, 164.0, 144.0, 28.0, 59.0, 58.0, 120.0, 22.0, 30.0, 47.0, 30.0, 30.0, 55.0, 52.0, 28.0, 44.0, 49.0, 41.0, 47.0, 26.0, 37.0, 55.0, 26.0, 29.0, 19.683629412209243, 14.466606915497222, 16.760225903337552, 12.274794368432298, 12.090716395428275, 11.710025989435511, 11.539156069030279, 10.6962748871758, 17.111436514120907, 10.597553095839059, 10.53244444323088, 10.530892722906414, 10.412941018820234, 19.2471818716699, 10.097243627218642, 9.975819885666823, 17.303351144543733, 9.65496286137014, 9.530247767066754, 47.154107972203334, 11.87020298846186, 8.894580874484008, 8.882160607238582, 8.751850791448616, 8.33106717014175, 8.258246893936905, 20.54533649579249, 12.526151378829953, 22.315396228744255, 7.547293740171635, 23.01231740761456, 23.696018247325515, 38.232472091372784, 19.94775721819763, 14.999329053605894, 20.35331345454122, 30.80911433301745, 30.232932462002058, 42.8261915891167, 24.894780378452726, 22.39075187285698, 23.80063614225191, 20.857514871902783, 17.110589464181327, 22.399531704483252, 19.315827608240784, 21.56093491856889, 22.254780120866805, 28.392457727759197, 36.22078919493995, 15.73798406499409, 16.891427578876183, 21.159009722239325, 19.913457477555585, 20.155655941166273, 25.100714697209963, 22.242432850245862, 24.17969532664602, 19.378476057782137, 20.285942629312835, 23.711019898709143, 20.155389805049833, 18.430970012021657, 18.5048554815171, 15.099620139819148, 14.16855644806575, 13.253136056413856, 12.768676045363339, 12.293671118912863, 10.977789922944615, 10.877869078381858, 10.73369853386943, 13.863683057836916, 10.303853903639585, 10.195869663112244, 9.973731562395626, 9.88102470383719, 9.722534763024319, 9.681992833529723, 9.456580665325031, 9.446564706210268, 11.837317219640697, 9.186308733661074, 16.331129012531143, 8.96101533888303, 11.437966167037963, 8.602491152025685, 8.5900241412883, 8.568030062055936, 11.957880645808368, 13.874567022751467, 11.24853694831516, 12.73998926349916, 35.210468710144816, 24.599704272049664, 16.226176493712252, 20.948570745513596, 16.196648700008886, 24.3670475246853, 15.623818860069917, 15.545184852971765, 15.901835059097568, 19.482825078943364, 16.516449150584595, 16.01521569228206, 13.9942522454009, 27.821050755471834, 20.992557704246742, 17.719253245458678, 13.607016082316148, 13.739260095169012, 21.061110366858898, 16.327009134277553, 16.50424908012427, 14.368675275186774, 13.94003517546555, 14.833453337032816, 14.711556850695443, 13.971215183077103, 13.603132262525648, 13.42597427760022, 13.213690062097346, 11.904828529296424, 11.835064399770188, 13.667202827197109, 9.419742517752724, 9.216893924184546, 8.987501733020775, 12.69360323703061, 8.175065220858983, 8.049500336402433, 11.426960110546215, 7.719168087918742, 7.622568907748524, 7.588546197527453, 7.447938971105522, 9.667463968333974, 7.1636831306787165, 6.998221461223998, 18.59482816143922, 6.763732251850513, 6.7109024083369935, 9.485919183079616, 6.660750659137053, 6.575189410640249, 6.3354281293540415, 29.854156845983283, 31.360882716008504, 16.611616114890154, 12.630463867122172, 13.170348583971899, 8.940809226866284, 14.397827877586051, 14.072317108236687, 36.90739518529607, 16.831627246312376, 60.47392674871032, 10.096164576100639, 16.775282688190373, 12.694343464117622, 24.257610845580928, 21.242173041699978, 14.512388477054959, 16.456563093147903, 13.231213619796037, 13.035770025207645, 20.433650457526518, 14.687645878919138, 15.208676629927298, 14.409862478654265, 13.637446425795106, 20.71960346418283, 19.574586849604103, 12.811697068951892, 21.85313276396442, 12.489867576824327, 11.798250962220434, 10.569888720240126, 10.35370292506239, 10.03650635986414, 9.733490919410038, 12.073740530565962, 23.92277433844545, 11.705050820447745, 8.927804682873722, 8.815985821724322, 8.68337117396351, 8.609000177723576, 8.487970510908273, 8.038954833121434, 17.54715125720659, 7.6275122104887965, 7.373158484525843, 7.286437603823804, 6.950159736855172, 6.887516669287006, 6.881503986043368, 6.783038750999153, 6.750829787075966, 41.31371125494736, 6.369617057050794, 8.601006647416064, 19.587152043529674, 10.243360598501615, 16.65842127045458, 30.012786086870754, 60.138992759724275, 11.538473213526325, 26.82690034512248, 14.897548560441056, 11.738083287576554, 14.72523173549145, 14.194295468195238, 14.812037408167761, 16.40169958433055, 23.802403474194644, 13.344067252881075, 13.062961881003945, 17.463000328017944, 12.88426923231356, 16.78978401576803, 22.000931834175425, 19.567020386727215, 13.884435406488151, 16.261846987101027, 13.827024580850695, 14.22735457154633, 12.961877417435108, 31.25931704194796, 23.61040763576297, 20.856820546706846, 20.499365174681827, 26.906572977271438, 18.205317125104894, 17.050684039964455, 13.495553760425192, 13.456922536439631, 13.134611397941912, 12.763914500759212, 18.303748887590725, 10.820482628188424, 18.41358353701852, 23.845488512728558, 10.338160807713725, 10.026510440862625, 9.887879180829056, 9.162715987116488, 9.162715987116488, 9.162715987116488, 8.831888758461373, 14.582430767670587, 8.227435057543033, 7.976804645136906, 11.423961113494288, 7.880776035920516, 17.154718138643577, 7.517267984232381, 23.773292428792974, 15.474878324684399, 22.311991297865497, 11.128062460930217, 30.15144673471304, 24.649987478661536, 23.487725511713588, 15.911012189464184, 23.899713672215064, 46.85845369282613, 39.68484059041491, 15.035479469748376, 27.852988807707984, 22.089115680362056, 16.817287193861386, 26.665775592528657, 18.495917106174517, 15.322324474280858, 14.536951000039018, 12.51012287225759, 12.239048648843989, 11.661458073424873, 10.252806358161735, 10.227411839999288, 10.222934736701657, 10.033855808912433, 9.911055567195994, 9.749171848087302, 15.269956940161212, 9.234909481292792, 11.899103544366852, 19.480986267161626, 8.737972426557906, 8.608382660902304, 8.525596574515328, 8.110848230835021, 28.446605086517113, 7.882112716463684, 10.50406370764547, 7.605713502183891, 7.206554013951833, 6.888729639525198, 6.884866326891677, 6.772989417866176, 6.594393463651897, 6.210858516371816, 6.1644045550397175, 8.855388439471964, 9.25180085762709, 21.14153410242522, 17.363114427430716, 13.762050278540931, 21.995194158069687, 13.818601810007719, 12.08534547460975, 12.404525184467952, 14.49208861217316, 17.3925849438289, 20.34301671456038, 11.041933462575763, 27.081831552927035, 13.266564196387598, 14.13180919396211, 16.023780375737783, 11.29765221373549, 10.567613880103261, 12.725908831036351, 11.61285441734824, 10.37076479073245, 10.395487707714748, 15.845099883549079, 15.604912285254311, 10.262360502350694, 16.32920428454969, 9.754659541629957, 13.025526673913587, 23.816414753011777, 7.687583104261722, 7.681472049218889, 7.5950972047507515, 7.247329457416316, 11.926586310283012, 6.608380313607799, 6.549217752100991, 7.916100324125455, 6.4460570990084785, 6.400043305980002, 6.391370460549869, 6.323198998877833, 6.185251037993017, 5.984580592493441, 5.913326957168942, 12.590589086954113, 5.815747571337259, 5.612713457271818, 5.591674299164468, 5.523423839550974, 5.406980246873209, 5.372969125204124, 5.299560601587616, 8.236857045158942, 8.880099037421166, 13.915684255818135, 8.824575396963768, 19.913132735220277, 13.876923853144696, 8.542546476278675, 10.127372456399417, 10.590298512443441, 8.723969010645085, 9.657240659552349, 15.030194737529529, 9.450032820913178, 8.661688538321819, 11.103031516641535, 8.67634328343018, 9.590590221737285, 8.678476854817351, 9.889357301494762, 9.610036254691888, 8.757909284953973, 9.245581759643798, 9.425082637735837, 9.049069364523216, 8.703686602659484, 13.12816117042418, 12.571582548026473, 11.488852471258761, 11.40118766665758, 10.27705760506154, 9.5990746121646, 9.117285344212402, 9.085580109416048, 7.984151945754309, 7.874836829771641, 7.847492087412744, 7.569251165158683, 7.3496137447445165, 7.291633312925716, 7.289868862433634, 7.288486534948886, 7.011145048441848, 6.737722068752819, 6.670152644183443, 6.670152644183443, 6.670152644183443, 13.870622182829873, 9.070907783186733, 6.512373256287809, 6.252854365972623, 22.74182230574073, 17.931192956488676, 5.315304592670805, 5.036432618714034, 10.448624849092495, 17.97377522790627, 10.143513096825444, 8.68789980690542, 13.660116305038704, 23.096885416976697, 9.711807883299016, 7.936998166191554, 8.262266158812727, 10.226787976538214, 10.044410542469544, 8.588035999665463, 14.067467412536464, 8.266069430102416, 13.599991295140894, 8.877472726950277, 9.404347521216666, 8.563422488984298, 8.243387486372152, 8.372635355623714, 20.34792821627152, 13.088061765745266, 11.107965696860326, 13.78688520743254, 10.255250093490023, 10.136385321267081, 9.911215133595007, 9.001458376706532, 8.61712838453721, 7.978813524123842, 7.422700211093703, 6.8163602422863026, 20.704631182756575, 6.681898133298805, 9.829868266878204, 6.108721179303246, 5.944385054035583, 5.842092188696006, 5.558692255981712, 5.46967855244844, 5.3822646237954475, 5.238276923161319, 5.172225796305412, 5.060770754221751, 4.89818988546793, 4.78017370577516, 4.771747725199634, 4.74065608166867, 4.681870911272815, 4.385110797708221, 10.59855166712552, 13.679801447179246, 8.803456262908814, 15.725878863512259, 5.830946216169467, 8.261100732858177, 5.930192203473007, 32.163028129123994, 6.334139575607213, 8.8425692601135, 13.62414932536333, 10.905388114508645, 8.951855989054392, 6.324569962052284, 9.575375741734211, 6.869234300697704, 9.292695145734235, 8.521482827350646, 6.4449872090199944, 6.527766192711006, 13.340069368238911, 12.143522048840156, 11.911879639590401, 11.109802748979098, 10.703291580673818, 10.555275299641103, 10.461569662608293, 10.432047289615427, 10.394187579805134, 10.271743125911977, 10.100088163992565, 9.868831447845077, 9.791307134289614, 9.635511460830125, 9.367267525093974, 9.141828034522895, 8.795382013857397, 8.699469875266235, 8.323420972853516, 8.297181671971444, 8.027285434474372, 7.94856472338324, 7.945981890205687, 7.587724954431599, 7.577577574863609, 7.546644426372893, 6.954535771345779, 6.954535771345779, 6.954535771345779, 6.954535771345779, 9.792248899485923, 13.35608873805924, 11.898814753825294, 10.35830688751472, 9.994697523798386, 13.08165311742409, 12.683548560910918, 9.542757886624996, 10.834679995486999, 8.955573839764073, 10.342183605232373, 8.645492500063433], \"Total\": [102.0, 56.0, 79.0, 139.0, 32.0, 33.0, 37.0, 164.0, 144.0, 28.0, 59.0, 58.0, 120.0, 22.0, 30.0, 47.0, 30.0, 30.0, 55.0, 52.0, 28.0, 44.0, 49.0, 41.0, 47.0, 26.0, 37.0, 55.0, 26.0, 29.0, 22.85638549032106, 16.899073491944627, 19.834514643499112, 14.707408590966637, 14.522918125522233, 14.142241181107954, 13.971307510078903, 13.128757994331853, 21.03202166302057, 13.029729840479924, 12.964607824230537, 12.963329501402857, 12.845333704049745, 23.83087656842475, 12.529580886708288, 12.407995161313032, 21.614317909010133, 12.08719144487922, 11.96290504924415, 59.66395025643963, 15.02796199588731, 11.326891939238825, 11.31444515811115, 11.184036159571363, 10.763712950778686, 10.69079911284131, 27.04768003252156, 16.55217534380811, 29.49466419800616, 9.980067587570119, 30.518202862952243, 33.86513732866343, 58.73848203870199, 28.676758340023927, 21.045159986972127, 30.41251639398507, 51.95652032251631, 50.871411818505095, 81.70470505589863, 40.82723572630383, 36.97167840351835, 40.51858346039784, 34.19404899685682, 27.074198223421153, 42.227450668008174, 33.69047064515036, 40.47811273181889, 43.392127563791675, 72.74953759097133, 120.9889439110356, 25.072805104880022, 29.654655895162687, 51.10429875826068, 44.212676768469514, 49.496689671855265, 139.48794694244418, 99.46908056489023, 168.7237065125924, 49.79263680445798, 78.25039675080534, 26.152278380453083, 22.59610818421427, 20.871753425020266, 21.39725710632734, 17.540772920144754, 16.615783545524785, 15.693869980240436, 15.209502018452822, 14.734546942665576, 13.418530360105073, 13.319990655407844, 13.17459966200365, 17.11160469690734, 12.744547462894777, 12.63663945715145, 12.414596025029121, 12.321763830132475, 12.163402639178429, 12.123094093937326, 11.897536218312423, 11.887567885396884, 14.903886018336442, 11.62713663993423, 20.70114697289292, 11.401739820780515, 14.618336124364868, 11.04350410618326, 11.030851349094563, 11.008855027175787, 15.36486970351046, 18.126587298112437, 14.578608536357509, 17.100688202066753, 54.039543893562, 39.85011484613905, 24.34108150582973, 34.75445339384521, 24.76340429106132, 49.79263680445798, 25.200190121681278, 26.144990034115487, 27.406953741689566, 44.212676768469514, 37.12713157781368, 35.164759789163895, 25.97258430325208, 168.7237065125924, 78.25039675080534, 55.134666776286295, 24.16561485700805, 25.067403466442073, 144.52542310709833, 53.70593471852517, 120.9889439110356, 41.39035938764712, 31.099798265767916, 17.284618358702936, 17.162530936107586, 16.42231282432759, 16.054587549862262, 15.8771931844281, 15.664817559326822, 14.356189541470847, 14.290635432248548, 16.858206120640283, 11.87067359813879, 11.668266096772923, 11.438579121800874, 16.280203116236205, 10.626753458457214, 10.500688811245283, 15.012045796479805, 10.170122019670693, 10.073972538126418, 10.039560871828781, 9.898797829771931, 12.922993962658563, 9.614675355899092, 9.449208614777927, 25.321402960813597, 9.214720150735607, 9.16196326802521, 12.962629201678507, 9.11199490392805, 9.026443874619337, 8.78636892954969, 41.56501469688432, 44.05635725985296, 23.25669159968169, 18.179229135317716, 19.301062494186677, 12.727344576807333, 23.072914862210542, 22.76158757013131, 79.82020011360723, 28.924340432113578, 164.77809442346296, 15.08461598904554, 32.62695143446071, 21.455244059685988, 65.76868190840337, 57.227912895350165, 31.256040297089285, 42.86040198032018, 30.65786867365072, 30.27583776619708, 120.9889439110356, 72.74953759097133, 139.48794694244418, 168.7237065125924, 102.85721399210306, 23.181284570593977, 22.6784362603339, 15.273267831450942, 26.05463922605224, 14.951559582286903, 14.26049007105048, 13.031566657183463, 12.815851104456122, 12.498102297422587, 12.19499984872036, 15.148785704348198, 30.05565360916573, 14.738040597534237, 11.389526846319384, 11.27769988299753, 11.14494621745796, 11.070540808199356, 10.949534907763054, 10.500768067390903, 23.12817435761051, 10.089136654763562, 9.834826959294315, 9.748196578762458, 9.412139161748675, 9.3491892345686, 9.343031778150351, 9.244741535673587, 9.212370539952227, 56.81059564401065, 8.831160897237043, 11.955931973136149, 28.680001258315638, 14.414175550867, 24.579673075189756, 47.105470778001575, 102.85721399210306, 16.876155583565577, 49.65773122135106, 24.16530513838346, 18.110854582433795, 24.773424403579398, 23.802792883610785, 25.80930177375324, 34.17975396415013, 79.82020011360723, 25.44163950853438, 24.948936797773055, 52.874767603992005, 25.748701980620325, 65.27108052628537, 168.7237065125924, 164.77809442346296, 38.12057951533172, 78.25039675080534, 57.227912895350165, 120.9889439110356, 55.134666776286295, 33.707691489568596, 26.058797319996856, 23.305136113071644, 22.947781246124453, 30.37882689966618, 20.653646166340206, 19.49895812482392, 15.94430552584731, 15.905214006986725, 15.582984036247648, 15.212546222850543, 22.213127687829676, 13.268761487554093, 22.65090579450459, 29.344188730142513, 12.786454439016511, 12.474997860136225, 12.336476539207156, 11.610981544319623, 11.610981544319623, 11.610981544319623, 11.280500730483075, 18.76089229627241, 10.675699858177154, 10.425825027334463, 14.962360199433453, 10.329324840139773, 22.628044112188263, 9.966576287351016, 31.831272136956613, 21.797378608231877, 32.780157137541856, 15.325019853035252, 58.01173562479839, 47.750757480464095, 52.874767603992005, 28.454180302763795, 55.80091607495686, 168.7237065125924, 144.52542310709833, 28.235974005655823, 99.46908056489023, 65.27108052628537, 37.35026684805818, 164.77809442346296, 139.48794694244418, 64.27033721412873, 16.99919476895533, 14.973247744523906, 14.701466588298704, 14.124714170435977, 12.715439193882212, 12.689675587713731, 12.68639130442386, 12.496357530831418, 12.373617586284151, 12.21140505025283, 19.324254391488335, 11.69737444003814, 15.078811082636685, 24.8612441562279, 11.200191334362337, 11.071000123251569, 10.988005166591256, 10.573056586845608, 37.13350795448444, 10.344720290823032, 13.787658885237207, 10.068030155261225, 9.668783812327314, 9.351207639141789, 9.34784785666817, 9.23526967814937, 9.05697369838803, 8.673281743492732, 8.626731053640498, 12.452357356927813, 13.076954927896118, 31.148439924059453, 25.624052407452503, 20.235921065524874, 34.36463098966751, 21.28236141713241, 18.571446304419553, 19.91819865236718, 28.463384100762156, 38.72301834051568, 53.18167112133652, 18.737859371039722, 144.52542310709833, 32.3886752219967, 46.235682580865586, 99.46908056489023, 31.150257802487214, 21.370168732059003, 164.77809442346296, 81.70470505589863, 28.454180302763795, 49.496689671855265, 18.31883565993871, 18.07917662727977, 12.735984773963144, 20.365566479646883, 12.228558221415225, 16.34246880138376, 30.106403679800398, 10.161410174814499, 10.155068578149184, 10.06858707272715, 9.721327355792608, 16.137431527985854, 9.082200630411991, 9.022970537642088, 10.931016788355132, 8.91994853576496, 8.873737237733673, 8.864933510243054, 8.796818126584014, 8.659044528191313, 8.458250052649452, 8.38755401684487, 17.922840991568744, 8.289629632786804, 8.08639979643494, 8.065238533781105, 7.997068224718987, 7.881312715885624, 7.846667492773317, 7.773068502750549, 12.356308238978553, 13.763413166778685, 23.212408613781434, 13.813781564139324, 37.50775479471773, 24.483742740444463, 14.054821625384259, 19.090321897042752, 21.28526292936938, 15.69293121706758, 19.643851555662486, 47.61139242712488, 19.463417117463212, 17.019383581231363, 30.285339091539694, 17.26648924542007, 22.06572952665416, 17.388979662744624, 33.64811628452703, 49.496689671855265, 29.903735223439796, 81.70470505589863, 164.77809442346296, 144.52542310709833, 31.643046642367914, 15.622174454978447, 15.065427704469226, 13.982684081044106, 13.89516398146532, 12.771029728816378, 12.092787709560017, 11.610944602555364, 11.57930694465112, 10.477815107138953, 10.368513759471972, 10.341262083466075, 10.063122839402634, 9.843371049706452, 9.785922434646276, 9.783654448125995, 9.782316459365067, 9.504903351285522, 9.231534395821939, 9.163853319177488, 9.163853319177488, 9.163853319177488, 19.081154971151946, 12.4894552817642, 9.006296223911155, 8.746525009735688, 32.040854846870545, 26.28270235002894, 7.809154259492349, 7.530695886978812, 15.968648830417585, 28.83896998890765, 16.153023926860097, 14.533867693702561, 34.809719416631715, 120.9889439110356, 20.578000380434098, 13.302416083018722, 15.285354740789005, 27.88663711563134, 27.47140235121938, 18.04354253033898, 144.52542310709833, 16.32399384503032, 168.7237065125924, 24.551977751603133, 139.48794694244418, 42.86040198032018, 22.260583353725835, 41.45078588159745, 22.84136578945437, 15.581718894460924, 13.602213537289607, 16.91114500720966, 12.748624470978974, 12.629848731667288, 12.40481401697635, 11.49526597469211, 11.110558888304858, 10.472509598484365, 9.916357509655901, 9.30979315191584, 28.278840205833948, 9.175351495617745, 13.592256491605234, 8.602402117733309, 8.437848989114435, 8.335969448141785, 8.05254976256408, 7.963196183924763, 7.875683551546396, 7.731724910842652, 7.666596165796815, 7.554511817646421, 7.391750910726489, 7.274271592674482, 7.2651336842308005, 7.234043931124005, 7.176473967346135, 6.878863674923482, 17.04528438599049, 22.3705588173831, 14.966429186752704, 30.61574775662605, 9.314947533982842, 14.960313456999355, 9.608776195729961, 139.48794694244418, 10.804773577549808, 19.868133507229768, 55.134666776286295, 34.8608535138886, 25.598192444696053, 11.199661741787441, 47.750757480464095, 19.307652351317692, 144.52542310709833, 164.77809442346296, 18.326917905727594, 168.7237065125924, 15.827045279622283, 14.631312531620289, 14.398947399931124, 13.59697326930316, 13.190304141637263, 13.042341524212016, 12.949171068590964, 12.919098910044674, 12.881223398051677, 12.7587142005816, 12.587051878688332, 12.355804424046504, 12.278843904159707, 12.122905390002067, 11.85587181892349, 11.629045632926106, 11.282573047582302, 11.18645539083797, 10.810427871713609, 10.784350663990946, 10.514283170958155, 10.435610845750304, 10.433346957870462, 10.07496428035517, 10.064691601657763, 10.03373543277243, 9.441487599950669, 9.441487599950669, 9.441487599950669, 9.441487599950669, 13.860201558149946, 21.5706978677468, 18.8909363234157, 16.36381980769382, 16.2253716499419, 32.474987788843535, 31.150257802487214, 18.004410775770566, 37.109111529707775, 18.666045572505627, 41.39035938764712, 55.80091607495686], \"Category\": [\"Default\", \"Default\", \"Default\", \"Default\", \"Default\", \"Default\", \"Default\", \"Default\", \"Default\", \"Default\", \"Default\", \"Default\", \"Default\", \"Default\", \"Default\", \"Default\", \"Default\", \"Default\", \"Default\", \"Default\", \"Default\", \"Default\", \"Default\", \"Default\", \"Default\", \"Default\", \"Default\", \"Default\", \"Default\", \"Default\", \"Topic1\", \"Topic1\", \"Topic1\", \"Topic1\", \"Topic1\", \"Topic1\", \"Topic1\", \"Topic1\", \"Topic1\", \"Topic1\", \"Topic1\", \"Topic1\", \"Topic1\", \"Topic1\", \"Topic1\", \"Topic1\", \"Topic1\", \"Topic1\", \"Topic1\", \"Topic1\", \"Topic1\", \"Topic1\", \"Topic1\", \"Topic1\", \"Topic1\", \"Topic1\", \"Topic1\", \"Topic1\", \"Topic1\", \"Topic1\", \"Topic1\", \"Topic1\", \"Topic1\", \"Topic1\", \"Topic1\", \"Topic1\", \"Topic1\", \"Topic1\", \"Topic1\", \"Topic1\", \"Topic1\", \"Topic1\", \"Topic1\", \"Topic1\", \"Topic1\", \"Topic1\", \"Topic1\", \"Topic1\", \"Topic1\", \"Topic1\", \"Topic1\", \"Topic1\", \"Topic1\", \"Topic1\", \"Topic1\", \"Topic1\", \"Topic1\", \"Topic1\", \"Topic1\", \"Topic1\", \"Topic2\", \"Topic2\", \"Topic2\", \"Topic2\", \"Topic2\", \"Topic2\", \"Topic2\", \"Topic2\", \"Topic2\", \"Topic2\", \"Topic2\", \"Topic2\", \"Topic2\", \"Topic2\", \"Topic2\", \"Topic2\", \"Topic2\", \"Topic2\", \"Topic2\", \"Topic2\", \"Topic2\", \"Topic2\", \"Topic2\", \"Topic2\", \"Topic2\", \"Topic2\", \"Topic2\", \"Topic2\", \"Topic2\", \"Topic2\", \"Topic2\", \"Topic2\", \"Topic2\", \"Topic2\", \"Topic2\", \"Topic2\", \"Topic2\", \"Topic2\", \"Topic2\", \"Topic2\", \"Topic2\", \"Topic2\", \"Topic2\", \"Topic2\", \"Topic2\", \"Topic2\", \"Topic2\", \"Topic2\", \"Topic2\", \"Topic2\", \"Topic2\", \"Topic2\", \"Topic2\", \"Topic2\", \"Topic2\", \"Topic2\", \"Topic3\", \"Topic3\", \"Topic3\", \"Topic3\", \"Topic3\", \"Topic3\", \"Topic3\", \"Topic3\", \"Topic3\", \"Topic3\", \"Topic3\", \"Topic3\", \"Topic3\", \"Topic3\", \"Topic3\", \"Topic3\", \"Topic3\", \"Topic3\", \"Topic3\", \"Topic3\", \"Topic3\", \"Topic3\", \"Topic3\", \"Topic3\", \"Topic3\", \"Topic3\", \"Topic3\", \"Topic3\", \"Topic3\", \"Topic3\", \"Topic3\", \"Topic3\", \"Topic3\", \"Topic3\", \"Topic3\", \"Topic3\", \"Topic3\", \"Topic3\", \"Topic3\", \"Topic3\", \"Topic3\", \"Topic3\", \"Topic3\", \"Topic3\", \"Topic3\", \"Topic3\", \"Topic3\", \"Topic3\", \"Topic3\", \"Topic3\", \"Topic3\", \"Topic3\", \"Topic3\", \"Topic3\", \"Topic3\", \"Topic4\", \"Topic4\", \"Topic4\", \"Topic4\", \"Topic4\", \"Topic4\", \"Topic4\", \"Topic4\", \"Topic4\", \"Topic4\", \"Topic4\", \"Topic4\", \"Topic4\", \"Topic4\", \"Topic4\", \"Topic4\", \"Topic4\", \"Topic4\", \"Topic4\", \"Topic4\", \"Topic4\", \"Topic4\", \"Topic4\", \"Topic4\", \"Topic4\", \"Topic4\", \"Topic4\", \"Topic4\", \"Topic4\", \"Topic4\", \"Topic4\", \"Topic4\", \"Topic4\", \"Topic4\", \"Topic4\", \"Topic4\", \"Topic4\", \"Topic4\", \"Topic4\", \"Topic4\", \"Topic4\", \"Topic4\", \"Topic4\", \"Topic4\", \"Topic4\", \"Topic4\", \"Topic4\", \"Topic4\", \"Topic4\", \"Topic4\", \"Topic4\", \"Topic4\", \"Topic4\", \"Topic4\", \"Topic4\", \"Topic4\", \"Topic4\", \"Topic5\", \"Topic5\", \"Topic5\", \"Topic5\", \"Topic5\", \"Topic5\", \"Topic5\", \"Topic5\", \"Topic5\", \"Topic5\", \"Topic5\", \"Topic5\", \"Topic5\", \"Topic5\", \"Topic5\", \"Topic5\", \"Topic5\", \"Topic5\", \"Topic5\", \"Topic5\", \"Topic5\", \"Topic5\", \"Topic5\", \"Topic5\", \"Topic5\", \"Topic5\", \"Topic5\", \"Topic5\", \"Topic5\", \"Topic5\", \"Topic5\", \"Topic5\", \"Topic5\", \"Topic5\", \"Topic5\", \"Topic5\", \"Topic5\", \"Topic5\", \"Topic5\", \"Topic5\", \"Topic5\", \"Topic5\", \"Topic5\", \"Topic5\", \"Topic5\", \"Topic5\", \"Topic5\", \"Topic6\", \"Topic6\", \"Topic6\", \"Topic6\", \"Topic6\", \"Topic6\", \"Topic6\", \"Topic6\", \"Topic6\", \"Topic6\", \"Topic6\", \"Topic6\", \"Topic6\", \"Topic6\", \"Topic6\", \"Topic6\", \"Topic6\", \"Topic6\", \"Topic6\", \"Topic6\", \"Topic6\", \"Topic6\", \"Topic6\", \"Topic6\", \"Topic6\", \"Topic6\", \"Topic6\", \"Topic6\", \"Topic6\", \"Topic6\", \"Topic6\", \"Topic6\", \"Topic6\", \"Topic6\", \"Topic6\", \"Topic6\", \"Topic6\", \"Topic6\", \"Topic6\", \"Topic6\", \"Topic6\", \"Topic6\", \"Topic6\", \"Topic6\", \"Topic6\", \"Topic6\", \"Topic6\", \"Topic6\", \"Topic6\", \"Topic6\", \"Topic6\", \"Topic6\", \"Topic7\", \"Topic7\", \"Topic7\", \"Topic7\", \"Topic7\", \"Topic7\", \"Topic7\", \"Topic7\", \"Topic7\", \"Topic7\", \"Topic7\", \"Topic7\", \"Topic7\", \"Topic7\", \"Topic7\", \"Topic7\", \"Topic7\", \"Topic7\", \"Topic7\", \"Topic7\", \"Topic7\", \"Topic7\", \"Topic7\", \"Topic7\", \"Topic7\", \"Topic7\", \"Topic7\", \"Topic7\", \"Topic7\", \"Topic7\", \"Topic7\", \"Topic7\", \"Topic7\", \"Topic7\", \"Topic7\", \"Topic7\", \"Topic7\", \"Topic7\", \"Topic7\", \"Topic7\", \"Topic7\", \"Topic7\", \"Topic7\", \"Topic7\", \"Topic7\", \"Topic7\", \"Topic7\", \"Topic7\", \"Topic7\", \"Topic7\", \"Topic7\", \"Topic7\", \"Topic7\", \"Topic7\", \"Topic7\", \"Topic8\", \"Topic8\", \"Topic8\", \"Topic8\", \"Topic8\", \"Topic8\", \"Topic8\", \"Topic8\", \"Topic8\", \"Topic8\", \"Topic8\", \"Topic8\", \"Topic8\", \"Topic8\", \"Topic8\", \"Topic8\", \"Topic8\", \"Topic8\", \"Topic8\", \"Topic8\", \"Topic8\", \"Topic8\", \"Topic8\", \"Topic8\", \"Topic8\", \"Topic8\", \"Topic8\", \"Topic8\", \"Topic8\", \"Topic8\", \"Topic8\", \"Topic8\", \"Topic8\", \"Topic8\", \"Topic8\", \"Topic8\", \"Topic8\", \"Topic8\", \"Topic8\", \"Topic8\", \"Topic8\", \"Topic8\", \"Topic8\", \"Topic8\", \"Topic8\", \"Topic8\", \"Topic8\", \"Topic8\", \"Topic8\", \"Topic9\", \"Topic9\", \"Topic9\", \"Topic9\", \"Topic9\", \"Topic9\", \"Topic9\", \"Topic9\", \"Topic9\", \"Topic9\", \"Topic9\", \"Topic9\", \"Topic9\", \"Topic9\", \"Topic9\", \"Topic9\", \"Topic9\", \"Topic9\", \"Topic9\", \"Topic9\", \"Topic9\", \"Topic9\", \"Topic9\", \"Topic9\", \"Topic9\", \"Topic9\", \"Topic9\", \"Topic9\", \"Topic9\", \"Topic9\", \"Topic9\", \"Topic9\", \"Topic9\", \"Topic9\", \"Topic9\", \"Topic9\", \"Topic9\", \"Topic9\", \"Topic9\", \"Topic9\", \"Topic9\", \"Topic9\", \"Topic9\", \"Topic9\", \"Topic9\", \"Topic9\", \"Topic9\", \"Topic9\", \"Topic9\", \"Topic9\", \"Topic10\", \"Topic10\", \"Topic10\", \"Topic10\", \"Topic10\", \"Topic10\", \"Topic10\", \"Topic10\", \"Topic10\", \"Topic10\", \"Topic10\", \"Topic10\", \"Topic10\", \"Topic10\", \"Topic10\", \"Topic10\", \"Topic10\", \"Topic10\", \"Topic10\", \"Topic10\", \"Topic10\", \"Topic10\", \"Topic10\", \"Topic10\", \"Topic10\", \"Topic10\", \"Topic10\", \"Topic10\", \"Topic10\", \"Topic10\", \"Topic10\", \"Topic10\", \"Topic10\", \"Topic10\", \"Topic10\", \"Topic10\", \"Topic10\", \"Topic10\", \"Topic10\", \"Topic10\", \"Topic10\", \"Topic10\"], \"logprob\": [30.0, 29.0, 28.0, 27.0, 26.0, 25.0, 24.0, 23.0, 22.0, 21.0, 20.0, 19.0, 18.0, 17.0, 16.0, 15.0, 14.0, 13.0, 12.0, 11.0, 10.0, 9.0, 8.0, 7.0, 6.0, 5.0, 4.0, 3.0, 2.0, 1.0, -5.0607, -5.3686, -5.2215, -5.5329, -5.5481, -5.58, -5.5947, -5.6706, -5.2007, -5.6799, -5.686, -5.6862, -5.6974, -5.0831, -5.7282, -5.7403, -5.1896, -5.773, -5.786, -4.1871, -5.5665, -5.855, -5.8564, -5.8712, -5.9205, -5.9293, -5.0179, -5.5127, -4.9352, -6.0193, -4.9045, -4.8752, -4.3968, -5.0474, -5.3325, -5.0272, -4.6127, -4.6316, -4.2833, -4.8258, -4.9318, -4.8708, -5.0028, -5.2008, -4.9315, -5.0796, -4.9696, -4.9379, -4.6944, -4.4509, -5.2844, -5.2137, -4.9884, -5.0491, -5.037, -4.8176, -4.9385, -4.855, -5.0763, -5.0306, -4.6882, -4.8507, -4.9401, -4.9361, -5.1395, -5.2031, -5.2699, -5.3072, -5.3451, -5.4583, -5.4674, -5.4808, -5.2249, -5.5216, -5.5322, -5.5542, -5.5635, -5.5797, -5.5839, -5.6074, -5.6085, -5.3829, -5.6364, -5.0611, -5.6613, -5.4172, -5.7021, -5.7035, -5.7061, -5.3728, -5.2241, -5.4339, -5.3094, -4.2928, -4.6514, -5.0675, -4.8121, -5.0693, -4.6609, -5.1054, -5.1104, -5.0877, -4.8846, -5.0498, -5.0806, -5.2155, -4.5284, -4.81, -4.9795, -5.2436, -5.2339, -4.8067, -5.0613, -5.0505, -5.1891, -5.2194, -4.8802, -4.8884, -4.94, -4.9667, -4.9799, -4.9958, -5.1001, -5.106, -4.962, -5.3342, -5.356, -5.3812, -5.036, -5.476, -5.4914, -5.1411, -5.5333, -5.5459, -5.5504, -5.5691, -5.3083, -5.608, -5.6314, -4.6542, -5.6655, -5.6733, -5.3272, -5.6808, -5.6937, -5.7309, -4.1807, -4.1315, -4.7669, -5.0409, -4.9991, -5.3864, -4.91, -4.9328, -3.9686, -4.7538, -3.4748, -5.2649, -4.7571, -5.0359, -4.3883, -4.5211, -4.902, -4.7763, -4.9945, -5.0094, -4.5599, -4.89, -4.8552, -4.9091, -4.9642, -4.522, -4.5789, -5.0028, -4.4688, -5.0282, -5.0852, -5.1951, -5.2158, -5.2469, -5.2776, -5.0621, -4.3783, -5.0931, -5.364, -5.3766, -5.3917, -5.4003, -5.4145, -5.4688, -4.6882, -5.5214, -5.5553, -5.5671, -5.6144, -5.6234, -5.6243, -5.6387, -5.6435, -3.8319, -5.7016, -5.4012, -4.5783, -5.2265, -4.7402, -4.1515, -3.4565, -5.1074, -4.2637, -4.8519, -5.0903, -4.8636, -4.9003, -4.8577, -4.7557, -4.3833, -4.9621, -4.9833, -4.693, -4.9971, -4.7324, -4.462, -4.5793, -4.9224, -4.7643, -4.9265, -4.898, -4.9911, -3.9976, -4.2783, -4.4023, -4.4195, -4.1476, -4.5382, -4.6038, -4.8376, -4.8404, -4.8647, -4.8933, -4.5328, -5.0585, -4.5269, -4.2683, -5.1041, -5.1347, -5.1486, -5.2248, -5.2248, -5.2248, -5.2616, -4.7601, -5.3325, -5.3634, -5.0042, -5.3755, -4.5977, -5.4227, -4.2714, -4.7007, -4.3348, -5.0305, -4.0337, -4.2352, -4.2835, -4.6729, -4.2661, -3.5928, -3.759, -4.7295, -4.113, -4.3449, -4.6175, -4.1566, -4.5224, -4.7106, -4.6581, -4.8082, -4.8301, -4.8785, -5.0072, -5.0097, -5.0101, -5.0288, -5.0411, -5.0576, -4.6089, -5.1118, -4.8583, -4.3653, -5.1671, -5.182, -5.1917, -5.2416, -3.9867, -5.2702, -4.983, -5.3059, -5.3598, -5.4049, -5.4054, -5.4218, -5.4486, -5.5085, -5.516, -5.1537, -5.11, -4.2835, -4.4804, -4.7129, -4.2439, -4.7088, -4.8428, -4.8167, -4.6612, -4.4787, -4.322, -4.9331, -4.0359, -4.7495, -4.6863, -4.5607, -4.9102, -4.977, -4.7911, -4.8827, -4.9958, -4.9934, -4.4423, -4.4576, -4.8767, -4.4122, -4.9274, -4.6383, -4.0348, -5.1656, -5.1664, -5.1777, -5.2246, -4.7264, -5.3169, -5.3258, -5.1363, -5.3417, -5.3489, -5.3502, -5.361, -5.383, -5.416, -5.428, -4.6722, -5.4446, -5.4802, -5.4839, -5.4962, -5.5175, -5.5238, -5.5376, -5.0966, -5.0214, -4.5722, -5.0277, -4.2138, -4.575, -5.0601, -4.89, -4.8453, -5.0391, -4.9375, -4.4951, -4.9592, -5.0463, -4.798, -5.0446, -4.9444, -5.0443, -4.9137, -4.9424, -5.0352, -4.981, -4.9618, -5.0025, -5.0414, -4.4019, -4.4452, -4.5352, -4.5429, -4.6467, -4.7149, -4.7664, -4.7699, -4.8992, -4.9129, -4.9164, -4.9525, -4.982, -4.9899, -4.9901, -4.9903, -5.0291, -5.0689, -5.079, -5.079, -5.079, -4.3468, -4.7715, -5.1029, -5.1436, -3.8524, -4.0901, -5.306, -5.3599, -4.6301, -4.0877, -4.6598, -4.8147, -4.3621, -3.8369, -4.7033, -4.9051, -4.8649, -4.6516, -4.6696, -4.8262, -4.3327, -4.8645, -4.3665, -4.7931, -4.7354, -4.8291, -4.8672, -4.8516, -3.9005, -4.3417, -4.5058, -4.2897, -4.5857, -4.5973, -4.6198, -4.7161, -4.7597, -4.8367, -4.9089, -4.9941, -3.8831, -5.014, -4.628, -5.1037, -5.131, -5.1484, -5.1981, -5.2142, -5.2303, -5.2575, -5.2701, -5.2919, -5.3246, -5.349, -5.3507, -5.3573, -5.3697, -5.4352, -4.5527, -4.2975, -4.7383, -4.1581, -5.1503, -4.8019, -5.1334, -3.4426, -5.0675, -4.7339, -4.3016, -4.5242, -4.7216, -5.069, -4.6542, -4.9864, -4.6842, -4.7709, -5.0501, -5.0374, -4.3222, -4.4161, -4.4354, -4.5051, -4.5424, -4.5563, -4.5652, -4.568, -4.5717, -4.5835, -4.6004, -4.6235, -4.6314, -4.6475, -4.6757, -4.7001, -4.7387, -4.7497, -4.7939, -4.797, -4.8301, -4.8399, -4.8403, -4.8864, -4.8877, -4.8918, -4.9735, -4.9735, -4.9735, -4.9735, -4.6313, -4.321, -4.4365, -4.5751, -4.6109, -4.3417, -4.3726, -4.6571, -4.5302, -4.7206, -4.5767, -4.7559], \"loglift\": [30.0, 29.0, 28.0, 27.0, 26.0, 25.0, 24.0, 23.0, 22.0, 21.0, 20.0, 19.0, 18.0, 17.0, 16.0, 15.0, 14.0, 13.0, 12.0, 11.0, 10.0, 9.0, 8.0, 7.0, 6.0, 5.0, 4.0, 3.0, 2.0, 1.0, 1.563, 1.557, 1.544, 1.5316, 1.5291, 1.5237, 1.5211, 1.5075, 1.5061, 1.5058, 1.5046, 1.5046, 1.5025, 1.4988, 1.4966, 1.4942, 1.4899, 1.4877, 1.4851, 1.4771, 1.4765, 1.4707, 1.4704, 1.4672, 1.4562, 1.4542, 1.4374, 1.4337, 1.4335, 1.433, 1.4301, 1.3553, 1.283, 1.3494, 1.3737, 1.3108, 1.1898, 1.192, 1.0664, 1.2177, 1.2109, 1.1804, 1.2181, 1.2535, 1.0784, 1.1561, 1.0825, 1.0447, 0.7715, 0.5063, 1.2467, 1.1496, 0.8306, 0.9148, 0.814, -0.0027, 0.2146, -0.2303, 0.7687, 0.3624, 1.8008, 1.7844, 1.7744, 1.7535, 1.7489, 1.7394, 1.7297, 1.7238, 1.7176, 1.698, 1.6962, 1.6938, 1.6883, 1.6862, 1.6841, 1.6798, 1.678, 1.6748, 1.6739, 1.6691, 1.6689, 1.6684, 1.6631, 1.6616, 1.6579, 1.6534, 1.649, 1.6487, 1.6481, 1.6481, 1.6314, 1.6394, 1.6044, 1.4704, 1.4164, 1.4932, 1.3925, 1.4742, 1.1841, 1.4207, 1.3788, 1.3544, 1.0793, 1.0888, 1.1122, 1.2804, 0.0963, 0.583, 0.7636, 1.3244, 1.2974, -0.0273, 0.708, -0.0933, 0.8407, 1.0963, 2.0229, 2.0218, 2.0142, 2.0102, 2.0082, 2.0057, 1.9886, 1.9873, 1.966, 1.9446, 1.94, 1.9347, 1.927, 1.9136, 1.91, 1.903, 1.9001, 1.897, 1.896, 1.8914, 1.8856, 1.8816, 1.8756, 1.8671, 1.8666, 1.8645, 1.8636, 1.8625, 1.859, 1.8488, 1.8449, 1.8359, 1.8394, 1.8117, 1.7937, 1.8227, 1.7043, 1.695, 1.4045, 1.6344, 1.1735, 1.7743, 1.5106, 1.651, 1.1784, 1.1848, 1.4086, 1.2186, 1.3355, 1.3332, 0.3973, 0.5758, -0.0403, -0.2845, 0.1553, 2.0875, 2.0526, 2.024, 2.0239, 2.0199, 2.0102, 1.9904, 1.9864, 1.9804, 1.9743, 1.9729, 1.9716, 1.9694, 1.9562, 1.9535, 1.9502, 1.9483, 1.9451, 1.9326, 1.9236, 1.9201, 1.9117, 1.9087, 1.8965, 1.8942, 1.894, 1.8901, 1.8889, 1.8812, 1.873, 1.8704, 1.8184, 1.8582, 1.8108, 1.749, 1.6631, 1.8196, 1.584, 1.716, 1.7661, 1.6796, 1.6828, 1.6445, 1.4655, 0.9898, 1.5545, 1.5527, 1.0919, 1.5074, 0.842, 0.1626, 0.069, 1.1898, 0.6287, 0.7794, 0.0592, 0.752, 2.2375, 2.2143, 2.202, 2.2001, 2.1916, 2.1868, 2.1788, 2.1462, 2.1458, 2.142, 2.1375, 2.1194, 2.109, 2.1058, 2.1055, 2.1004, 2.0945, 2.0917, 2.0761, 2.0761, 2.0761, 2.0682, 2.061, 2.0525, 2.0452, 2.0431, 2.0424, 2.036, 2.0309, 2.0211, 1.9704, 1.9283, 1.9929, 1.6585, 1.6517, 1.5015, 1.7317, 1.465, 1.0318, 1.0205, 1.6828, 1.04, 1.2295, 1.515, 0.4917, 0.2925, 0.8792, 2.2617, 2.2384, 2.2348, 2.2265, 2.2029, 2.2024, 2.2022, 2.1987, 2.1962, 2.1929, 2.1826, 2.1817, 2.1813, 2.1743, 2.1699, 2.1665, 2.1644, 2.153, 2.1516, 2.1462, 2.1461, 2.1377, 2.1242, 2.1125, 2.1123, 2.108, 2.1008, 2.0842, 2.082, 2.0772, 2.0721, 2.0306, 2.0289, 2.0326, 1.9719, 1.9863, 1.9885, 1.9446, 1.7431, 1.6177, 1.4571, 1.8893, 0.7435, 1.5256, 1.2328, 0.5924, 1.4039, 1.7139, -0.1428, 0.4671, 1.4088, 0.8576, 2.4026, 2.4005, 2.3318, 2.3268, 2.3217, 2.3208, 2.3133, 2.2687, 2.2685, 2.2658, 2.254, 2.2453, 2.2297, 2.2273, 2.225, 2.2229, 2.2209, 2.2206, 2.2175, 2.2113, 2.2017, 2.1982, 2.1946, 2.1933, 2.1826, 2.1814, 2.1776, 2.1709, 2.169, 2.1647, 2.1422, 2.1095, 2.036, 2.0996, 1.9145, 1.9799, 2.0498, 1.9138, 1.8496, 1.9606, 1.8376, 1.3947, 1.8252, 1.8723, 1.5443, 1.8595, 1.7145, 1.8527, 1.3232, 0.9086, 1.3197, 0.3687, -0.3135, -0.2231, 1.2569, 2.6024, 2.5953, 2.5798, 2.5785, 2.559, 2.5453, 2.5345, 2.5338, 2.5045, 2.5012, 2.5003, 2.4915, 2.4841, 2.4821, 2.4821, 2.482, 2.472, 2.4614, 2.4587, 2.4587, 2.4587, 2.4574, 2.4565, 2.4521, 2.4407, 2.4335, 2.3939, 2.3916, 2.374, 2.3521, 2.3035, 2.311, 2.2617, 1.8409, 1.1203, 2.0254, 2.2599, 2.1611, 1.7731, 1.7702, 2.0339, 0.4467, 2.0958, 0.2581, 1.759, 0.0795, 1.1658, 1.7829, 1.1767, 2.7239, 2.6651, 2.6369, 2.6352, 2.6218, 2.6195, 2.615, 2.5949, 2.5853, 2.5675, 2.5498, 2.5277, 2.5277, 2.5223, 2.5154, 2.4971, 2.4892, 2.484, 2.4688, 2.4638, 2.4588, 2.4501, 2.4459, 2.4388, 2.428, 2.4196, 2.4191, 2.4168, 2.4123, 2.3892, 2.3643, 2.3476, 2.3088, 2.1732, 2.371, 2.2456, 2.3568, 1.3723, 2.3054, 2.0299, 1.4415, 1.6773, 1.7888, 2.268, 1.2327, 1.806, 0.0952, -0.1226, 1.7944, -0.4127, 2.669, 2.6536, 2.6504, 2.638, 2.631, 2.6284, 2.6267, 2.6261, 2.6254, 2.6232, 2.6198, 2.6152, 2.6136, 2.6103, 2.6044, 2.5993, 2.5909, 2.5885, 2.5785, 2.5778, 2.5701, 2.5677, 2.5676, 2.5565, 2.5561, 2.5551, 2.5343, 2.5343, 2.5343, 2.5343, 2.4925, 2.3606, 2.3777, 2.3827, 2.3555, 1.9307, 1.9415, 2.2051, 1.6089, 2.1055, 1.4532, 0.9752]}, \"token.table\": {\"Topic\": [1, 5, 4, 6, 1, 6, 2, 3, 6, 7, 4, 5, 6, 3, 4, 2, 7, 5, 1, 2, 2, 1, 9, 4, 6, 7, 1, 2, 3, 9, 4, 1, 2, 3, 4, 9, 10, 10, 3, 7, 1, 2, 3, 5, 6, 7, 4, 9, 1, 2, 4, 5, 7, 6, 8, 5, 6, 1, 3, 9, 1, 2, 7, 2, 4, 8, 3, 1, 4, 6, 7, 5, 6, 9, 1, 10, 1, 3, 4, 9, 9, 1, 2, 3, 4, 5, 6, 7, 8, 9, 10, 4, 1, 3, 4, 7, 8, 10, 3, 5, 4, 5, 8, 10, 1, 5, 9, 6, 3, 4, 7, 1, 3, 7, 9, 1, 3, 10, 8, 8, 3, 5, 5, 10, 5, 8, 8, 2, 8, 7, 1, 2, 4, 1, 2, 4, 6, 8, 1, 2, 7, 5, 4, 8, 4, 9, 7, 6, 9, 8, 10, 1, 9, 9, 10, 1, 6, 3, 9, 2, 3, 9, 1, 2, 4, 5, 6, 7, 9, 1, 2, 3, 6, 9, 2, 3, 4, 2, 2, 3, 6, 7, 10, 6, 1, 2, 4, 5, 6, 7, 8, 9, 10, 5, 7, 6, 1, 1, 3, 7, 2, 9, 4, 2, 3, 4, 7, 3, 4, 5, 10, 10, 9, 4, 1, 2, 4, 7, 5, 3, 4, 7, 2, 7, 8, 5, 8, 2, 5, 6, 7, 9, 3, 7, 8, 1, 2, 3, 4, 5, 6, 7, 8, 9, 10, 1, 7, 8, 1, 9, 2, 3, 9, 7, 9, 2, 9, 1, 2, 3, 4, 5, 7, 8, 9, 3, 4, 2, 1, 4, 2, 3, 5, 8, 9, 6, 1, 2, 3, 4, 8, 5, 9, 2, 3, 6, 7, 8, 10, 3, 1, 7, 2, 7, 9, 1, 3, 4, 1, 2, 4, 2, 6, 8, 1, 3, 5, 6, 7, 8, 9, 1, 2, 9, 9, 3, 8, 3, 7, 10, 8, 10, 1, 2, 3, 7, 9, 2, 1, 2, 5, 6, 10, 1, 2, 4, 7, 10, 2, 3, 7, 10, 5, 4, 1, 2, 7, 4, 5, 6, 8, 10, 10, 5, 10, 1, 4, 5, 8, 2, 7, 9, 1, 3, 9, 1, 2, 1, 2, 4, 3, 6, 2, 3, 5, 7, 8, 4, 4, 5, 6, 2, 6, 7, 3, 4, 3, 1, 4, 10, 10, 3, 2, 5, 8, 1, 4, 5, 1, 1, 2, 3, 6, 8, 10, 1, 2, 4, 8, 3, 4, 7, 1, 8, 9, 1, 10, 1, 7, 8, 1, 3, 8, 7, 1, 2, 6, 7, 1, 6, 4, 6, 1, 4, 5, 9, 10, 1, 4, 2, 3, 4, 5, 6, 7, 10, 8, 2, 7, 2, 4, 5, 10, 4, 7, 9, 1, 3, 1, 2, 3, 4, 5, 8, 3, 6, 1, 2, 5, 6, 3, 4, 8, 9, 3, 3, 4, 9, 1, 3, 8, 3, 3, 4, 3, 9, 1, 2, 3, 4, 6, 8, 1, 3, 4, 1, 2, 3, 4, 6, 7, 10, 5, 6, 9, 2, 7, 9, 1, 2, 4, 7, 8, 9, 1, 4, 6, 9, 3, 5, 1, 5, 1, 3, 4, 5, 6, 7, 8, 9, 10, 8, 1, 4, 7, 9, 8, 3, 7, 1, 6, 1, 3, 4, 6, 7, 6, 6, 9, 6, 5, 8, 1, 1, 2, 4, 8, 5, 9, 2, 2, 2, 7, 1, 2, 4, 6, 8, 6, 9, 7, 1, 4, 4, 5, 6, 10, 1, 2, 3, 4, 7, 9, 10, 1, 2, 3, 4, 7, 9, 7, 10, 1, 2, 3, 6, 7, 3, 1, 2, 3, 4, 6, 1, 4, 6, 8, 10, 2, 2, 3, 8, 2, 7, 9, 6, 1, 2, 6, 7, 3, 7, 1, 2, 3, 4, 5, 6, 7, 8, 9, 3, 5, 6, 7, 8, 10, 1, 3, 9, 1, 5, 7, 1, 2, 3, 4, 3, 9, 2, 4, 5, 1, 6, 9, 9, 2, 5, 7, 8, 1, 2, 4, 5, 6, 7, 10, 2, 5, 1, 2, 3, 4, 7, 8, 2, 9, 9, 10, 5, 9, 10, 3, 7, 8, 1, 3, 2, 3, 6, 6, 3, 2, 4, 5, 10, 5, 6, 1, 2, 3, 4, 8, 2, 3, 7, 9, 10, 1, 7, 6, 2, 1, 3, 6, 9, 8, 1, 2, 7, 5, 9, 1, 3, 1, 7, 2, 7, 1, 2, 3, 8, 10, 2, 6, 7, 1, 2, 3, 4, 5, 7, 8, 4, 7, 1, 2, 3, 5, 6, 7, 10, 4, 4, 7, 8, 7, 6, 6, 1, 6, 8, 2, 7, 2, 7, 3, 2, 6, 1, 2, 2, 3, 5, 7, 4, 4, 10, 1, 10, 2, 10, 1, 4, 8, 2, 4, 6, 7, 2, 5, 10, 9, 2, 7, 9, 1, 2, 3, 6, 1, 2, 3, 7, 2, 6, 7, 10, 8, 5, 1, 2, 3, 5, 6, 5, 9, 2, 7, 3, 6, 7, 8, 1, 4, 6, 7, 8, 10, 6, 2, 7, 10, 10, 2, 3, 4, 6, 7, 9, 2, 6, 7, 9, 6, 10, 1, 2, 3, 4, 7, 10, 8, 10, 9, 4, 5, 1, 2, 4, 5, 6, 7, 8, 2, 4, 5, 7, 4, 5, 4, 5, 2, 1, 6, 5, 1, 8, 7, 9, 10, 1, 2, 5, 7, 8, 10, 2, 10, 2, 3, 7, 8, 10, 7, 5, 10, 3, 2, 4, 5, 8, 8, 8, 2, 3, 8, 10, 1, 2, 3, 4, 4, 2, 6, 8, 2, 1, 6, 10, 3, 6, 3, 1, 2, 4, 4, 8, 10, 1, 2, 6, 5, 2, 3, 5, 4, 2, 4, 6, 7, 9, 3, 4, 1, 2, 3, 4, 5, 6, 7, 8, 9, 10, 2, 5, 6, 8, 2, 5, 8, 5, 5, 3, 3, 5, 7, 1, 2, 4, 6, 10, 3, 10, 8, 1, 3, 1, 2, 3, 5, 6, 7, 10, 2, 4, 5, 7, 9, 7, 2, 4, 6, 7, 1, 5, 2, 6, 7, 1, 3, 9, 2, 1, 6, 7, 10, 4, 6, 1, 2, 1, 2, 3, 6, 1, 3, 7, 9, 10, 3, 4, 10, 1, 3, 8, 9, 7, 1, 4, 8, 1, 2, 4, 9, 5, 2, 2, 5, 6], \"Freq\": [0.8359173594403667, 0.8718414538445252, 0.88189502002752, 0.044094751001376, 0.8485218040285095, 0.8190749698010942, 0.10371887328048511, 0.587740281922749, 0.20743774656097022, 0.0345729577601617, 0.7117562951511529, 0.7744939890855197, 0.7733413543425557, 0.1777656045623018, 0.7110624182492072, 0.12393546002234372, 0.7436127601340624, 0.7978369236464369, 0.8082912937413977, 0.09509309338134092, 0.7740512800966712, 0.17681064582586722, 0.7426047124686422, 0.09397453416001054, 0.6578217391200738, 0.1409618012400158, 0.7764067001217866, 0.07394349524969396, 0.11091524287454094, 0.6873540444977645, 0.7571872045301015, 0.14386645484936522, 0.6042391103673339, 0.05754658193974609, 0.08631987290961914, 0.05754658193974609, 0.7944672109385218, 0.783778039290523, 0.09820497760269901, 0.7856398208215921, 0.21547584367601985, 0.4578861678115422, 0.08080344137850744, 0.02693448045950248, 0.05386896091900496, 0.16160688275701487, 0.7180815388202456, 0.8061386479728522, 0.8589031478509223, 0.17707906938143775, 0.21249488325772528, 0.5312372081443132, 0.7419865639892338, 0.7566402330574058, 0.7751307329482271, 0.7946702071564413, 0.08829668968404904, 0.3075356663252122, 0.6150713326504244, 0.7059043598603476, 0.17374695905803486, 0.23166261207737981, 0.5212408771741046, 0.13875229928635785, 0.6937614964317892, 0.6402742004900587, 0.8524986796781, 0.06601189161405638, 0.7921426993686765, 0.7540359514194125, 0.16157913244701697, 0.5623075354747048, 0.3514422096716905, 0.6521799103370842, 0.79544333586239, 0.8144089197690914, 0.7458976258318344, 0.03390443753781065, 0.10171331261343196, 0.0678088750756213, 0.7110816995825033, 0.1422443857835046, 0.1659517834140887, 0.08297589170704435, 0.13039068696821254, 0.27856192215936315, 0.0474147952611682, 0.005926849407646025, 0.08297589170704435, 0.041487945853522175, 0.0237073976305841, 0.8129684137322526, 0.08736995195234974, 0.3669537981998689, 0.24463586546657928, 0.05242197117140984, 0.10484394234281968, 0.12231793273328964, 0.10660473757942626, 0.7995355318456969, 0.06283129343354041, 0.753975521202485, 0.09424694015031063, 0.06283129343354041, 0.03291766345365326, 0.8887769132486381, 0.6967209834175715, 0.7880422104472157, 0.8298851838373188, 0.7492214696700729, 0.6372131869491013, 0.4302820639208958, 0.11474188371223888, 0.08605641278417916, 0.31554018020865693, 0.15880631582466553, 0.1058708772164437, 0.6352252632986621, 0.7866873009676563, 0.7830222160892896, 0.7618547834150392, 0.7751282667745709, 0.9196714052516312, 0.7976903816216439, 0.8290148263135064, 0.7916423307182872, 0.6639492651197625, 0.275219238560509, 0.6192432867611453, 0.7093665903292333, 0.17554251579145877, 0.2925708596524313, 0.4681133754438901, 0.3859999191741111, 0.14474996969029166, 0.048249989896763885, 0.19299995958705554, 0.19299995958705554, 0.8284477848252129, 0.789353216392189, 0.6726496207845498, 0.7751282667745709, 0.8443793755548158, 0.07676176141407416, 0.6916284015656607, 0.24410414172905673, 0.8734179560871465, 0.7728850975073349, 0.7843983500152542, 0.7772340400502746, 0.8090035761733719, 0.805931971280829, 0.8100402590434524, 0.535730465645511, 0.2678652328227555, 0.7945692470872823, 0.8495747138810671, 0.10407152582494215, 0.6244291549496529, 0.8181582176527422, 0.05843987268948159, 0.7917751203881508, 0.2068381787947764, 0.13162429559667588, 0.018803470799525126, 0.018803470799525126, 0.37606941599050253, 0.16923123719572614, 0.05641041239857538, 0.21628317009292844, 0.08651326803717138, 0.2595398041115141, 0.3027964381300998, 0.10814158504646422, 0.6119719295789472, 0.191241227993421, 0.1529929823947368, 0.7846492807308055, 0.18389704634380208, 0.5210416313074392, 0.06129901544793402, 0.15324753861983506, 0.03064950772396701, 0.8682151141694979, 0.07611117659104599, 0.1453031553101787, 0.07611117659104599, 0.27676791487653085, 0.18681834254165833, 0.06227278084721945, 0.0968687702067858, 0.06227278084721945, 0.013838395743826544, 0.8178791453636974, 0.10223489317046218, 0.691779672037242, 0.8262802211155816, 0.14531279238404918, 0.07265639619202459, 0.6539075657282214, 0.059132601581600414, 0.8278564221424058, 0.761849033200077, 0.6349158447909571, 0.03968224029943482, 0.11904672089830445, 0.15872896119773927, 0.1847575752456862, 0.24634343366091493, 0.12317171683045747, 0.4003080796989868, 0.8201588185657536, 0.7639047665478197, 0.8511603504542888, 0.22205960923052165, 0.6476738602556882, 0.03700993487175361, 0.05551490230763041, 0.7820776312693892, 0.773814491355126, 0.0773814491355126, 0.7707383138575813, 0.8879642799815471, 0.046734962104291955, 0.794981848842749, 0.18786811782631888, 0.6262270594210629, 0.020942076163066575, 0.5235519040766643, 0.06282622848919972, 0.1675366093045326, 0.20942076163066572, 0.19023918976864623, 0.07609567590745848, 0.6848610831671265, 0.10316905326209033, 0.024275071355785962, 0.3641260703367894, 0.1213753567789298, 0.16385673165155523, 0.07889398190630437, 0.05461891055051841, 0.03641260703367894, 0.05461891055051841, 0.7740477930875614, 0.11158945174712197, 0.7253314363562928, 0.11158945174712197, 0.26726481982359135, 0.6013458446030805, 0.8051591367000691, 0.06709659472500576, 0.7629135519596477, 0.8177578925443173, 0.7829309926202953, 0.45298668829283895, 0.45298668829283895, 0.2975478488883345, 0.14050870641949129, 0.16530436049351915, 0.11571305234546342, 0.04959130814805575, 0.024795654074027874, 0.19010001456754705, 0.008265218024675959, 0.7754991995998206, 0.730624639986135, 0.8851081715908972, 0.8378553405241446, 0.8025918589935185, 0.5584942221376022, 0.1994622221920008, 0.03989244443840016, 0.11967733331520049, 0.6764297201552455, 0.8129346851959647, 0.06809459943102915, 0.11349099905171524, 0.7036441941206345, 0.06809459943102915, 0.711138487480745, 0.18510336988047638, 0.5553101096414291, 0.4501636917500536, 0.16077274705359057, 0.06430909882143623, 0.16077274705359057, 0.09646364823215435, 0.766605819079373, 0.7581709601897499, 0.318614791006158, 0.5735066238110844, 0.21717442005801088, 0.6515232601740326, 0.6348655284680969, 0.05521550600764731, 0.16564651802294192, 0.6625860720917677, 0.6381416013514122, 0.2791869505912428, 0.7487280259680187, 0.8248719281161836, 0.24763165201214057, 0.6190791300303514, 0.1807710323209991, 0.025824433188714153, 0.1807710323209991, 0.43901536420814063, 0.07747329956614246, 0.07747329956614246, 0.6618561358684498, 0.6141419520668745, 0.2632036937429462, 0.08773456458098207, 0.6278885870090024, 0.7985158359010357, 0.06142429506931044, 0.873996967920511, 0.7237959071499461, 0.7414085890486765, 0.7154790714568635, 0.7667721616374646, 0.09480755863701194, 0.28442267591103587, 0.22121763681969456, 0.28442267591103587, 0.09480755863701194, 0.8158935076882112, 0.16912150808937254, 0.3382430161787451, 0.12080107720669468, 0.07248064632401681, 0.24160215441338936, 0.052465099571626914, 0.18362784850069422, 0.36725569700138844, 0.20986039828650765, 0.15739529871488075, 0.1783160741975645, 0.356632148395129, 0.29719345699594085, 0.11887738279837634, 0.8715439538791014, 0.7901996387943386, 0.11695435741342178, 0.7602033231872416, 0.7757977232439531, 0.14053142752947964, 0.10539857064710974, 0.49185999635317873, 0.03513285688236991, 0.17566428441184956, 0.7414085890486765, 0.7673253655250853, 0.8248847679902824, 0.8273220495929626, 0.6054875480933802, 0.3229266923164695, 0.7772485903534502, 0.579335559340837, 0.16552444552595344, 0.16552444552595344, 0.21825819379863678, 0.3273872906979552, 0.3273872906979552, 0.09661300422720037, 0.772904033817603, 0.6279040974625709, 0.03693553514485711, 0.2585487460139998, 0.08030607951061207, 0.7227547155955085, 0.18792344794016166, 0.09396172397008083, 0.14094258595512124, 0.5167894818354446, 0.046980861985040416, 0.8441041886499816, 0.04679420235460399, 0.37435361883683194, 0.5147362259006439, 0.8349399816470076, 0.8823947371550594, 0.6768240272831437, 0.682875946606479, 0.8075409090715918, 0.8187845199710759, 0.08647461615758202, 0.7782715454182382, 0.04323730807879101, 0.8339458955519286, 0.7408027788753093, 0.7913496332555965, 0.08006754317460872, 0.7206078885714784, 0.6576239776053376, 0.03288119888026688, 0.23016839216186816, 0.8047184282659662, 0.2872760874717682, 0.08618282624153045, 0.08618282624153045, 0.11491043498870727, 0.4021865224604755, 0.7414085890486765, 0.08801175103551538, 0.12321645144972154, 0.7216963584912262, 0.035204700414206154, 0.03327161049311007, 0.7985186518346417, 0.09981483147933021, 0.7877453604394424, 0.08380269791908962, 0.10056323750290755, 0.7784928153985834, 0.7414085890486765, 0.21540203273138364, 0.6031256916478742, 0.12924121963883017, 0.1943823464889847, 0.2429779331112309, 0.4859558662224618, 0.6432466146709911, 0.8015977777509007, 0.16010366715830127, 0.5870467795804379, 0.16010366715830127, 0.8442231830337656, 0.6955125832360322, 0.1976682942697696, 0.6918390299441936, 0.2758062627790169, 0.017237891423688555, 0.5171367427106567, 0.06895156569475422, 0.10342734854213133, 0.8484637675997624, 0.9059032054953077, 0.12638880147967146, 0.13611101697810774, 0.583332929906176, 0.058333292990617604, 0.03888886199374507, 0.04861107749218133, 0.009722215498436267, 0.7153132519441457, 0.8115721205064265, 0.7851768180850479, 0.07767381833481522, 0.504879819176299, 0.07767381833481522, 0.2718583641718533, 0.17252306105270865, 0.517569183158126, 0.17252306105270865, 0.7127529564653181, 0.19006745505741818, 0.3848821714500488, 0.1512037102125192, 0.20618687756252616, 0.13745791837501745, 0.0962205428625122, 0.013745791837501744, 0.673538050245446, 0.20724247699859877, 0.2036978078450691, 0.029099686835009873, 0.05819937367001975, 0.6401931103702172, 0.7868110107178288, 0.5881662739518094, 0.1680475068433741, 0.1680475068433741, 0.7941256510004205, 0.7071388651172716, 0.15714197002606037, 0.745105609641025, 0.1308441991642494, 0.19626629874637408, 0.5233767966569975, 0.786617897457541, 0.8678236156974439, 0.8414858073048002, 0.4246180790141394, 0.5226068664789407, 0.1866524724540215, 0.06999467717025806, 0.373304944908043, 0.046663118113505375, 0.06999467717025806, 0.2099840315107742, 0.13002258353206525, 0.6067720564829712, 0.17336344470942033, 0.5262854809962457, 0.06119598616235415, 0.11015277509223748, 0.012239197232470831, 0.14687036678964996, 0.11015277509223748, 0.024478394464941662, 0.8026828641399276, 0.7978149221386653, 0.07252862928533321, 0.2134498807570587, 0.6403496422711761, 0.688218581696942, 0.5070044092135685, 0.25350220460678424, 0.04609130992850623, 0.06913696489275935, 0.023045654964253114, 0.06913696489275935, 0.05179293586833993, 0.20717174347335973, 0.31075761521003964, 0.3625505510783795, 0.730972413988268, 0.17199350917371012, 0.13257884707693735, 0.7512801334359782, 0.2211742571164911, 0.05026687661738434, 0.0904803779112918, 0.2814945090573523, 0.1608540051756299, 0.05026687661738434, 0.05026687661738434, 0.010053375323476868, 0.08042700258781495, 0.7638708037099281, 0.5209881167812804, 0.14208766821307647, 0.16576894624858923, 0.11840639017756373, 0.7638708037099281, 0.8304560935970021, 0.059318292399785866, 0.8750289939093543, 0.043751449695467716, 0.7086934202297304, 0.0885866775287163, 0.1771733550574326, 0.7762265853117201, 0.10349687804156267, 0.8189065843649954, 0.7945943622168693, 0.691176338933722, 0.7239793686435805, 0.22552294119183866, 0.6013945098449031, 0.7432379548379958, 0.22750048764630604, 0.4550009752926121, 0.028437560955788255, 0.22750048764630604, 0.8016033439135838, 0.8343110338501429, 0.9177020698104165, 0.8624095749627956, 0.16186064326971922, 0.6474425730788769, 0.5639576899984622, 0.059363967368259184, 0.11872793473651837, 0.17809190210477754, 0.7735999663707047, 0.26820966114345274, 0.6258225426680564, 0.8849960553987569, 0.7483070176101951, 0.798035068619672, 0.521064288445365, 0.20040934170975577, 0.20040934170975577, 0.8045443963752146, 0.2520405177892556, 0.02100337648243797, 0.23103714130681766, 0.0630101294473139, 0.31505064723656956, 0.04200675296487594, 0.04200675296487594, 0.5966527359332334, 0.15397489959567315, 0.19246862449459143, 0.03849372489891829, 0.14714260293978618, 0.7357130146989309, 0.743933359796999, 0.7739242139112164, 0.5950500748136555, 0.1081909226933919, 0.1081909226933919, 0.13523865336673987, 0.027047730673347974, 0.8358763977959122, 0.06368687013316107, 0.10614478355526845, 0.14860269697737583, 0.6368687013316107, 0.02122895671105369, 0.848547435194763, 0.06420492609343055, 0.35312709351386806, 0.09630738914014583, 0.4173320196072986, 0.8144125534835835, 0.8221383684027618, 0.7528169380492464, 0.7715667052755504, 0.3666779448640076, 0.5238256355200109, 0.8756043830458597, 0.7579637892504629, 0.7865156824085293, 0.09253125675394462, 0.06119026520126062, 0.795473447616388, 0.7327449002706483, 0.06661317275187711, 0.25558975839690123, 0.2683692463167463, 0.08945641543891543, 0.20447180671752097, 0.06389743959922531, 0.01277948791984506, 0.03833846375953518, 0.02555897583969012, 0.03833846375953518, 0.33440638519838095, 0.20064383111902856, 0.03344063851983809, 0.3009657466785428, 0.03344063851983809, 0.10032191555951428, 0.5435036002235925, 0.2717518001117962, 0.1482282546064343, 0.09964657459279407, 0.03321552486426469, 0.7971725967423525, 0.4523589491026496, 0.42974100164751716, 0.02261794745513248, 0.04523589491026496, 0.10735433520712753, 0.6441260112427651, 0.10460250587088672, 0.6973500391392448, 0.1743375097848112, 0.08044649686202399, 0.7642417201892279, 0.08044649686202399, 0.6974796013815, 0.40041639881961616, 0.10920447240534986, 0.07280298160356657, 0.36401490801783287, 0.16852792862177576, 0.015320720783797797, 0.26045225332456257, 0.3370558572435515, 0.07660360391898899, 0.12256576627038238, 0.8434068360791979, 0.7723461548362086, 0.11033516497660123, 0.2128672735071371, 0.07602402625254898, 0.36491532601223503, 0.1976624682566273, 0.07602402625254898, 0.04561441575152938, 0.23466900929430062, 0.6453397755593268, 0.24444170413801, 0.611104260345025, 0.8153381142205098, 0.14429804585518302, 0.7214902292759151, 0.7280537034154922, 0.6761525430893177, 0.8321504818336722, 0.07714484341421352, 0.6943035907279217, 0.05500783298106128, 0.7151018287537967, 0.11001566596212256, 0.8002331859766078, 0.7968476014173257, 0.1702135140792658, 0.3215144154830576, 0.43499009153590146, 0.018912612675473978, 0.688156143433467, 0.1835083049155912, 0.03302963926952001, 0.23120747488664006, 0.4293853105037601, 0.19817783561712007, 0.03302963926952001, 0.2937826729232368, 0.11751306916929471, 0.5288088112618262, 0.7197723117060477, 0.7400262131097207, 0.09148279792830481, 0.7318623834264385, 0.7694034286185213, 0.8175237095758959, 0.13368703842660976, 0.06684351921330488, 0.13368703842660976, 0.534748153706439, 0.6859867196768371, 0.38158252342842214, 0.48199897696221744, 0.08033316282703623, 0.7351781305476467, 0.06683437550433152, 0.7981112928213158, 0.7713228276898072, 0.798511468373691, 0.06654262236447425, 0.8547288388684811, 0.6820648004382379, 0.6123363376250626, 0.12246726752501251, 0.19594762804002003, 0.04898690701000501, 0.7973102394019884, 0.8197619042323995, 0.7864455051471055, 0.7877839463549978, 0.5923208056732088, 0.1727602349880192, 0.0740401007091511, 0.02468003356971703, 0.0740401007091511, 0.04936006713943406, 0.7635179584863337, 0.40725211027640557, 0.509065137845507, 0.4040674261772373, 0.08081348523544746, 0.020203371308861864, 0.06061011392658559, 0.20203371308861864, 0.20203371308861864, 0.020203371308861864, 0.8001214714062824, 0.3596490769197651, 0.46240595603969803, 0.051378439559966446, 0.7945504113153726, 0.74856641731489, 0.8081710890342007, 0.18377855495904397, 0.2450380732787253, 0.4900761465574506, 0.7524796191863404, 0.06840723810784913, 0.7810023925720843, 0.06508353271434035, 0.7682181644968218, 0.06631822592110755, 0.7958187110532906, 0.6974288991404638, 0.24410011469916232, 0.1874149930032943, 0.1874149930032943, 0.45515069729371477, 0.13386785214521021, 0.7929320687933015, 0.7437204103875016, 0.7940474802078383, 0.857091807163119, 0.05041716512724229, 0.754530171556988, 0.06859365195972618, 0.8159153208927955, 0.15722318719886627, 0.7337082069280425, 0.15061602971027024, 0.10041068647351349, 0.602464118841081, 0.7153456166064738, 0.757093468299426, 0.7751282667745709, 0.7948579366984592, 0.7518964047616339, 0.5837934471229432, 0.18243545222591978, 0.1459483617807358, 0.1304722139226152, 0.2935624813258842, 0.4240346952484994, 0.0978541604419614, 0.22584627509227823, 0.6273507641452173, 0.07528209169742607, 0.05018806113161738, 0.1359574355507335, 0.18127658073431133, 0.4531914518357783, 0.18127658073431133, 0.715576932015788, 0.7493653911478528, 0.6469353425742653, 0.11917229994789097, 0.06809845711308056, 0.11917229994789097, 0.01702461427827014, 0.7177804730752995, 0.13050554055914537, 0.8149587226540622, 0.7872923012032671, 0.8720248936024588, 0.8162450955438096, 0.720066277351409, 0.7638708037099281, 0.3087498927158503, 0.03087498927158503, 0.4013748605306054, 0.06174997854317006, 0.03087498927158503, 0.09262496781475509, 0.8035577010535417, 0.1848956106968892, 0.12326374046459279, 0.616318702322964, 0.7608697492661279, 0.06603855396681711, 0.3301927698340856, 0.13207710793363422, 0.033019276983408556, 0.36321204681749414, 0.033019276983408556, 0.12841734641452618, 0.6741910686762624, 0.06420867320726309, 0.09631300981089463, 0.7882462206973632, 0.7722502040501754, 0.41092433533500905, 0.1761104294292896, 0.1956782549214329, 0.11740695295285973, 0.03913565098428658, 0.03913565098428658, 0.8269391839314642, 0.7591175189356254, 0.5814913900070122, 0.7598478556243896, 0.8342432983156912, 0.29562626903135614, 0.10891494122207858, 0.15559277317439796, 0.23338915976159694, 0.14003349585695818, 0.015559277317439797, 0.031118554634879593, 0.7564591386700215, 0.7802837219701281, 0.8103316315001421, 0.09003684794446024, 0.5811858116694286, 0.34871148700165716, 0.5109733590729937, 0.393056430056149, 0.8055034557579607, 0.21538440972408796, 0.6461532291722639, 0.871516818630072, 0.21847107492775572, 0.717833531905483, 0.23179593125154102, 0.0927183725006164, 0.6026694212540067, 0.12544596921306747, 0.08960426372361963, 0.4301004658733742, 0.0716834109788957, 0.10752511646834355, 0.16128767470251532, 0.8258264051810021, 0.833394252142167, 0.12029347364515178, 0.7217608418709106, 0.09623477891612142, 0.024058694729030355, 0.8093362161461777, 0.6344120808608403, 0.8106042246518699, 0.7763237769412903, 0.8397107362294435, 0.2851094144357854, 0.04072991634796934, 0.2036495817398467, 0.36656924713172406, 0.7582704781090455, 0.7364619861235372, 0.2151568141802516, 0.28687575224033546, 0.35859469030041935, 0.07171893806008386, 0.07516894209060195, 0.1503378841812039, 0.46354180955871194, 0.3006757683624078, 0.8200082102542473, 0.2080518133035883, 0.06935060443452944, 0.6241554399107648, 0.8283489041496975, 0.05554194538516917, 0.27770972692584583, 0.5554194538516917, 0.15294080395838525, 0.6882336178127336, 0.759654106201065, 0.16433123561259977, 0.6573249424503991, 0.08216561780629988, 0.1662644680198307, 0.4987934040594921, 0.2771074466997178, 0.7853952565131013, 0.12083003946355404, 0.7488354653746998, 0.8545577978571983, 0.646114718797989, 0.12114650977462295, 0.12114650977462295, 0.6794123750907072, 0.19532629152633785, 0.15626103322107027, 0.03906525830526757, 0.19532629152633785, 0.3515873247474081, 0.08364048927736505, 0.7527644034962854, 0.1792269550738714, 0.07169078202954855, 0.10753617304432284, 0.08602893843545827, 0.1290434076531874, 0.07169078202954855, 0.04301446921772913, 0.0645217038265937, 0.22941050249455539, 0.007169078202954856, 0.5390299184916701, 0.23101282221071576, 0.15400854814047718, 0.038502137035119295, 0.44922452575018723, 0.08984490515003744, 0.3593796206001498, 0.9010889229787115, 0.9209941543074597, 0.7640283850983826, 0.7503533682317544, 0.11847684761554016, 0.07898456507702678, 0.21558047795338844, 0.26947559744173555, 0.08084267923252067, 0.10779023897669422, 0.2964231571859091, 0.7071565780388587, 0.8213788341616629, 0.8629028166351688, 0.1988781154375161, 0.662927051458387, 0.3351584902923425, 0.2979186580376378, 0.204819077400876, 0.01861991612735236, 0.01861991612735236, 0.09309958063676181, 0.7418156409464762, 0.14096495808069157, 0.5437219811683817, 0.2617920650069986, 0.020137851154384507, 0.8086919066403565, 0.6929170973155014, 0.1633737146483098, 0.04084342866207745, 0.1633737146483098, 0.5718080012690843, 0.7536485717486657, 0.16383664603231865, 0.15610333355533723, 0.6634391676101832, 0.11707750016650292, 0.3262605627103013, 0.6059124736048452, 0.6466862256038373, 0.8551504582088971, 0.31993383943338505, 0.053322306572230846, 0.5332230657223085, 0.026661153286115423, 0.8142194968581965, 0.06785162473818304, 0.7972849821720144, 0.08392473496547519, 0.5732657988040611, 0.03372151757670948, 0.23605062303696636, 0.10116455273012845, 0.0959814477932886, 0.479907238966443, 0.1279752637243848, 0.15996907965548102, 0.0959814477932886, 0.2142928444304158, 0.16071963332281186, 0.48215889996843553, 0.5897221824122274, 0.21623146688448336, 0.13760184256285304, 0.01965740608040758, 0.7502749546957675, 0.20690820874668564, 0.620724626240057, 0.08276328349867426, 0.16323668077143338, 0.32647336154286677, 0.23578631666984823, 0.2539237256444519, 0.8173420360323008, 0.842572362696112, 0.09151878032226439, 0.6711377223632722, 0.1525313005371073], \"Term\": [\"abort\", \"acbhear\", \"account\", \"account\", \"accus\", \"acyn\", \"administr\", \"administr\", \"administr\", \"administr\", \"advic\", \"afraid\", \"agent\", \"agre\", \"agre\", \"aid\", \"aid\", \"alllivesmatt\", \"allow\", \"allow\", \"alon\", \"alreadi\", \"alreadi\", \"also\", \"also\", \"also\", \"alway\", \"alway\", \"alway\", \"amend\", \"americafirst\", \"american\", \"american\", \"american\", \"american\", \"american\", \"americaneedspennsylvania\", \"americaortrump\", \"amyconeybarrett\", \"amyconeybarrett\", \"anoth\", \"anoth\", \"anoth\", \"anoth\", \"anoth\", \"anoth\", \"answer\", \"anti\", \"antifa\", \"anyth\", \"anyth\", \"anyth\", \"appoint\", \"arif\", \"armenia\", \"around\", \"around\", \"articl\", \"articl\", \"attent\", \"away\", \"away\", \"away\", \"bank\", \"bank\", \"bankrupt\", \"barackobama\", \"barr\", \"barr\", \"barron\", \"barron\", \"barrontrump\", \"barrontrump\", \"base\", \"beg\", \"begin\", \"better\", \"better\", \"better\", \"better\", \"bia\", \"biden\", \"biden\", \"biden\", \"biden\", \"biden\", \"biden\", \"biden\", \"biden\", \"biden\", \"biden\", \"bidencrimefamili\", \"bidenharri\", \"bidenharri\", \"bidenharri\", \"bidenharri\", \"bidenharri\", \"bidenharri\", \"bidenharrislandslid\", \"bidenharrislandslid\", \"bidenharristosaveamerica\", \"bidenharristosaveamerica\", \"bidenharristosaveamerica\", \"bidenharristosaveamerica\", \"bidentownhal\", \"bidentownhal\", \"bidenwillcrushcovid\", \"bien\", \"biggest\", \"billboard\", \"bite\", \"black\", \"black\", \"black\", \"black\", \"blacklivesmatt\", \"blacklivesmatt\", \"blacklivesmatt\", \"blue\", \"bluewav\", \"bodi\", \"boycot\", \"boycottnbc\", \"boycottnbctownhal\", \"boycotttrumptownhal\", \"burisma\", \"bush\", \"california\", \"california\", \"camera\", \"campaign\", \"campaign\", \"campaign\", \"care\", \"care\", \"care\", \"care\", \"care\", \"cash\", \"caught\", \"caus\", \"cave\", \"censorship\", \"censorship\", \"chang\", \"chang\", \"child\", \"christian\", \"chump\", \"citizen\", \"clinton\", \"clown\", \"como\", \"compani\", \"compani\", \"confess\", \"conserv\", \"conspiraci\", \"conspiraci\", \"control\", \"control\", \"corona\", \"coronaviru\", \"coronaviru\", \"coronaviru\", \"coronaviru\", \"coronaviru\", \"coronaviru\", \"coronaviru\", \"corrupt\", \"corrupt\", \"corrupt\", \"corrupt\", \"corrupt\", \"could\", \"could\", \"could\", \"count\", \"countri\", \"countri\", \"countri\", \"countri\", \"countri\", \"court\", \"covid\", \"covid\", \"covid\", \"covid\", \"covid\", \"covid\", \"covid\", \"covid\", \"covid\", \"covidiot\", \"covidiot\", \"coward\", \"damn\", \"danc\", \"danc\", \"danc\", \"day\", \"day\", \"ddale\", \"death\", \"death\", \"death\", \"death\", \"debat\", \"debat\", \"debat\", \"debat\", \"debt\", \"decis\", \"defeat\", \"democrat\", \"democrat\", \"democrat\", \"democrat\", \"desmoin\", \"desper\", \"desper\", \"devil\", \"die\", \"die\", \"discus\", \"disgust\", \"disgust\", \"donald\", \"donald\", \"donald\", \"donald\", \"donald\", \"donaldjtrumpjr\", \"donaldjtrumpjr\", \"donaldjtrumpjr\", \"donaldtrump\", \"donaldtrump\", \"donaldtrump\", \"donaldtrump\", \"donaldtrump\", \"donaldtrump\", \"donaldtrump\", \"donaldtrump\", \"donaldtrump\", \"dump\", \"dumptrump\", \"dumptrump\", \"dumptrump\", \"earli\", \"earli\", \"economi\", \"economi\", \"eeuu\", \"effect\", \"el\", \"eleccion\", \"eleccion\", \"elect\", \"elect\", \"elect\", \"elect\", \"elect\", \"elect\", \"elect\", \"elect\", \"electionday\", \"entr\", \"estado\", \"esto\", \"event\", \"everi\", \"everi\", \"everi\", \"everi\", \"exampl\", \"exist\", \"facebook\", \"facebook\", \"facebook\", \"facebook\", \"factcheck\", \"fair\", \"fair\", \"famili\", \"famili\", \"famili\", \"famili\", \"famili\", \"farmer\", \"fascism\", \"fear\", \"fear\", \"fight\", \"fight\", \"film\", \"florida\", \"florida\", \"florida\", \"follow\", \"follow\", \"forc\", \"four\", \"fourmoreyear\", \"fourmoreyear\", \"foxnew\", \"foxnew\", \"foxnew\", \"foxnew\", \"foxnew\", \"foxnew\", \"front\", \"fuck\", \"fuck\", \"fuck\", \"fuel\", \"funder\", \"funder\", \"funni\", \"gain\", \"gavinnewsom\", \"genocid\", \"georgetakei\", \"get\", \"get\", \"get\", \"get\", \"get\", \"giuliani\", \"give\", \"give\", \"give\", \"give\", \"give\", \"go\", \"go\", \"go\", \"go\", \"go\", \"good\", \"good\", \"good\", \"good\", \"gophypocrisi\", \"gopsuperspread\", \"govern\", \"govern\", \"grave\", \"great\", \"great\", \"great\", \"great\", \"great\", \"gretchenwhitm\", \"group\", \"guess\", \"hack\", \"hall\", \"hall\", \"halloween\", \"happen\", \"happen\", \"happen\", \"hard\", \"hard\", \"hard\", \"harri\", \"harri\", \"hate\", \"hate\", \"hate\", \"head\", \"head\", \"hear\", \"hear\", \"hear\", \"hear\", \"hear\", \"heard\", \"herdimmun\", \"herdimmun\", \"herdimmun\", \"hide\", \"hijo\", \"hilari\", \"hillari\", \"hillaryclinton\", \"histori\", \"hold\", \"hold\", \"hold\", \"hollywood\", \"honor\", \"hospit\", \"hour\", \"hour\", \"hous\", \"hous\", \"hous\", \"hundr\", \"hunter\", \"hunter\", \"hunter\", \"hunter\", \"hunter\", \"hunterbidden\", \"hunterbiden\", \"hunterbiden\", \"hunterbiden\", \"hunterbiden\", \"hunterbidenemail\", \"hunterbidenemail\", \"hunterbidenemail\", \"icecub\", \"icecub\", \"icecub\", \"ignor\", \"ilhanomar\", \"immun\", \"immun\", \"immun\", \"impeach\", \"impeach\", \"impeach\", \"impress\", \"incom\", \"infect\", \"infect\", \"infect\", \"instead\", \"integr\", \"investig\", \"investig\", \"iowa\", \"iowa\", \"iowa\", \"iowa\", \"iowa\", \"issu\", \"jack\", \"joebiden\", \"joebiden\", \"joebiden\", \"joebiden\", \"joebiden\", \"joebiden\", \"joebiden\", \"john\", \"judg\", \"justic\", \"kamalaharri\", \"kamalaharri\", \"kamalaharri\", \"kamalaharri\", \"keep\", \"keep\", \"keep\", \"kid\", \"kid\", \"know\", \"know\", \"know\", \"know\", \"know\", \"know\", \"landslid\", \"landslid\", \"landslidevictori\", \"landslidevictori\", \"landslidevictori\", \"landslidevictori\", \"larg\", \"last\", \"last\", \"last\", \"laugh\", \"leader\", \"leader\", \"leadership\", \"leak\", \"leak\", \"leak\", \"learn\", \"leav\", \"left\", \"liar\", \"liar\", \"lie\", \"lie\", \"lie\", \"lie\", \"lie\", \"lie\", \"life\", \"life\", \"life\", \"like\", \"like\", \"like\", \"like\", \"like\", \"like\", \"like\", \"listen\", \"liter\", \"liter\", \"littl\", \"littl\", \"load\", \"look\", \"look\", \"look\", \"look\", \"look\", \"look\", \"lost\", \"lost\", \"lost\", \"lost\", \"love\", \"love\", \"maddow\", \"maddow\", \"maga\", \"maga\", \"maga\", \"maga\", \"maga\", \"maga\", \"maga\", \"maga\", \"maga\", \"maidan\", \"mani\", \"mani\", \"mani\", \"mani\", \"mastermind\", \"matter\", \"matter\", \"mean\", \"mean\", \"medium\", \"medium\", \"medium\", \"melania\", \"melania\", \"melaniatrump\", \"meme\", \"memori\", \"menor\", \"messag\", \"messag\", \"middl\", \"million\", \"million\", \"million\", \"million\", \"mock\", \"moin\", \"money\", \"month\", \"move\", \"move\", \"much\", \"much\", \"much\", \"much\", \"murder\", \"must\", \"must\", \"name\", \"nancypelosi\", \"nbcistrumpsaccomplic\", \"nbcnew\", \"nbcnew\", \"nbcnew\", \"ncpol\", \"need\", \"need\", \"need\", \"need\", \"need\", \"need\", \"need\", \"never\", \"never\", \"never\", \"never\", \"nomin\", \"nomin\", \"normal\", \"northcarolina\", \"noth\", \"noth\", \"noth\", \"noth\", \"noth\", \"novemb\", \"nypost\", \"nypost\", \"nypost\", \"nypost\", \"nypost\", \"nytim\", \"obama\", \"obama\", \"obama\", \"obama\", \"offici\", \"ohio\", \"order\", \"outstand\", \"pandem\", \"pandem\", \"para\", \"partner\", \"patriot\", \"patriot\", \"penc\", \"penc\", \"pennsylvania\", \"pennsylvania\", \"peopl\", \"peopl\", \"peopl\", \"peopl\", \"peopl\", \"peopl\", \"peopl\", \"peopl\", \"peopl\", \"person\", \"person\", \"person\", \"person\", \"person\", \"person\", \"plan\", \"plan\", \"plan\", \"plea\", \"plea\", \"plea\", \"polit\", \"polit\", \"polit\", \"polit\", \"politician\", \"politician\", \"poll\", \"poll\", \"poll\", \"posit\", \"posit\", \"posit\", \"positivo\", \"post\", \"post\", \"post\", \"post\", \"potu\", \"potu\", \"potu\", \"potu\", \"potu\", \"potu\", \"pour\", \"power\", \"power\", \"presid\", \"presid\", \"presid\", \"presid\", \"presid\", \"presid\", \"president\", \"president\", \"presidenti\", \"presidenti\", \"presidenttrump\", \"probabl\", \"probabl\", \"problem\", \"project\", \"promis\", \"propaganda\", \"propaganda\", \"putin\", \"putin\", \"putin\", \"racism\", \"rais\", \"ralli\", \"ralli\", \"ralli\", \"ralli\", \"rate\", \"rate\", \"realli\", \"realli\", \"realli\", \"realli\", \"realli\", \"reason\", \"reason\", \"reason\", \"recent\", \"reckless\", \"refer\", \"refer\", \"refus\", \"regeneron\", \"releas\", \"releas\", \"releas\", \"releas\", \"rememberinnovemb\", \"republican\", \"republican\", \"republican\", \"resist\", \"resist\", \"respect\", \"return\", \"retweet\", \"retweet\", \"rich\", \"ridicul\", \"right\", \"right\", \"right\", \"right\", \"riot\", \"rise\", \"rule\", \"run\", \"said\", \"said\", \"said\", \"said\", \"said\", \"said\", \"sanctionturkey\", \"save\", \"save\", \"say\", \"say\", \"say\", \"say\", \"say\", \"say\", \"say\", \"schedul\", \"scotu\", \"scotu\", \"scotu\", \"scotushear\", \"seanhann\", \"seen\", \"self\", \"self\", \"self\", \"senat\", \"senat\", \"senior\", \"senior\", \"serious\", \"shame\", \"shame\", \"shit\", \"shit\", \"show\", \"show\", \"show\", \"show\", \"side\", \"simpl\", \"slaughter\", \"social\", \"social\", \"song\", \"song\", \"soon\", \"sorri\", \"sorri\", \"sound\", \"sound\", \"sound\", \"southwestair\", \"spi\", \"sponsor\", \"spreader\", \"steve\", \"still\", \"still\", \"still\", \"stop\", \"stop\", \"stop\", \"stop\", \"stori\", \"stori\", \"stori\", \"stori\", \"stupid\", \"stupid\", \"stupid\", \"stupid\", \"subject\", \"sucker\", \"support\", \"support\", \"support\", \"support\", \"support\", \"suppos\", \"suppos\", \"suprem\", \"supremecourt\", \"surpris\", \"swamp\", \"taken\", \"takeov\", \"talk\", \"talk\", \"talk\", \"talk\", \"talk\", \"talk\", \"tambi\", \"teamtrump\", \"teamtrump\", \"teamtrump\", \"tedwheel\", \"tell\", \"tell\", \"tell\", \"tell\", \"tell\", \"tell\", \"test\", \"test\", \"test\", \"test\", \"texa\", \"thank\", \"think\", \"think\", \"think\", \"think\", \"think\", \"think\", \"thread\", \"three\", \"throw\", \"thursday\", \"tiktok\", \"time\", \"time\", \"time\", \"time\", \"time\", \"time\", \"time\", \"todo\", \"told\", \"tonight\", \"tonight\", \"town\", \"town\", \"townhal\", \"townhal\", \"trade\", \"true\", \"true\", \"trumpattacksblackwomen\", \"trumpcovid\", \"trumpcovid\", \"trumpcrimefamili\", \"trumpcrimefamili\", \"trumpcrimefamili\", \"trumpisalaughingstock\", \"trumpisalaughingstock\", \"trumpisalaughingstock\", \"trumpisalaughingstock\", \"trumpisalaughingstock\", \"trumpisalaughingstock\", \"trumpisalos\", \"trumpisanationaldisgrac\", \"trumppenc\", \"trumppenc\", \"trumppenc\", \"trumppenc\", \"trumpproject\", \"trumprussia\", \"trumpsthebiggestliarev\", \"trumptax\", \"trumptaxreturn\", \"trumpviru\", \"trumpviru\", \"trumpviru\", \"trumpviru\", \"tuckercarlson\", \"turkey\", \"tweet\", \"tweet\", \"tweet\", \"tweet\", \"twitter\", \"twitter\", \"twitter\", \"twitter\", \"twittercensorship\", \"ukrain\", \"ukrain\", \"ukrain\", \"unido\", \"unit\", \"unit\", \"unit\", \"unitedst\", \"unitedst\", \"univers\", \"use\", \"use\", \"use\", \"uspoli\", \"uspoli\", \"uspoli\", \"usual\", \"usual\", \"valu\", \"veteran\", \"video\", \"video\", \"video\", \"virtual\", \"viru\", \"viru\", \"viru\", \"viru\", \"viru\", \"voic\", \"voic\", \"vote\", \"vote\", \"vote\", \"vote\", \"vote\", \"vote\", \"vote\", \"vote\", \"vote\", \"vote\", \"votebidenharri\", \"votebidenharri\", \"votebidenharri\", \"votebidenharri\", \"voteblu\", \"voteblu\", \"voteblu\", \"votebluedownballot\", \"votebluetosaveamerica\", \"voteearli\", \"votehimout\", \"votehimout\", \"votehimout\", \"voter\", \"voter\", \"voter\", \"voter\", \"voter\", \"votetrumpout\", \"vou\", \"wake\", \"wall\", \"wall\", \"want\", \"want\", \"want\", \"want\", \"want\", \"want\", \"washington\", \"watch\", \"watch\", \"watch\", \"watch\", \"wear\", \"wednesday\", \"well\", \"well\", \"well\", \"well\", \"white\", \"white\", \"whitehous\", \"whitehous\", \"whitehous\", \"win\", \"win\", \"wind\", \"without\", \"woman\", \"woman\", \"woman\", \"woman\", \"wonder\", \"wonder\", \"word\", \"word\", \"work\", \"work\", \"work\", \"work\", \"world\", \"world\", \"world\", \"world\", \"world\", \"wors\", \"wors\", \"wors\", \"would\", \"would\", \"would\", \"would\", \"write\", \"wrong\", \"wrong\", \"wrong\", \"year\", \"year\", \"year\", \"year\", \"yesterday\", \"york\", \"youtub\", \"youtub\", \"youtub\"]}, \"R\": 30, \"lambda.step\": 0.01, \"plot.opts\": {\"xlab\": \"PC1\", \"ylab\": \"PC2\"}, \"topic.order\": [6, 4, 3, 5, 2, 7, 9, 1, 8, 10]};\n",
       "\n",
       "function LDAvis_load_lib(url, callback){\n",
       "  var s = document.createElement('script');\n",
       "  s.src = url;\n",
       "  s.async = true;\n",
       "  s.onreadystatechange = s.onload = callback;\n",
       "  s.onerror = function(){console.warn(\"failed to load library \" + url);};\n",
       "  document.getElementsByTagName(\"head\")[0].appendChild(s);\n",
       "}\n",
       "\n",
       "if(typeof(LDAvis) !== \"undefined\"){\n",
       "   // already loaded: just create the visualization\n",
       "   !function(LDAvis){\n",
       "       new LDAvis(\"#\" + \"ldavis_el472021406102750479045804392984\", ldavis_el472021406102750479045804392984_data);\n",
       "   }(LDAvis);\n",
       "}else if(typeof define === \"function\" && define.amd){\n",
       "   // require.js is available: use it to load d3/LDAvis\n",
       "   require.config({paths: {d3: \"https://d3js.org/d3.v5\"}});\n",
       "   require([\"d3\"], function(d3){\n",
       "      window.d3 = d3;\n",
       "      LDAvis_load_lib(\"https://cdn.jsdelivr.net/gh/bmabey/pyLDAvis@3.3.1/pyLDAvis/js/ldavis.v3.0.0.js\", function(){\n",
       "        new LDAvis(\"#\" + \"ldavis_el472021406102750479045804392984\", ldavis_el472021406102750479045804392984_data);\n",
       "      });\n",
       "    });\n",
       "}else{\n",
       "    // require.js not available: dynamically load d3 & LDAvis\n",
       "    LDAvis_load_lib(\"https://d3js.org/d3.v5.js\", function(){\n",
       "         LDAvis_load_lib(\"https://cdn.jsdelivr.net/gh/bmabey/pyLDAvis@3.3.1/pyLDAvis/js/ldavis.v3.0.0.js\", function(){\n",
       "                 new LDAvis(\"#\" + \"ldavis_el472021406102750479045804392984\", ldavis_el472021406102750479045804392984_data);\n",
       "            })\n",
       "         });\n",
       "}\n",
       "</script>"
      ],
      "text/plain": [
       "PreparedData(topic_coordinates=              x         y  topics  cluster       Freq\n",
       "topic                                                \n",
       "5     -0.122658 -0.028886       1        1  18.043128\n",
       "3     -0.103752 -0.039144       2        1  14.975610\n",
       "2     -0.145851  0.037760       3        1  11.351180\n",
       "4     -0.054315  0.142973       4        1  11.082859\n",
       "1      0.136249  0.187191       5        1   9.896827\n",
       "6      0.126102 -0.054152       6        1   8.908863\n",
       "8     -0.021108 -0.102765       7        1   7.826105\n",
       "0      0.014453  0.018922       8        1   6.226942\n",
       "7      0.025441 -0.067473       9        1   5.845766\n",
       "9      0.145439 -0.094426      10        1   5.842720, topic_info=                      Term        Freq       Total Category  logprob  loglift\n",
       "3                 joebiden  102.000000  102.000000  Default  30.0000  30.0000\n",
       "165            hunterbiden   56.000000   56.000000  Default  29.0000  29.0000\n",
       "6                  twitter   79.000000   79.000000  Default  28.0000  28.0000\n",
       "41                    vote  139.000000  139.000000  Default  27.0000  27.0000\n",
       "81              trumpcovid   32.000000   32.000000  Default  26.0000  26.0000\n",
       "..                     ...         ...         ...      ...      ...      ...\n",
       "250                   unit    9.542758   18.004411  Topic10  -4.6571   2.2051\n",
       "141                  voter   10.834680   37.109112  Topic10  -4.5302   1.6089\n",
       "142                   wors    8.955574   18.666046  Topic10  -4.7206   2.1055\n",
       "202                   give   10.342184   41.390359  Topic10  -4.5767   1.4532\n",
       "82   trumpisalaughingstock    8.645493   55.800916  Topic10  -4.7559   0.9752\n",
       "\n",
       "[553 rows x 6 columns], token_table=      Topic      Freq       Term\n",
       "term                            \n",
       "1013      1  0.835917      abort\n",
       "974       5  0.871841    acbhear\n",
       "628       4  0.881895    account\n",
       "628       6  0.044095    account\n",
       "838       1  0.848522      accus\n",
       "...     ...       ...        ...\n",
       "360       5  0.817342  yesterday\n",
       "660       2  0.842572       york\n",
       "571       2  0.091519     youtub\n",
       "571       5  0.671138     youtub\n",
       "571       6  0.152531     youtub\n",
       "\n",
       "[1040 rows x 3 columns], R=30, lambda_step=0.01, plot_opts={'xlab': 'PC1', 'ylab': 'PC2'}, topic_order=[6, 4, 3, 5, 2, 7, 9, 1, 8, 10])"
      ]
     },
     "execution_count": 45,
     "metadata": {},
     "output_type": "execute_result"
    }
   ],
   "source": [
    "gensimviz.prepare(lda_t,corpus_t,dictionary_t)"
   ]
  },
  {
   "cell_type": "markdown",
   "id": "f8225949-db31-4ac6-ae23-5399156de8e3",
   "metadata": {},
   "source": [
    "### BIDEN"
   ]
  },
  {
   "cell_type": "code",
   "execution_count": 46,
   "id": "029ff279-b746-41c5-bbbf-088bf998db73",
   "metadata": {},
   "outputs": [
    {
     "data": {
      "application/javascript": [
       "$(document).ready(\n",
       "    function() {\n",
       "        function appendUniqueDiv(){\n",
       "            // append a div with our uuid so we can check that it's already\n",
       "            // been sent and avoid duplicates on page reload\n",
       "            var notifiedDiv = document.createElement(\"div\")\n",
       "            notifiedDiv.id = \"65f6df49-2400-420b-8618-bdb91ec3b33a\"\n",
       "            element.append(notifiedDiv)\n",
       "        }\n",
       "\n",
       "        // only send notifications if the pageload is complete; this will\n",
       "        // help stop extra notifications when a saved notebook is loaded,\n",
       "        // which during testing gives us state \"interactive\", not \"complete\"\n",
       "        if (document.readyState === 'complete') {\n",
       "            // check for the div that signifies that the notification\n",
       "            // was already sent\n",
       "            if (document.getElementById(\"65f6df49-2400-420b-8618-bdb91ec3b33a\") === null) {\n",
       "                var notificationPayload = {\"requireInteraction\": false, \"icon\": \"/static/base/images/favicon.ico\", \"body\": \"Cell execution has finished!\"};\n",
       "                if (Notification.permission !== 'denied') {\n",
       "                    if (Notification.permission !== 'granted') { \n",
       "                        Notification.requestPermission(function (permission) {\n",
       "                            if(!('permission' in Notification)) {\n",
       "                                Notification.permission = permission\n",
       "                            }\n",
       "                        })\n",
       "                    }\n",
       "                    if (Notification.permission === 'granted') {\n",
       "                    var notification = new Notification(\"Jupyter Notebook\", notificationPayload)\n",
       "                    appendUniqueDiv()\n",
       "                    notification.onclick = function () {\n",
       "                        window.focus();\n",
       "                        this.close();\n",
       "                        };\n",
       "                    } \n",
       "                }     \n",
       "            }\n",
       "        }\n",
       "    }\n",
       ")\n"
      ],
      "text/plain": [
       "<IPython.core.display.Javascript object>"
      ]
     },
     "metadata": {},
     "output_type": "display_data"
    }
   ],
   "source": [
    "%%notify\n",
    "\n",
    "lda_b = gensim.models.ldamodel.LdaModel(\n",
    "    corpus = corpus_tfidf_b,\n",
    "    num_topics = 10,\n",
    "    id2word = dictionary_b,\n",
    "    chunksize=CHUNK_SIZE, passes=EPOCHS, \n",
    "    eval_every = EVAL_PERIOD, \n",
    "    per_word_topics=True\n",
    "    )"
   ]
  },
  {
   "cell_type": "code",
   "execution_count": 47,
   "id": "58819b79-0d42-49eb-9078-b37e05d2301a",
   "metadata": {},
   "outputs": [],
   "source": [
    "topics_lda_b = lda_b.print_topics()"
   ]
  },
  {
   "cell_type": "code",
   "execution_count": 48,
   "id": "d7657d7e-ac2e-42a3-93fc-13761238e527",
   "metadata": {},
   "outputs": [
    {
     "name": "stderr",
     "output_type": "stream",
     "text": [
      "/Users/matteo-stelluti/opt/anaconda3/lib/python3.9/site-packages/pyLDAvis/_prepare.py:246: FutureWarning: In a future version of pandas all arguments of DataFrame.drop except for the argument 'labels' will be keyword-only.\n",
      "  default_term_info = default_term_info.sort_values(\n",
      "/Users/matteo-stelluti/opt/anaconda3/lib/python3.9/site-packages/past/builtins/misc.py:45: DeprecationWarning: the imp module is deprecated in favour of importlib; see the module's documentation for alternative uses\n",
      "  from imp import reload\n"
     ]
    },
    {
     "data": {
      "text/html": [
       "\n",
       "<link rel=\"stylesheet\" type=\"text/css\" href=\"https://cdn.jsdelivr.net/gh/bmabey/pyLDAvis@3.3.1/pyLDAvis/js/ldavis.v1.0.0.css\">\n",
       "\n",
       "\n",
       "<div id=\"ldavis_el472021406102750484647853725801\"></div>\n",
       "<script type=\"text/javascript\">\n",
       "\n",
       "var ldavis_el472021406102750484647853725801_data = {\"mdsDat\": {\"x\": [0.055720246701608314, -0.18511567818037375, -0.24565425065034105, 0.061135438611864844, 0.14113129183430032, -0.09053850723199715, 0.11075108666324213, -0.01610615899925421, 0.04700523657718959, 0.12167129467376134], \"y\": [0.12092570387235481, 0.07652245877389269, 0.036609422926676995, 0.05414175079718886, -0.04229991583518604, -0.23872002596797257, 0.07274226558345949, 0.016840248087048756, -0.01949155858788741, -0.07727034964957562], \"topics\": [1, 2, 3, 4, 5, 6, 7, 8, 9, 10], \"cluster\": [1, 1, 1, 1, 1, 1, 1, 1, 1, 1], \"Freq\": [15.431707615507367, 14.273575638394254, 13.860262046339564, 10.483139095932428, 9.858841029559715, 8.367295058047727, 8.325588817281313, 7.4855366621137, 6.218607982971428, 5.695446053852508]}, \"tinfo\": {\"Term\": [\"hunterbidenemail\", \"censorship\", \"nypost\", \"facebook\", \"censor\", \"twitter\", \"hunterbiden\", \"watch\", \"vote\", \"corrupt\", \"email\", \"bidencrimefamili\", \"stori\", \"hall\", \"town\", \"donaldtrump\", \"kamalaharri\", \"covid\", \"harri\", \"ukrain\", \"hunter\", \"boycottnbc\", \"post\", \"burisma\", \"bidentownhal\", \"bidenharri\", \"support\", \"hunterbidenlaptop\", \"ukrainian\", \"liar\", \"happen\", \"landslid\", \"mani\", \"decis\", \"releas\", \"chump\", \"last\", \"politician\", \"dirti\", \"right\", \"feel\", \"thank\", \"full\", \"becom\", \"kill\", \"donaldjtrumpjr\", \"press\", \"parti\", \"sleepi\", \"machin\", \"loser\", \"chanc\", \"kayleigh\", \"amend\", \"mind\", \"never\", \"mcenani\", \"racist\", \"alreadi\", \"walkaway\", \"white\", \"countri\", \"need\", \"win\", \"insid\", \"peopl\", \"votebidenharri\", \"trumppenc\", \"republican\", \"polit\", \"spent\", \"look\", \"realli\", \"knew\", \"like\", \"poll\", \"vote\", \"think\", \"maga\", \"make\", \"know\", \"liar\", \"corrupt\", \"elect\", \"bidenharri\", \"plea\", \"investig\", \"smoke\", \"introduc\", \"reveal\", \"iowa\", \"businessman\", \"damn\", \"confirm\", \"ukrainian\", \"play\", \"proof\", \"theplumlineg\", \"khrzuhsrqi\", \"lindseygrahamsc\", \"vice\", \"natur\", \"import\", \"allisonbjanney\", \"email\", \"check\", \"hunterbidenscrackpip\", \"push\", \"shokin\", \"burismabribedbiden\", \"ignor\", \"exec\", \"miss\", \"laptop\", \"wapo\", \"washingtonpost\", \"lock\", \"landslidevictori\", \"true\", \"newyorkpost\", \"news\", \"crimin\", \"hunter\", \"video\", \"prosecutor\", \"liar\", \"ukrain\", \"burisma\", \"maga\", \"share\", \"crack\", \"post\", \"hunterbiden\", \"call\", \"lie\", \"corrupt\", \"nypost\", \"twitter\", \"hunterbidenemail\", \"censor\", \"guilti\", \"facebook\", \"burismabiden\", \"harm\", \"burismag\", \"neg\", \"own\", \"suppress\", \"riot\", \"unido\", \"googl\", \"appar\", \"commun\", \"swingstat\", \"tedwheel\", \"high\", \"censorship\", \"twittercensorship\", \"amtrak\", \"commit\", \"gavinnewsom\", \"gretchenwhitm\", \"hunterbidden\", \"ilhanomar\", \"kamalaharrisvp\", \"mikep\", \"threat\", \"action\", \"put\", \"expo\", \"nypost\", \"twitter\", \"stori\", \"protect\", \"jack\", \"probabl\", \"link\", \"york\", \"tri\", \"wors\", \"post\", \"block\", \"elect\", \"hunterbiden\", \"articl\", \"hunterbidenemail\", \"ukrain\", \"blacklivesmatt\", \"burisma\", \"bombshel\", \"corrupt\", \"russia\", \"teamtrump\", \"voteredtosaveamerica\", \"worst\", \"air\", \"yesterday\", \"folk\", \"dumptrump\", \"centuri\", \"experienc\", \"kixih\", \"hand\", \"ever\", \"day\", \"pack\", \"joewillleadu\", \"fake\", \"almost\", \"cube\", \"votebluetoendthisnightmar\", \"polic\", \"see\", \"half\", \"quidprojo\", \"voteearli\", \"attack\", \"sexual\", \"effort\", \"richard\", \"alway\", \"made\", \"guess\", \"washington\", \"votebiden\", \"cash\", \"hillaryclinton\", \"kamalaharri\", \"also\", \"help\", \"presid\", \"lie\", \"believ\", \"vote\", \"bidenharri\", \"elect\", \"potu\", \"bidenharristosaveamerica\", \"stori\", \"bidenharrislandslid\", \"around\", \"clinton\", \"ukraineg\", \"part\", \"tonight\", \"projectlincoln\", \"freedom\", \"absolut\", \"hold\", \"everyon\", \"head\", \"rememb\", \"joebidenkamalaharri\", \"healthcar\", \"slaughter\", \"cave\", \"hilari\", \"presssec\", \"boycotttrumptownhal\", \"boycot\", \"impeach\", \"kylegriffin\", \"trumpral\", \"sponsor\", \"someth\", \"promis\", \"destroy\", \"voic\", \"townhal\", \"boycottnbc\", \"crackhead\", \"hope\", \"rate\", \"bidenharri\", \"know\", \"time\", \"think\", \"want\", \"inform\", \"anyth\", \"tech\", \"real\", \"hillari\", \"bidentownhal\", \"come\", \"democrat\", \"presid\", \"hunterbidenlaptop\", \"tomorrow\", \"whereshunt\", \"bidenemail\", \"acbhear\", \"sobr\", \"covidiot\", \"trend\", \"gophypocrisi\", \"trumpattacksblackwomen\", \"quid\", \"drug\", \"novemb\", \"known\", \"disgust\", \"tucker\", \"enough\", \"photo\", \"energi\", \"train\", \"nancypelosi\", \"dementia\", \"barrontrump\", \"surpris\", \"publish\", \"votebluedownballot\", \"octobersurpris\", \"putin\", \"apolog\", \"bia\", \"sleepyjo\", \"hunterscrackpip\", \"hunterbidenemail\", \"bidentownhal\", \"covid\", \"hunterbiden\", \"trumpisalaughingstock\", \"bidenharristosaveamerica\", \"votebluetosaveamerica\", \"interest\", \"icecub\", \"estado\", \"uselect\", \"mayb\", \"earli\", \"harri\", \"becam\", \"bidenli\", \"rais\", \"remov\", \"bideng\", \"tax\", \"scandal\", \"sure\", \"game\", \"posit\", \"refus\", \"mental\", \"independ\", \"swamp\", \"least\", \"test\", \"eleccion\", \"penc\", \"liberalismisamentaldisord\", \"open\", \"frack\", \"joey\", \"reason\", \"realiz\", \"bring\", \"run\", \"liber\", \"vote\", \"care\", \"life\", \"democrat\", \"covid\", \"say\", \"debat\", \"elect\", \"nbcnew\", \"give\", \"hide\", \"well\", \"bidenharri\", \"billion\", \"wise\", \"comment\", \"trust\", \"iran\", \"joebidenissick\", \"sell\", \"month\", \"accus\", \"kid\", \"told\", \"embarrass\", \"faith\", \"invest\", \"revel\", \"advis\", \"good\", \"mailonlin\", \"brag\", \"trumpcovid\", \"hard\", \"pozharskyi\", \"basement\", \"recov\", \"bidencorrupt\", \"system\", \"serious\", \"minut\", \"gaff\", \"vadym\", \"donald\", \"break\", \"drive\", \"evid\", \"explain\", \"tell\", \"fire\", \"el\", \"wrong\", \"money\", \"shit\", \"said\", \"million\", \"get\", \"noth\", \"report\", \"hunter\", \"prosecutor\", \"campaign\", \"presid\", \"hunterbiden\", \"tuckercarlson\", \"bidencar\", \"florida\", \"wisconsin\", \"ohio\", \"seanhann\", \"pennsylvania\", \"wake\", \"arizona\", \"abcnew\", \"definit\", \"crowd\", \"minnesota\", \"kamala\", \"maidan\", \"takeov\", \"exactli\", \"doubt\", \"host\", \"number\", \"includ\", \"georgia\", \"unit\", \"music\", \"politico\", \"heard\", \"nytim\", \"california\", \"foxnew\", \"decad\", \"dbongino\", \"thought\", \"maddow\", \"michigan\", \"msnbc\", \"corrupt\", \"state\", \"question\", \"lose\", \"friend\", \"kamalaharri\", \"vote\", \"bidenharri\", \"watch\", \"elect\", \"donaldtrump\", \"bidencrimefamili\", \"hall\", \"town\", \"fnrnn\", \"joebidenisaliar\", \"ballot\", \"realjameswood\", \"coronaviru\", \"yeah\", \"either\", \"rvat\", \"worth\", \"agre\", \"administr\", \"death\", \"senior\", \"phone\", \"network\", \"stream\", \"trump\", \"militari\", \"late\", \"resist\", \"credibl\", \"gener\", \"matter\", \"support\", \"thursday\", \"problem\", \"watch\", \"donaldtrump\", \"talk\", \"home\", \"china\", \"chang\", \"rate\", \"donat\", \"youtub\", \"famili\", \"night\", \"hunterbiden\", \"republican\"], \"Freq\": [131.0, 121.0, 142.0, 101.0, 90.0, 163.0, 237.0, 74.0, 165.0, 128.0, 70.0, 31.0, 98.0, 29.0, 29.0, 49.0, 90.0, 61.0, 38.0, 93.0, 113.0, 41.0, 69.0, 82.0, 39.0, 130.0, 30.0, 27.0, 47.0, 56.0, 20.204561137563193, 18.55220414397626, 15.835511110398448, 28.262891020835333, 15.388598300128567, 13.372766723953278, 19.85434259484126, 12.856050310326145, 12.286526390285907, 29.48811317096235, 11.231316580942742, 16.832183275118346, 11.05747037454293, 17.179862286698224, 10.396120180027848, 14.010056145180911, 10.111195730218297, 17.91427593127402, 10.087315873397433, 9.50714915134144, 9.108155752581942, 9.020268878328563, 8.95564205448275, 8.818730726474017, 9.931042016390892, 25.16213243052788, 8.734896046041642, 11.499734078328911, 18.210388166035703, 11.95924738546592, 13.935729630159042, 16.162509806372057, 35.005540520688115, 16.008016078055245, 17.560727185444954, 34.741681671552556, 16.339597991182334, 27.065373658998638, 20.12824789171383, 22.91410238686935, 14.090866617023712, 21.454968646668096, 17.741854721240642, 13.324810459088594, 24.592024440660335, 17.807231455008132, 37.593213311151565, 21.96747819406298, 24.036331696167327, 19.683217952818403, 20.736254531025928, 19.738138384878287, 20.563235849945492, 18.64852876121285, 17.831392737443682, 16.36884950358513, 34.15209138401356, 28.71487888508161, 27.879680140379854, 21.50541322460625, 16.93385721482079, 16.613443519946767, 14.700192879635077, 13.439139377192689, 40.13857210725599, 13.295550211494623, 13.090027062163067, 11.755630575633, 11.22154577347517, 10.13355683989609, 12.38276303301151, 9.782972562381431, 9.781699960429457, 9.602652509662061, 56.61303241288769, 20.613542374796452, 8.914276083344799, 16.64189526358733, 8.470777401950214, 8.354809483164313, 8.331715166491211, 8.318969520805004, 8.264464557657385, 12.526756084556347, 8.212747026626165, 18.877227822922748, 17.488337735762492, 20.92962281870576, 16.27509770665856, 27.48533467642414, 30.034496868261925, 13.898963930219539, 65.06479929022416, 24.936352218952948, 24.413374794059383, 34.16290643469308, 50.16668788428547, 45.53316070444585, 37.04245138101406, 20.644795495461167, 17.119564133757322, 27.883847085407666, 51.447516298877694, 20.573767366060483, 20.881544908598062, 26.820931095968415, 27.542618291561052, 27.8195641595349, 23.09935543310285, 84.4757591320251, 23.22088335154161, 92.26123609142802, 15.351765455554885, 14.640933346322036, 14.471769760213162, 13.843137211499863, 13.410946065226485, 13.213085353718412, 12.61746503118961, 12.557414716495474, 12.407297957167634, 12.085421730551852, 11.941485736226106, 11.297159541095615, 11.217763492127647, 11.064527261985702, 99.17283593168406, 25.68948610921275, 9.880932831081125, 9.621353740581858, 9.488074099287955, 9.488074099287955, 9.488074099287955, 9.488074099287955, 9.488074099287955, 9.488074099287955, 9.236020857508372, 9.124932589941555, 8.718119492242979, 18.967991434376458, 103.59961979039787, 111.72164652578617, 65.27470410906926, 19.707819576501304, 34.796675831234474, 17.372465365720455, 26.535356198111565, 22.915951568804495, 23.473532402216232, 14.346967857607622, 35.708793048553964, 25.089109345976397, 46.70606110943364, 60.104880357250956, 20.375414415987287, 33.11749177422492, 25.85178485344004, 14.059793988469508, 23.880939302719295, 14.755968597057182, 17.45031973409637, 17.041877659671904, 16.17791085613871, 14.218360429394929, 13.92499267898514, 13.361072764814118, 12.955620808690714, 12.911578244771867, 11.877567269961345, 11.7601308010368, 11.7601308010368, 11.7601308010368, 10.175389011406361, 19.400901894544454, 12.344355176239343, 9.443197886854389, 9.369040781736683, 9.264615129830915, 19.151487187563234, 8.779184960777265, 8.736690797880886, 8.589928023260834, 8.538836858705167, 11.55440436925444, 8.106443786898328, 12.60043157326382, 7.933088116129048, 7.750741705272913, 7.344066808214565, 7.279882892632071, 10.254203457963035, 20.629295992911985, 10.853412652859744, 18.25079118897773, 21.866760489429748, 11.872639091106885, 12.517641051372138, 45.063613388772296, 14.712191868866421, 16.727797295486795, 29.260643174537673, 24.14685496321578, 11.521746839213192, 31.970473934054755, 24.43980697439955, 19.752978396313733, 12.253002550506615, 12.760171784380855, 12.532347447168585, 24.79192916302193, 17.730714601442962, 17.28793731752449, 16.23136143465851, 16.125478390244567, 16.01637474785962, 15.613891325485303, 11.575397742381305, 11.430320291778393, 11.232022352684359, 16.94898258024853, 10.840714704926299, 13.054935741365883, 9.849202178455883, 9.84470090406531, 9.811292016030276, 9.634981043633708, 9.533298189794706, 9.41290675819859, 9.404564881486815, 9.369846064813153, 15.27779902486412, 8.820594270880836, 8.77648192454696, 8.673458462912762, 14.787369162637445, 7.425010140582085, 7.1891252404095525, 6.81766558001421, 23.862952886608298, 30.343164154143402, 10.492249429113905, 14.277869707462399, 15.948519588216259, 40.612576599720505, 25.227479008427718, 20.44343554522442, 21.345325693731294, 20.222434316800467, 12.178506438936367, 15.217746359551924, 12.558046133009512, 13.034726025343153, 10.998136591970123, 14.407775244938735, 12.875740928251817, 13.28152913791051, 11.735020680541776, 25.132003207041965, 20.58521750287167, 19.295427266685866, 17.058967985207797, 14.276209882014163, 14.076082900907167, 13.741555362406572, 13.62711421666577, 13.293945482841739, 13.23159184970252, 13.065907297295574, 12.573298215086306, 11.783166617279353, 11.393584479316585, 10.765859105699594, 10.491917058780482, 10.287483563030118, 10.050720325530031, 9.676993936433488, 9.336085950126769, 9.331470616238729, 8.76501861393253, 11.6750689821409, 11.226715514277126, 7.995906101657152, 15.833443639366463, 7.821787150703035, 7.6178610873586265, 7.542402618742502, 7.5302151580806544, 12.554807814193467, 13.342604496299519, 67.26089930900065, 22.53747830533988, 29.57447340352916, 76.3802419860732, 14.566160876365974, 18.08721012016072, 11.903419620099323, 10.248568705033682, 18.38759515950532, 15.525417339625738, 13.795174523092756, 13.2729419966805, 12.386765886390297, 31.396219758858877, 11.202784888760903, 10.323647296972373, 10.072858652807264, 9.906483427375253, 9.879504247314651, 9.120392616039602, 19.89010376364413, 13.374168449037052, 8.881261932368322, 8.05926997709835, 8.047240870619499, 7.806968431036502, 7.741274989177828, 9.488376630072679, 6.839746931325337, 6.558594810025161, 14.83507737234813, 8.721143770336402, 6.101690002073999, 8.420769781568422, 5.901211521700047, 5.86309253950133, 16.64886659613296, 5.650712082198593, 7.286956152927504, 10.94284773706888, 12.762288501989282, 56.11789472540748, 12.890002486478226, 9.925058199408134, 22.527199618899132, 17.468066521379246, 12.879283838631558, 12.804112316431347, 20.310274759233533, 10.246732111654216, 12.086405152836065, 9.8664171337746, 9.858671871376123, 10.810489607689428, 15.920309176235147, 15.20014263623306, 13.189462289478469, 11.445919668014012, 10.475880989989394, 10.217813765239192, 10.08314413473118, 9.982289529587698, 9.218669744822703, 8.94042303992361, 8.707858201336716, 8.203485499789192, 7.88211924747147, 7.598159600701013, 7.52159176996668, 7.299176531123942, 13.727485334584253, 6.883474689638462, 13.975596894085836, 6.3916270145472085, 13.151372037748606, 6.167574708538222, 6.074578242479323, 6.064762881795912, 8.565503781013875, 5.89275761059794, 5.869964348491024, 5.800678812235806, 5.6997391576068495, 5.202451565744096, 9.433480909604341, 16.54908706465531, 11.725799648064077, 12.10136409128718, 9.709886320228755, 16.42293755075576, 16.23292941617726, 9.9114503505023, 11.844182031245666, 13.57172559854467, 10.555311792257026, 12.354265507798681, 11.1621707489496, 11.955169984639268, 10.40682839181541, 10.312615230569415, 12.590127774526199, 10.206175528641014, 10.230030555025179, 10.250026393291423, 10.824582796998081, 19.389825360681463, 16.121458383546496, 15.392851253003581, 13.295874049756865, 12.957626370062926, 12.518612284972214, 11.85565295319152, 10.912500820145697, 8.997218168201213, 8.277414540951458, 8.21757574027267, 8.101349875458316, 8.092308755881607, 13.913015741711531, 7.539918851286611, 7.539918851286611, 7.307114747510141, 7.20002225859471, 6.9946475345196095, 6.653986339430455, 6.632425361883407, 8.615794529712373, 14.145696987068666, 6.21144761280043, 6.058217512131693, 6.030424957542399, 11.720772409995195, 5.425619060944487, 15.522625746288638, 5.063839718654899, 7.524040863187781, 9.481293841306659, 15.677994393509318, 9.173808469715539, 15.10929582130156, 38.08523153367733, 13.44379828682135, 12.267908204532546, 8.169052515036231, 7.909957159552893, 13.80575719141612, 16.178623100973677, 14.380836300874181, 11.543000327494884, 11.343419750485495, 8.349264664751322, 29.490897011295576, 27.29648676466121, 27.04279091442158, 15.136781254375544, 13.519795411572963, 13.178420192875727, 12.84262905926383, 10.37757698702826, 10.28871716243806, 10.112952025471618, 9.525391526244304, 9.447504503037473, 7.7793963365483965, 11.349885400076083, 6.194460042613967, 7.76576256282144, 5.929731626277549, 5.8796731144898775, 5.863530459310717, 5.820402181256797, 4.894633580972913, 7.779135844831986, 6.160026912106569, 4.580913349940708, 4.521301551755932, 5.889804263840158, 19.37348777471436, 9.318072269275417, 6.3313113442484825, 43.7369911399926, 24.627294093869665, 7.8408517730994785, 8.337343214192352, 16.99480931499084, 10.071796807301336, 7.788434409898802, 7.352895557423434, 7.193364165302809, 7.33728254125628, 6.620516502007456, 7.6383441938163195, 6.739487850069345], \"Total\": [131.0, 121.0, 142.0, 101.0, 90.0, 163.0, 237.0, 74.0, 165.0, 128.0, 70.0, 31.0, 98.0, 29.0, 29.0, 49.0, 90.0, 61.0, 38.0, 93.0, 113.0, 41.0, 69.0, 82.0, 39.0, 130.0, 30.0, 27.0, 47.0, 56.0, 22.629035346592993, 20.976500320810526, 18.260068491072357, 32.63495760935688, 17.813109623064083, 15.79697204161872, 23.50907866222327, 15.280348345083613, 14.71080964670465, 35.761053257936524, 13.655654398750734, 20.491275854744114, 13.481973955397148, 21.102020773200305, 12.820984292063393, 17.356393742049544, 12.535524581476054, 22.218515712231227, 12.511634989897695, 11.931510858077829, 11.532630815784366, 11.44465042265646, 11.380095973808679, 11.24297490649718, 12.66367945538048, 32.11685099057827, 11.159190844995065, 14.694060943117178, 23.33268122498604, 15.336282048980355, 17.92965684041573, 21.1663253896721, 48.62194324650079, 21.205860620506648, 23.72743134622519, 52.77400017464583, 22.80448522737555, 42.16884824076894, 30.273063304074046, 36.654313192890044, 19.38431469952891, 35.66622376631506, 27.313538716536417, 18.36336891572323, 55.30418087086219, 30.846940576101165, 165.2786994036761, 51.989152350094194, 71.24785089700079, 48.2903903069565, 62.3591275836666, 56.033906179798805, 128.4858970875023, 138.10697190644976, 130.6637753161918, 33.10473185351689, 36.57580270566799, 31.138512954672493, 30.303139861264857, 23.928847068839985, 19.357549050917935, 19.036911318421875, 17.124142260850203, 15.862628282544222, 47.430356286580306, 15.719307818395821, 15.513828544401326, 14.17909209284381, 13.644971645793763, 12.558058721812406, 15.424084145927164, 12.206527410714227, 12.205634575304192, 12.026766210859671, 70.98971814385452, 25.855425292169866, 11.33807432144838, 21.28978734668222, 10.894245443940429, 10.779461117452877, 10.755195258261312, 10.742418575268982, 10.688026194573393, 16.202911268597422, 10.636341298941542, 24.471475083979477, 22.8210159507186, 27.552910370636788, 21.661049427234982, 39.700256338760845, 44.49416637569704, 19.1115388002664, 113.65447651695253, 37.70021269710281, 36.78543436621361, 56.033906179798805, 93.0918006946164, 82.80529429429055, 71.24785089700079, 32.30611085910332, 27.203787154730886, 69.95360428286244, 237.35841064846113, 39.73863442834537, 58.524483358943684, 128.4858970875023, 142.43457882692718, 163.3296017312517, 131.646704316125, 90.84442350293257, 25.60055650392511, 101.83527741387816, 17.731241909596356, 17.020299044909585, 16.851243018998424, 16.22259455034921, 15.790588894025884, 15.592595821014376, 14.997075514079812, 14.937058885325682, 14.786738501698217, 14.465412626850203, 14.321142535504759, 13.676561030875774, 13.59715821596407, 13.444360830580127, 121.39935117583387, 31.842810204999036, 12.26031484638016, 12.001393279966205, 11.867420562969551, 11.867420562969551, 11.867420562969551, 11.867420562969551, 11.867420562969551, 11.867420562969551, 11.615728899033993, 11.505578876681872, 11.09808698207746, 24.590881958512018, 142.43457882692718, 163.3296017312517, 98.90972499294531, 26.49918942058864, 53.14543480508668, 23.98216036910376, 40.01305906305139, 34.14167678945705, 37.39198068617275, 20.279310010835854, 69.95360428286244, 43.33223569996646, 138.10697190644976, 237.35841064846113, 39.31134071686618, 131.646704316125, 93.0918006946164, 19.83295272107329, 82.80529429429055, 25.36942264927389, 128.4858970875023, 19.477786476540114, 18.613623664898018, 16.653948735175444, 16.360524134422946, 15.796605532540914, 15.391272007758431, 15.347253538733352, 14.313413204908993, 14.195624199731629, 14.195624199731629, 14.195624199731629, 12.611458263001914, 24.134439564100315, 15.472013542751574, 11.878776387482631, 11.804558937337307, 11.70038316512895, 24.220731358879988, 11.21492511979121, 11.172363638303178, 11.025713272992785, 10.974414695703773, 14.998108499472695, 10.542091055666695, 16.468027331122872, 10.368624271126057, 10.186261148859916, 9.780015184481107, 9.715388495371771, 13.720357223009197, 28.150051949858085, 14.651339607796245, 25.184609656016626, 30.689305412076976, 16.54607057532607, 17.721457260154537, 90.82771536548707, 22.46887566902921, 29.454041856577298, 73.65494330016128, 58.524483358943684, 17.233897856414092, 165.2786994036761, 130.6637753161918, 138.10697190644976, 31.34968324566653, 49.822707499883435, 98.90972499294531, 27.239409432176586, 20.178186664123395, 19.73554087180539, 18.67873003045222, 18.57289395710665, 18.46364491104488, 18.061605568162744, 14.02273475247294, 13.877810568688894, 13.67958862567486, 20.653592948738964, 13.288367875552396, 16.24936406253293, 12.29660508201896, 12.292123118062065, 12.259177790595446, 12.082194935836338, 11.980703124328867, 11.860435128574604, 11.85176912595736, 11.817052820973394, 19.390246014235487, 11.26800376412572, 11.224166302423319, 11.120650229054274, 19.113658210311346, 9.8723055827603, 9.636606617948516, 9.2653364972314, 32.45202112329596, 41.56408984206567, 14.943983666292127, 21.57760849887546, 26.61837511271632, 130.6637753161918, 62.3591275836666, 46.420701550318874, 51.989152350094194, 53.092502479794135, 19.990736704922163, 32.96080492321149, 22.546595958261104, 25.840852826909316, 17.18479713208646, 39.14300812380729, 39.18019137439227, 86.18117484249885, 73.65494330016128, 27.597340965167003, 23.051082770516146, 21.760777033922327, 19.52427192452685, 16.74143449639136, 16.541305493742396, 16.20675751709161, 16.09241384470768, 15.759139854011613, 15.696842617672162, 15.531359138879559, 15.038899030029842, 14.248571634841472, 13.865168526402451, 13.231437761770284, 12.957359548391798, 12.75333599349385, 12.516005326580832, 12.142579814117724, 11.801725132667926, 11.79680193732769, 11.230894416724682, 15.190697540769644, 14.61795075620288, 10.461389825692988, 20.747905529780493, 10.287129323040036, 10.0831457479021, 10.007962071756914, 9.995655047444064, 17.167625445144672, 19.01585789667061, 131.646704316125, 39.14300812380729, 61.267947910340304, 237.35841064846113, 28.93721586413804, 49.822707499883435, 24.256848609345255, 15.454642775798591, 20.849681520726403, 17.98718607395994, 16.257055556576674, 15.734772595040944, 14.848893312240143, 38.25561019384657, 13.670578919539288, 12.785485064582533, 12.534748005586064, 12.3693111740905, 12.341431079704925, 11.58248003425772, 25.30938538865222, 17.06184298369736, 11.343155692145736, 10.521191450154678, 10.50927538596009, 10.269704410682145, 10.203456738845928, 12.863064806966038, 9.302488049345802, 9.020482517804174, 20.516874556226508, 12.163143968899764, 8.563658124574841, 11.863527101560818, 8.363008894243183, 8.324935904406795, 23.78243610997542, 8.112468332028891, 10.554243921428686, 17.455784657777283, 21.114942865892242, 165.2786994036761, 25.839816247214383, 17.19097951834827, 86.18117484249885, 61.267947910340304, 35.62283975143128, 36.766347651353946, 138.10697190644976, 20.72308451350081, 37.82452112099786, 21.683727442875316, 27.452764235071744, 130.6637753161918, 18.37800826157476, 17.657572097431764, 15.647273758536638, 13.903510368252437, 12.933400841791395, 12.67528053875908, 12.540600132270166, 12.439853662527183, 11.676348399411973, 11.398201767823277, 11.165438012064122, 10.660965074960298, 10.339583594756864, 10.055636772417806, 9.979063531600527, 9.756646091696943, 18.550702592042903, 9.341073093357691, 19.204591198828112, 8.849270950764895, 18.384407029141418, 8.625001391465826, 8.53203712753829, 8.52217402965084, 12.042585820701852, 8.350366100354659, 8.327818187248244, 8.25823253425581, 8.157160375144402, 7.659884236515522, 14.355842455122813, 27.07104809447063, 18.998722658222388, 20.19623211949969, 15.403463819803605, 30.878359490963486, 33.84880671986274, 16.90983268717061, 22.049524878740154, 27.058721520629476, 18.894889104171778, 29.15765541806829, 28.450824743022633, 38.669594056217164, 27.574616801440158, 27.911683908121617, 113.65447651695253, 36.78543436621361, 44.73658158945857, 73.65494330016128, 237.35841064846113, 21.84698222795974, 18.578461577144008, 17.849931845999805, 15.752801872156292, 15.414754807114369, 14.975597265884009, 14.312610705528582, 13.369524777139212, 11.45423604472883, 10.73453099346706, 10.674690693932954, 10.55847232013778, 10.549257161232857, 18.401827966935258, 9.996889597927774, 9.996889597927774, 9.764365804479516, 9.657196631534202, 9.451848631799486, 9.111130601962712, 9.089935856230886, 11.864379438656513, 19.58439956926323, 8.668577171169275, 8.515255512503506, 8.487805538475616, 16.531315471971435, 7.882771613913304, 22.808900838388084, 7.521455545062712, 11.359704246968056, 14.510328038228414, 25.307285112086195, 14.412622243132324, 30.842341502346237, 128.4858970875023, 31.62492829791782, 27.975475331815534, 13.728547190953975, 13.07470461720163, 90.82771536548707, 165.2786994036761, 130.6637753161918, 74.02861187802407, 138.10697190644976, 49.01479160646, 31.974927859029176, 29.780420591585365, 29.526691420450366, 17.62074522437254, 16.00401867096743, 15.6625790120451, 15.327368093415869, 12.861694575500238, 12.7728896377092, 12.597044985443958, 12.009313322264127, 11.931737367649072, 10.263708860200026, 15.520393893112288, 8.678711691709317, 11.0069575703699, 8.413922505676293, 8.363572555810261, 8.34739743021442, 8.304314404455791, 7.378649774642787, 11.821105531947305, 9.477669074650851, 7.065208833339049, 7.00577350814947, 9.264465333613941, 30.996597134069898, 14.959733695382752, 10.444113614081722, 74.02861187802407, 49.01479160646, 13.826616165973672, 15.165845438817868, 42.43782855721491, 23.462870446471342, 26.61837511271632, 22.9234748041173, 24.532583606525648, 32.665843461943254, 16.321839976886594, 237.35841064846113, 30.273063304074046], \"Category\": [\"Default\", \"Default\", \"Default\", \"Default\", \"Default\", \"Default\", \"Default\", \"Default\", \"Default\", \"Default\", \"Default\", \"Default\", \"Default\", \"Default\", \"Default\", \"Default\", \"Default\", \"Default\", \"Default\", \"Default\", \"Default\", \"Default\", \"Default\", \"Default\", \"Default\", \"Default\", \"Default\", \"Default\", \"Default\", \"Default\", \"Topic1\", \"Topic1\", \"Topic1\", \"Topic1\", \"Topic1\", \"Topic1\", \"Topic1\", \"Topic1\", \"Topic1\", \"Topic1\", \"Topic1\", \"Topic1\", \"Topic1\", \"Topic1\", \"Topic1\", \"Topic1\", \"Topic1\", \"Topic1\", \"Topic1\", \"Topic1\", \"Topic1\", \"Topic1\", \"Topic1\", \"Topic1\", \"Topic1\", \"Topic1\", \"Topic1\", \"Topic1\", \"Topic1\", \"Topic1\", \"Topic1\", \"Topic1\", \"Topic1\", \"Topic1\", \"Topic1\", \"Topic1\", \"Topic1\", \"Topic1\", \"Topic1\", \"Topic1\", \"Topic1\", \"Topic1\", \"Topic1\", \"Topic1\", \"Topic1\", \"Topic1\", \"Topic1\", \"Topic1\", \"Topic1\", \"Topic1\", \"Topic1\", \"Topic1\", \"Topic1\", \"Topic1\", \"Topic1\", \"Topic1\", \"Topic2\", \"Topic2\", \"Topic2\", \"Topic2\", \"Topic2\", \"Topic2\", \"Topic2\", \"Topic2\", \"Topic2\", \"Topic2\", \"Topic2\", \"Topic2\", \"Topic2\", \"Topic2\", \"Topic2\", \"Topic2\", \"Topic2\", \"Topic2\", \"Topic2\", \"Topic2\", \"Topic2\", \"Topic2\", \"Topic2\", \"Topic2\", \"Topic2\", \"Topic2\", \"Topic2\", \"Topic2\", \"Topic2\", \"Topic2\", \"Topic2\", \"Topic2\", \"Topic2\", \"Topic2\", \"Topic2\", \"Topic2\", \"Topic2\", \"Topic2\", \"Topic2\", \"Topic2\", \"Topic2\", \"Topic2\", \"Topic2\", \"Topic2\", \"Topic2\", \"Topic2\", \"Topic2\", \"Topic2\", \"Topic2\", \"Topic2\", \"Topic2\", \"Topic2\", \"Topic2\", \"Topic3\", \"Topic3\", \"Topic3\", \"Topic3\", \"Topic3\", \"Topic3\", \"Topic3\", \"Topic3\", \"Topic3\", \"Topic3\", \"Topic3\", \"Topic3\", \"Topic3\", \"Topic3\", \"Topic3\", \"Topic3\", \"Topic3\", \"Topic3\", \"Topic3\", \"Topic3\", \"Topic3\", \"Topic3\", \"Topic3\", \"Topic3\", \"Topic3\", \"Topic3\", \"Topic3\", \"Topic3\", \"Topic3\", \"Topic3\", \"Topic3\", \"Topic3\", \"Topic3\", \"Topic3\", \"Topic3\", \"Topic3\", \"Topic3\", \"Topic3\", \"Topic3\", \"Topic3\", \"Topic3\", \"Topic3\", \"Topic3\", \"Topic3\", \"Topic3\", \"Topic3\", \"Topic3\", \"Topic3\", \"Topic3\", \"Topic3\", \"Topic3\", \"Topic3\", \"Topic4\", \"Topic4\", \"Topic4\", \"Topic4\", \"Topic4\", \"Topic4\", \"Topic4\", \"Topic4\", \"Topic4\", \"Topic4\", \"Topic4\", \"Topic4\", \"Topic4\", \"Topic4\", \"Topic4\", \"Topic4\", \"Topic4\", \"Topic4\", \"Topic4\", \"Topic4\", \"Topic4\", \"Topic4\", \"Topic4\", \"Topic4\", \"Topic4\", \"Topic4\", \"Topic4\", \"Topic4\", \"Topic4\", \"Topic4\", \"Topic4\", \"Topic4\", \"Topic4\", \"Topic4\", \"Topic4\", \"Topic4\", \"Topic4\", \"Topic4\", \"Topic4\", \"Topic4\", \"Topic4\", \"Topic4\", \"Topic4\", \"Topic4\", \"Topic4\", \"Topic4\", \"Topic4\", \"Topic4\", \"Topic5\", \"Topic5\", \"Topic5\", \"Topic5\", \"Topic5\", \"Topic5\", \"Topic5\", \"Topic5\", \"Topic5\", \"Topic5\", \"Topic5\", \"Topic5\", \"Topic5\", \"Topic5\", \"Topic5\", \"Topic5\", \"Topic5\", \"Topic5\", \"Topic5\", \"Topic5\", \"Topic5\", \"Topic5\", \"Topic5\", \"Topic5\", \"Topic5\", \"Topic5\", \"Topic5\", \"Topic5\", \"Topic5\", \"Topic5\", \"Topic5\", \"Topic5\", \"Topic5\", \"Topic5\", \"Topic5\", \"Topic5\", \"Topic5\", \"Topic5\", \"Topic5\", \"Topic5\", \"Topic5\", \"Topic5\", \"Topic5\", \"Topic5\", \"Topic5\", \"Topic5\", \"Topic5\", \"Topic5\", \"Topic6\", \"Topic6\", \"Topic6\", \"Topic6\", \"Topic6\", \"Topic6\", \"Topic6\", \"Topic6\", \"Topic6\", \"Topic6\", \"Topic6\", \"Topic6\", \"Topic6\", \"Topic6\", \"Topic6\", \"Topic6\", \"Topic6\", \"Topic6\", \"Topic6\", \"Topic6\", \"Topic6\", \"Topic6\", \"Topic6\", \"Topic6\", \"Topic6\", \"Topic6\", \"Topic6\", \"Topic6\", \"Topic6\", \"Topic6\", \"Topic6\", \"Topic6\", \"Topic6\", \"Topic6\", \"Topic6\", \"Topic6\", \"Topic6\", \"Topic6\", \"Topic6\", \"Topic6\", \"Topic7\", \"Topic7\", \"Topic7\", \"Topic7\", \"Topic7\", \"Topic7\", \"Topic7\", \"Topic7\", \"Topic7\", \"Topic7\", \"Topic7\", \"Topic7\", \"Topic7\", \"Topic7\", \"Topic7\", \"Topic7\", \"Topic7\", \"Topic7\", \"Topic7\", \"Topic7\", \"Topic7\", \"Topic7\", \"Topic7\", \"Topic7\", \"Topic7\", \"Topic7\", \"Topic7\", \"Topic7\", \"Topic7\", \"Topic7\", \"Topic7\", \"Topic7\", \"Topic7\", \"Topic7\", \"Topic7\", \"Topic7\", \"Topic7\", \"Topic7\", \"Topic7\", \"Topic7\", \"Topic7\", \"Topic7\", \"Topic7\", \"Topic7\", \"Topic7\", \"Topic7\", \"Topic8\", \"Topic8\", \"Topic8\", \"Topic8\", \"Topic8\", \"Topic8\", \"Topic8\", \"Topic8\", \"Topic8\", \"Topic8\", \"Topic8\", \"Topic8\", \"Topic8\", \"Topic8\", \"Topic8\", \"Topic8\", \"Topic8\", \"Topic8\", \"Topic8\", \"Topic8\", \"Topic8\", \"Topic8\", \"Topic8\", \"Topic8\", \"Topic8\", \"Topic8\", \"Topic8\", \"Topic8\", \"Topic8\", \"Topic8\", \"Topic8\", \"Topic8\", \"Topic8\", \"Topic8\", \"Topic8\", \"Topic8\", \"Topic8\", \"Topic8\", \"Topic8\", \"Topic8\", \"Topic8\", \"Topic8\", \"Topic8\", \"Topic8\", \"Topic8\", \"Topic8\", \"Topic8\", \"Topic8\", \"Topic8\", \"Topic8\", \"Topic8\", \"Topic9\", \"Topic9\", \"Topic9\", \"Topic9\", \"Topic9\", \"Topic9\", \"Topic9\", \"Topic9\", \"Topic9\", \"Topic9\", \"Topic9\", \"Topic9\", \"Topic9\", \"Topic9\", \"Topic9\", \"Topic9\", \"Topic9\", \"Topic9\", \"Topic9\", \"Topic9\", \"Topic9\", \"Topic9\", \"Topic9\", \"Topic9\", \"Topic9\", \"Topic9\", \"Topic9\", \"Topic9\", \"Topic9\", \"Topic9\", \"Topic9\", \"Topic9\", \"Topic9\", \"Topic9\", \"Topic9\", \"Topic9\", \"Topic9\", \"Topic9\", \"Topic9\", \"Topic9\", \"Topic9\", \"Topic9\", \"Topic9\", \"Topic9\", \"Topic9\", \"Topic9\", \"Topic10\", \"Topic10\", \"Topic10\", \"Topic10\", \"Topic10\", \"Topic10\", \"Topic10\", \"Topic10\", \"Topic10\", \"Topic10\", \"Topic10\", \"Topic10\", \"Topic10\", \"Topic10\", \"Topic10\", \"Topic10\", \"Topic10\", \"Topic10\", \"Topic10\", \"Topic10\", \"Topic10\", \"Topic10\", \"Topic10\", \"Topic10\", \"Topic10\", \"Topic10\", \"Topic10\", \"Topic10\", \"Topic10\", \"Topic10\", \"Topic10\", \"Topic10\", \"Topic10\", \"Topic10\", \"Topic10\", \"Topic10\", \"Topic10\", \"Topic10\", \"Topic10\", \"Topic10\", \"Topic10\", \"Topic10\"], \"logprob\": [30.0, 29.0, 28.0, 27.0, 26.0, 25.0, 24.0, 23.0, 22.0, 21.0, 20.0, 19.0, 18.0, 17.0, 16.0, 15.0, 14.0, 13.0, 12.0, 11.0, 10.0, 9.0, 8.0, 7.0, 6.0, 5.0, 4.0, 3.0, 2.0, 1.0, -4.7766, -4.8619, -5.0202, -4.4409, -5.0489, -5.1893, -4.7941, -5.2287, -5.274, -4.3985, -5.3638, -4.9592, -5.3794, -4.9388, -5.4411, -5.1427, -5.4688, -4.8969, -5.4712, -5.5304, -5.5733, -5.583, -5.5902, -5.6056, -5.4868, -4.5572, -5.6152, -5.3402, -4.8805, -5.301, -5.148, -4.9998, -4.227, -5.0094, -4.9168, -4.2346, -4.9889, -4.4842, -4.7804, -4.6507, -5.137, -4.7165, -4.9066, -5.1929, -4.5801, -4.9029, -4.1557, -4.6929, -4.6029, -4.8027, -4.7506, -4.7999, -4.759, -4.8567, -4.9015, -4.9871, -4.1737, -4.3471, -4.3766, -4.6362, -4.8752, -4.8943, -5.0166, -5.1063, -4.0121, -5.117, -5.1326, -5.2401, -5.2866, -5.3886, -5.1882, -5.4238, -5.424, -5.4424, -3.6682, -4.6785, -5.5168, -4.8926, -5.5679, -5.5816, -5.5844, -5.5859, -5.5925, -5.1766, -5.5988, -4.7665, -4.8429, -4.6633, -4.9148, -4.3908, -4.3021, -5.0727, -3.5291, -4.4882, -4.5093, -4.1733, -3.7891, -3.886, -4.0924, -4.677, -4.8643, -4.3764, -3.7639, -4.6805, -4.6656, -4.4153, -4.3887, -4.3787, -4.5647, -3.2386, -4.53, -3.1505, -4.9439, -4.9913, -5.0029, -5.0473, -5.079, -5.0939, -5.14, -5.1448, -5.1568, -5.1831, -5.1951, -5.2505, -5.2576, -5.2713, -3.0782, -4.429, -5.3845, -5.4111, -5.4251, -5.4251, -5.4251, -5.4251, -5.4251, -5.4251, -5.452, -5.4641, -5.5097, -4.7323, -3.0346, -2.9591, -3.4965, -4.6941, -4.1256, -4.8202, -4.3966, -4.5433, -4.5192, -5.0116, -4.0997, -4.4527, -3.8312, -3.579, -4.6608, -4.175, -4.4227, -5.0318, -4.502, -4.9834, -4.8157, -4.5602, -4.6122, -4.7413, -4.7621, -4.8035, -4.8343, -4.8377, -4.9212, -4.9311, -4.9311, -4.9311, -5.0759, -4.4305, -4.8826, -5.1505, -5.1584, -5.1696, -4.4435, -5.2235, -5.2283, -5.2452, -5.2512, -4.9488, -5.3032, -4.8621, -5.3248, -5.348, -5.4019, -5.4107, -5.0681, -4.3691, -5.0114, -4.4916, -4.3109, -4.9216, -4.8687, -3.5878, -4.7072, -4.5788, -4.0196, -4.2117, -4.9516, -3.931, -4.1996, -4.4125, -4.8901, -4.8495, -4.8675, -4.1239, -4.4591, -4.4844, -4.5475, -4.554, -4.5608, -4.5863, -4.8856, -4.8982, -4.9157, -4.5042, -4.9511, -4.7653, -5.047, -5.0475, -5.0509, -5.069, -5.0796, -5.0924, -5.0932, -5.0969, -4.608, -5.1573, -5.1624, -5.1742, -4.6407, -5.3296, -5.3619, -5.4149, -4.1621, -3.9219, -4.9838, -4.6757, -4.5651, -3.6304, -4.1065, -4.3168, -4.2736, -4.3276, -4.8348, -4.612, -4.8041, -4.7668, -4.9367, -4.6667, -4.7791, -4.7481, -4.8719, -3.9463, -4.1458, -4.2105, -4.3337, -4.5118, -4.5259, -4.55, -4.5583, -4.5831, -4.5878, -4.6004, -4.6388, -4.7037, -4.7373, -4.794, -4.8198, -4.8395, -4.8628, -4.9006, -4.9365, -4.937, -4.9996, -4.7129, -4.7521, -5.0915, -4.4083, -5.1135, -5.1399, -5.1499, -5.1515, -4.6403, -4.5794, -2.9618, -4.0552, -3.7835, -2.8347, -4.4917, -4.2752, -4.6936, -4.8433, -4.2537, -4.4229, -4.5411, -4.5797, -4.6488, -3.7187, -4.7492, -4.831, -4.8556, -4.8722, -4.8749, -4.9549, -4.1752, -4.5721, -4.9815, -5.0786, -5.0801, -5.1104, -5.1188, -4.9153, -5.2426, -5.2846, -4.4684, -4.9997, -5.3568, -5.0347, -5.3902, -5.3967, -4.3531, -5.4336, -5.1793, -4.7727, -4.6189, -3.1379, -4.6089, -4.8703, -4.0507, -4.305, -4.6098, -4.6156, -4.1543, -4.8384, -4.6733, -4.8763, -4.877, -4.7849, -4.2914, -4.3377, -4.4796, -4.6214, -4.71, -4.7349, -4.7482, -4.7582, -4.8378, -4.8685, -4.8948, -4.9545, -4.9944, -5.0311, -5.0413, -5.0713, -4.4396, -5.1299, -4.4217, -5.2041, -4.4825, -5.2397, -5.2549, -5.2565, -4.9113, -5.2853, -5.2892, -5.3011, -5.3186, -5.4099, -4.8148, -4.2527, -4.5972, -4.5657, -4.7859, -4.2604, -4.272, -4.7653, -4.5872, -4.4511, -4.7024, -4.545, -4.6465, -4.5779, -4.7166, -4.7257, -4.5261, -4.736, -4.7337, -4.7318, -4.6772, -3.9089, -4.0935, -4.1397, -4.2862, -4.3119, -4.3464, -4.4008, -4.4837, -4.6767, -4.7601, -4.7673, -4.7816, -4.7827, -4.2408, -4.8534, -4.8534, -4.8848, -4.8995, -4.9285, -4.9784, -4.9816, -4.72, -4.2242, -5.0472, -5.0722, -5.0768, -4.4123, -5.1825, -4.1313, -5.2515, -4.8555, -4.6243, -4.1214, -4.6573, -4.1583, -3.2338, -4.2751, -4.3666, -4.7733, -4.8055, -4.2485, -4.0899, -4.2077, -4.4275, -4.445, -4.7514, -3.4017, -3.479, -3.4883, -4.0686, -4.1816, -4.2072, -4.233, -4.4461, -4.4547, -4.4719, -4.5318, -4.54, -4.7343, -4.3565, -4.9621, -4.736, -5.0058, -5.0142, -5.017, -5.0244, -5.1976, -4.7343, -4.9677, -5.2638, -5.2769, -5.0125, -3.8218, -4.5538, -4.9402, -3.0075, -3.5819, -4.7264, -4.665, -3.9528, -4.476, -4.7331, -4.7906, -4.8126, -4.7928, -4.8956, -4.7526, -4.8777], \"loglift\": [30.0, 29.0, 28.0, 27.0, 26.0, 25.0, 24.0, 23.0, 22.0, 21.0, 20.0, 19.0, 18.0, 17.0, 16.0, 15.0, 14.0, 13.0, 12.0, 11.0, 10.0, 9.0, 8.0, 7.0, 6.0, 5.0, 4.0, 3.0, 2.0, 1.0, 1.7554, 1.7459, 1.7263, 1.7249, 1.7224, 1.7021, 1.6998, 1.696, 1.6887, 1.6759, 1.6733, 1.672, 1.6705, 1.6631, 1.6591, 1.6546, 1.6538, 1.6534, 1.6534, 1.6416, 1.6327, 1.6307, 1.6292, 1.6259, 1.6257, 1.6247, 1.6238, 1.6236, 1.6209, 1.62, 1.6167, 1.599, 1.5402, 1.5876, 1.5678, 1.4507, 1.5354, 1.4253, 1.4606, 1.399, 1.5498, 1.3605, 1.4373, 1.548, 1.0583, 1.3193, 0.3879, 1.0073, 0.7821, 0.9713, 0.7677, 0.8253, 0.0364, -0.1335, -0.1229, 1.1644, 1.8782, 1.8657, 1.8634, 1.84, 1.813, 1.8106, 1.7941, 1.781, 1.7798, 1.7793, 1.7769, 1.7593, 1.7512, 1.7322, 1.7271, 1.7254, 1.7254, 1.7217, 1.7205, 1.7202, 1.7062, 1.7005, 1.6951, 1.692, 1.6914, 1.6911, 1.6896, 1.6894, 1.6882, 1.6872, 1.6806, 1.6718, 1.6609, 1.5791, 1.5537, 1.6283, 1.389, 1.5334, 1.5368, 1.4519, 1.3285, 1.3487, 1.2927, 1.499, 1.4836, 1.027, 0.4178, 1.2885, 0.9162, 0.3801, 0.3036, 0.1767, 0.2064, 1.9035, 1.8786, 1.8774, 1.832, 1.8256, 1.8239, 1.8175, 1.8128, 1.8106, 1.8034, 1.8026, 1.8007, 1.7964, 1.7944, 1.785, 1.7838, 1.7813, 1.7739, 1.7614, 1.7604, 1.7551, 1.7524, 1.7524, 1.7524, 1.7524, 1.7524, 1.7524, 1.7469, 1.7443, 1.7348, 1.7165, 1.6578, 1.5964, 1.5605, 1.68, 1.5526, 1.6537, 1.5654, 1.5775, 1.5106, 1.6301, 1.3037, 1.4297, 0.892, 0.6027, 1.319, 0.5961, 0.6949, 1.6321, 0.7327, 1.4342, -0.0203, 2.1218, 2.1152, 2.0973, 2.0942, 2.088, 2.0831, 2.0826, 2.0689, 2.0672, 2.0672, 2.0672, 2.0408, 2.0371, 2.0296, 2.0259, 2.0243, 2.022, 2.0206, 2.0105, 2.0095, 2.0058, 2.0045, 1.9945, 1.9927, 1.9877, 1.9877, 1.9822, 1.969, 1.9668, 1.9642, 1.9446, 1.9553, 1.9334, 1.9165, 1.9235, 1.9078, 1.5545, 1.8319, 1.6896, 1.3323, 1.3701, 1.8528, 0.6126, 0.579, 0.3107, 1.316, 0.8933, 0.1895, 2.2227, 2.1875, 2.1844, 2.1764, 2.1755, 2.1746, 2.1712, 2.125, 2.1228, 2.1197, 2.1191, 2.1132, 2.0979, 2.0949, 2.0948, 2.0941, 2.0905, 2.0883, 2.0857, 2.0855, 2.0848, 2.0784, 2.0719, 2.0708, 2.0683, 2.0602, 2.0319, 2.0238, 2.01, 2.0094, 2.0021, 1.9631, 1.9039, 1.8046, 1.1483, 1.4118, 1.4967, 1.4266, 1.3516, 1.8212, 1.5439, 1.7316, 1.6325, 1.8705, 1.3173, 1.204, 0.4467, 0.48, 2.3873, 2.3677, 2.3606, 2.3459, 2.3215, 2.3195, 2.3158, 2.3146, 2.3107, 2.31, 2.308, 2.3018, 2.2909, 2.2845, 2.2746, 2.2698, 2.266, 2.2615, 2.2539, 2.2465, 2.2464, 2.2329, 2.2176, 2.2169, 2.2121, 2.2105, 2.2069, 2.2005, 2.198, 2.1976, 2.1679, 2.1265, 1.8093, 1.9288, 1.7525, 1.347, 1.7944, 1.4676, 1.769, 2.0701, 2.3602, 2.3387, 2.3216, 2.3157, 2.3045, 2.2882, 2.2868, 2.272, 2.2672, 2.2638, 2.2633, 2.2469, 2.2449, 2.2423, 2.2412, 2.2193, 2.2189, 2.2117, 2.2097, 2.1815, 2.1783, 2.1671, 2.1616, 2.1532, 2.1469, 2.1431, 2.1372, 2.1353, 2.1292, 2.1242, 2.1154, 2.0189, 1.9824, 1.4057, 1.7904, 1.9365, 1.1441, 1.231, 1.4685, 1.431, 0.5689, 1.7815, 1.345, 1.6984, 1.4617, -0.0063, 2.4486, 2.4423, 2.4213, 2.3977, 2.3815, 2.3767, 2.3741, 2.3721, 2.3559, 2.3493, 2.3436, 2.3302, 2.3208, 2.312, 2.3095, 2.302, 2.2911, 2.2869, 2.2744, 2.2669, 2.2572, 2.2568, 2.2525, 2.252, 2.2515, 2.2436, 2.2424, 2.239, 2.2337, 2.2053, 2.1723, 2.1001, 2.1096, 2.08, 2.1307, 1.9608, 1.8573, 2.058, 1.9707, 1.9022, 2.0099, 1.7335, 1.6566, 1.4183, 1.6178, 1.5965, 0.3919, 1.3101, 1.1167, 0.6201, -0.4956, 2.6583, 2.6358, 2.6295, 2.6081, 2.604, 2.5984, 2.5893, 2.5746, 2.5362, 2.5177, 2.516, 2.5127, 2.5125, 2.498, 2.4956, 2.4956, 2.4877, 2.484, 2.4766, 2.4633, 2.4624, 2.4577, 2.4523, 2.4443, 2.4372, 2.4358, 2.4337, 2.4041, 2.3928, 2.382, 2.3657, 2.3521, 2.2988, 2.3259, 2.064, 1.5616, 1.9222, 1.9533, 2.2585, 2.2751, 0.8937, 0.4537, 0.5709, 0.9193, 0.2782, 1.0077, 2.7846, 2.7784, 2.7776, 2.7136, 2.6968, 2.6928, 2.6886, 2.6509, 2.6492, 2.6459, 2.6338, 2.6321, 2.5884, 2.5526, 2.5283, 2.5167, 2.5156, 2.5131, 2.5123, 2.5101, 2.4551, 2.4471, 2.4346, 2.4322, 2.4276, 2.4125, 2.3955, 2.3921, 2.365, 2.3392, 2.1772, 2.2983, 2.2672, 1.9504, 2.0198, 1.6365, 1.7284, 1.6387, 1.3721, 1.9632, -0.5709, 1.3632]}, \"token.table\": {\"Topic\": [9, 5, 6, 8, 3, 1, 10, 8, 10, 4, 2, 4, 6, 10, 1, 9, 10, 2, 4, 5, 4, 8, 1, 3, 1, 4, 5, 7, 10, 6, 3, 9, 5, 2, 3, 4, 10, 6, 7, 8, 7, 1, 7, 4, 9, 6, 9, 4, 8, 10, 6, 7, 1, 2, 3, 4, 5, 7, 8, 9, 10, 5, 1, 4, 5, 6, 8, 7, 5, 6, 8, 1, 3, 10, 1, 2, 3, 2, 3, 5, 5, 6, 5, 3, 8, 1, 5, 8, 7, 10, 1, 2, 3, 6, 8, 3, 2, 3, 2, 9, 2, 5, 6, 7, 8, 10, 1, 2, 3, 4, 8, 1, 7, 9, 10, 1, 4, 5, 2, 3, 1, 2, 3, 4, 1, 1, 10, 1, 2, 8, 9, 2, 4, 5, 9, 10, 1, 5, 1, 3, 4, 5, 7, 8, 8, 3, 3, 2, 10, 1, 2, 3, 4, 5, 6, 8, 9, 10, 1, 10, 4, 6, 7, 8, 6, 1, 2, 6, 4, 5, 10, 2, 3, 9, 4, 2, 4, 9, 6, 9, 10, 3, 5, 7, 10, 9, 1, 9, 9, 6, 1, 2, 3, 4, 5, 6, 7, 10, 5, 1, 6, 6, 8, 1, 8, 2, 3, 7, 9, 10, 1, 4, 10, 9, 2, 8, 6, 4, 7, 4, 10, 7, 8, 9, 6, 7, 1, 2, 3, 4, 6, 7, 9, 10, 1, 2, 6, 8, 6, 6, 7, 4, 6, 5, 6, 2, 8, 9, 2, 4, 8, 10, 1, 3, 1, 3, 6, 8, 4, 2, 4, 8, 10, 1, 2, 8, 9, 10, 4, 6, 8, 9, 7, 5, 9, 10, 1, 8, 7, 3, 10, 7, 9, 1, 3, 6, 7, 8, 1, 5, 7, 8, 9, 10, 5, 8, 3, 6, 3, 1, 4, 3, 1, 4, 10, 4, 1, 2, 8, 3, 4, 7, 5, 5, 9, 1, 4, 9, 10, 5, 7, 8, 3, 5, 5, 6, 4, 8, 5, 1, 10, 1, 5, 9, 1, 2, 3, 4, 5, 6, 7, 8, 3, 1, 2, 3, 4, 5, 6, 7, 8, 9, 10, 2, 3, 6, 8, 6, 2, 2, 6, 7, 2, 3, 4, 5, 2, 9, 7, 2, 5, 8, 1, 7, 6, 8, 2, 8, 2, 2, 8, 1, 2, 3, 4, 10, 8, 5, 4, 7, 3, 9, 1, 2, 3, 4, 6, 7, 9, 3, 1, 2, 8, 1, 4, 1, 2, 1, 4, 5, 7, 8, 6, 5, 1, 2, 4, 2, 6, 1, 7, 8, 10, 7, 1, 2, 2, 5, 7, 7, 1, 2, 4, 5, 10, 4, 5, 7, 10, 1, 2, 4, 5, 6, 7, 10, 2, 1, 2, 3, 1, 2, 1, 2, 6, 9, 6, 9, 1, 1, 7, 9, 10, 3, 4, 1, 2, 4, 6, 7, 9, 8, 1, 3, 4, 7, 8, 9, 1, 8, 10, 7, 1, 7, 9, 10, 3, 10, 1, 3, 7, 8, 10, 1, 9, 9, 8, 2, 2, 3, 4, 8, 10, 8, 4, 5, 7, 9, 9, 6, 2, 4, 7, 9, 1, 5, 9, 10, 3, 10, 1, 3, 2, 3, 4, 2, 3, 5, 10, 1, 8, 10, 6, 9, 1, 2, 3, 7, 8, 4, 9, 6, 9, 5, 7, 3, 4, 5, 1, 10, 5, 7, 9, 1, 2, 4, 5, 7, 9, 10, 10, 6, 2, 1, 4, 5, 6, 8, 9, 4, 1, 6, 7, 10, 1, 9, 1, 4, 7, 7, 1, 2, 3, 9, 1, 4, 5, 7, 8, 2, 4, 5, 7, 8, 1, 5, 3, 5, 2, 9, 10, 5, 5, 2, 2, 8, 3, 6, 6, 2, 7, 3, 6, 1, 2, 8, 9, 6, 4, 1, 6, 7, 5, 7, 10, 1, 5, 7, 9, 7, 10, 1, 4, 6, 8, 10, 2, 4, 7, 8, 8, 7, 1, 5, 7, 7, 1, 2, 8, 1, 6, 10, 1, 10, 2, 8, 4, 1, 4, 5, 3, 3, 7, 8, 4, 10, 2, 3, 7, 8, 2, 4, 7, 5, 7, 9, 4, 8, 7, 10, 8, 4, 2, 6, 7, 2, 8, 2, 5, 1, 6, 9, 2, 6, 4, 5, 1, 8, 5, 1, 4, 7, 9, 1, 2, 3, 4, 7, 8, 10, 5, 7, 10, 3, 2, 7, 4, 6, 1, 7, 3, 8, 9, 4, 6, 10, 7, 4, 1, 5, 6, 3, 4, 5, 8, 7, 1, 5, 2, 1, 5, 7, 4, 5, 9, 3, 2, 5, 10, 1, 2, 4, 5, 7, 8, 9, 8, 6, 5, 10, 5, 9, 6, 6, 1, 3, 4, 5, 2, 9, 10, 6, 8, 4, 6, 8, 1, 2, 3, 5, 7, 5, 8, 6, 9, 1, 2, 3, 4, 6, 9, 3, 4, 2, 3, 5, 8, 9, 5, 2, 6, 8, 3, 4, 9, 7, 8, 2, 9, 1, 2, 7, 8, 5, 1, 2, 4, 5, 6, 7, 8, 9, 10, 1, 4, 1, 4, 4, 6, 4, 2, 4, 6, 4, 9, 4, 9, 1, 5, 1, 2, 4, 5, 7, 2, 4, 8, 2, 9, 5, 7, 8, 9, 10, 2, 7, 10, 6, 1, 6, 1, 4, 6, 9, 8, 1, 3, 4, 10, 1, 5, 8, 10, 4, 2, 3, 2, 7, 8, 10], \"Freq\": [0.7452584565519191, 0.7926322344259542, 0.8362485307347898, 0.7707889223700489, 0.7822292208382597, 0.12886270888315335, 0.7087448988573435, 0.7174596612617843, 0.7794453358884627, 0.8229616149634221, 0.8314787054703379, 0.784451952274929, 0.08257388971315043, 0.04128694485657521, 0.7714501315315839, 0.08571668128128711, 0.042858340640643554, 0.08901201953584054, 0.667590146518804, 0.1335180293037608, 0.7288439970957815, 0.07288439970957815, 0.800499874352562, 0.8156397388891269, 0.24271251926758258, 0.060678129816895646, 0.4550859736267174, 0.030339064908447823, 0.1516953245422391, 0.7993635410126596, 0.82956499821692, 0.7857355099768304, 0.8920524078610004, 0.4324451847735202, 0.5087590409100237, 0.7715584817050354, 0.8300037937559658, 0.7899571410591073, 0.06582976175492561, 0.703231820292272, 0.8046477083920532, 0.8056100495166844, 0.0947776528843158, 0.6963021424392308, 0.2321007141464103, 0.8003477472990265, 0.8612123201677723, 0.08303864426533264, 0.7473477983879937, 0.9069606076315476, 0.8707110854486819, 0.8102788027917337, 0.13775815030938762, 0.06887907515469381, 0.06887907515469381, 0.18367753374585016, 0.313782453482494, 0.08418553630018132, 0.015306461145487513, 0.10714522801841259, 0.02295969171823127, 0.9177878860497144, 0.04014233871181487, 0.26092520162679667, 0.20071169355907437, 0.36128104840633385, 0.10035584677953718, 0.7821369271081712, 0.35766285400750836, 0.5875889744409065, 0.8706057681698423, 0.1512634070272543, 0.7058958994605201, 0.05042113567575143, 0.11538753815104606, 0.2769300915625105, 0.5769376907552303, 0.35475777767680466, 0.5912629627946745, 0.7616112186641348, 0.7217769019842213, 0.21653307059526639, 0.7593803004724833, 0.15621264566064097, 0.7289923464163245, 0.14775933262875832, 0.18469916578594792, 0.6279771636722229, 0.6632403090275024, 0.09474861557535748, 0.036229567512168735, 0.5555200351865873, 0.2898365400973499, 0.04830609001622498, 0.07245913502433747, 0.845964432524144, 0.7421521273496047, 0.8307992463354854, 0.893002006241907, 0.634294667522127, 0.5284529854156439, 0.050328855753870846, 0.025164427876935423, 0.12582213938467712, 0.15098656726161253, 0.12582213938467712, 0.15647149941490912, 0.06705921403496105, 0.31294299882981824, 0.22353071344987016, 0.22353071344987016, 0.03869996560474006, 0.5030995528616208, 0.27089975923318044, 0.11609989681422019, 0.18131193060868953, 0.7252477224347581, 0.8276641829655924, 0.04403132130472351, 0.9246577473991937, 0.049423657885202754, 0.12355914471300689, 0.8154903551058454, 0.8453309154399046, 0.7863936134023897, 0.46882584230670404, 0.42620531118791277, 0.03867660224884574, 0.8122086472257605, 0.07735320449769148, 0.03867660224884574, 0.07069164709865831, 0.16494717656353605, 0.16494717656353605, 0.16494717656353605, 0.40058600022573043, 0.8229425212471216, 0.8613901240622474, 0.25523101468401416, 0.07656930440520425, 0.1531386088104085, 0.3318003190892184, 0.07656930440520425, 0.07656930440520425, 0.8308156552132685, 0.833236589012785, 0.8379219723740464, 0.8195363194827961, 0.7775025243600969, 0.1634420623276533, 0.21013979442126854, 0.13231024093190982, 0.031131821395743487, 0.031131821395743487, 0.0544806874425511, 0.0544806874425511, 0.2957523032595631, 0.023348866046807613, 0.7559176997159386, 0.14173456869673848, 0.1632174789766752, 0.48965243693002564, 0.27746971426034783, 0.048965243693002564, 0.8638371978624121, 0.036759587711525474, 0.624912991095933, 0.2573171139806783, 0.13383312272424588, 0.6691656136212294, 0.7076931649077637, 0.732541745921833, 0.1569732312689642, 0.7576853693826425, 0.8025020144019966, 0.8759562827443632, 0.7755939436610586, 0.06463282863842156, 0.17606092170346838, 0.7042436868138735, 0.6913468511382557, 0.21759028326289012, 0.21759028326289012, 0.35358421030219644, 0.19039149785502885, 0.664764947428578, 0.8579756816344699, 0.061283977259604994, 0.7494362346767447, 0.8013609304880912, 0.17405193219300363, 0.15084500790060315, 0.011603462146200243, 0.1392415457544029, 0.15084500790060315, 0.06962077287720145, 0.26687962936260556, 0.034810386438600724, 0.726396778193919, 0.8157266858991752, 0.8313533417949788, 0.20897415176978795, 0.6269224553093639, 0.8066191749316006, 0.05761565535225719, 0.10201002261001177, 0.12241202713201413, 0.08160801808800942, 0.16321603617601885, 0.5100501130500589, 0.34898723114015484, 0.2617404233551161, 0.3053638272476355, 0.7248480347953666, 0.2631755876406811, 0.6316214103376346, 0.8644249804484659, 0.8383744553594265, 0.8081410343293556, 0.7157453099978388, 0.7938369682377989, 0.11827438136140686, 0.5913719068070343, 0.17741157204211028, 0.14622110164871838, 0.7311055082435919, 0.13757451733045115, 0.07240764070023743, 0.34031591129111594, 0.14481528140047487, 0.07240764070023743, 0.14481528140047487, 0.07964840477026118, 0.007240764070023744, 0.0563461879351929, 0.8029331780764989, 0.1126923758703858, 0.7504011075685653, 0.8235482206485786, 0.7841085661901739, 0.8895221261519727, 0.7872567311760688, 0.12430369439622138, 0.8231013384544291, 0.096835451582874, 0.29708511788230696, 0.5941702357646139, 0.716892437273158, 0.7447112532383972, 0.8453309154399046, 0.6492046280618654, 0.1947613884185596, 0.1626619169962474, 0.7726441057321752, 0.019639559598503525, 0.9034197415311621, 0.058918678795510576, 0.7737255496494799, 0.7692055783970397, 0.36735619620477217, 0.21429111445278376, 0.12245206540159072, 0.21429111445278376, 0.8055271229628013, 0.4431470841540149, 0.4726902230976159, 0.8403393429965124, 0.8512693310639554, 0.8470570950815819, 0.1315276006176899, 0.1315276006176899, 0.7014805366276794, 0.7174451296028395, 0.85575319021732, 0.6118685074900173, 0.2294506903087565, 0.8159042612299695, 0.7355500841055592, 0.7934299981646032, 0.7583787860424452, 0.7136970663102008, 0.0842859085188898, 0.7585731766700082, 0.258601111391606, 0.258601111391606, 0.025860111139160598, 0.10344044455664239, 0.3103213336699272, 0.15862725613383027, 0.26437876022305046, 0.31725451226766055, 0.05287575204461009, 0.026437876022305046, 0.13218938011152523, 0.1617189421864169, 0.7546883968699455, 0.8115379871377202, 0.8249181186554891, 0.7583787860424452, 0.13650628908606852, 0.7507845899733768, 0.8984179697997429, 0.06667507439589186, 0.8001008927507024, 0.9066359528726404, 0.7929297145070751, 0.883820264261118, 0.16318176568026654, 0.7071209846144884, 0.8813006140738864, 0.1306997842842996, 0.8103386625626575, 0.8277916522944494, 0.8135291116069269, 0.706896496721293, 0.16975598881630108, 0.5771703619754237, 0.13580479105304089, 0.06790239552652044, 0.23058766133139458, 0.46117532266278916, 0.23058766133139458, 0.8181869066605041, 0.8346755525302425, 0.6401006608021829, 0.23276387665533924, 0.7335739837394522, 0.16928630393987357, 0.8041177480552587, 0.32968818126038707, 0.5275010900166194, 0.23172169428602712, 0.648820744000876, 0.7405958635911108, 0.11438176830686418, 0.5719088415343209, 0.0703887804965318, 0.008798597562066475, 0.026395792686199425, 0.0703887804965318, 0.01759719512413295, 0.11438176830686418, 0.7583787860424452, 0.0589825317828516, 0.21486493720895938, 0.252782279069364, 0.0294912658914258, 0.0042130379844894, 0.3201908868211944, 0.0042130379844894, 0.0463434178293834, 0.0337043038759152, 0.0337043038759152, 0.1747100325790898, 0.2506709163091288, 0.5089379209912616, 0.053172618611027324, 0.9058843760184964, 0.7937855887021824, 0.15776306366515574, 0.6836399425490082, 0.8633225395844263, 0.7438265701271223, 0.7583787860424452, 0.10314464285454067, 0.773584821409055, 0.8192937399775282, 0.7700824418031184, 0.7840480147813954, 0.1000463379374886, 0.6002780276249315, 0.2000926758749772, 0.7586156182415267, 0.16858124849811704, 0.6470547488590054, 0.19411642465770163, 0.9239966593623898, 0.7955736847957424, 0.9295763178078159, 0.8782103537634512, 0.773191840439, 0.03763258325639995, 0.24461179116659965, 0.6585702069869991, 0.03763258325639995, 0.8747802841168337, 0.7889371733762831, 0.8132325900766519, 0.762417304007301, 0.7207262697150506, 0.10868485476516988, 0.7607939833561892, 0.06605913157516119, 0.06605913157516119, 0.06605913157516119, 0.4954434868137089, 0.04403942105010746, 0.09908869736274178, 0.15413797367537613, 0.7583787860424452, 0.7908544902181426, 0.806157776325676, 0.7895982351713305, 0.7799713167256843, 0.8453309154399046, 0.7079311023844344, 0.16336871593486946, 0.33675904095714804, 0.06414457922993295, 0.400903620187081, 0.11225301365238267, 0.06414457922993295, 0.7933549440133731, 0.7987217779118577, 0.9057754968377797, 0.7621699384025783, 0.14517522636239585, 0.8023249516397137, 0.12343460794457135, 0.8507351686281943, 0.04253675843140972, 0.16918891338841957, 0.6767556535536783, 0.7524868575877692, 0.35692674959737763, 0.606775474315542, 0.14207947514013938, 0.18943930018685248, 0.6156777256072706, 0.7006351623007931, 0.10252119550036289, 0.3588241842512701, 0.41008478200145154, 0.0683474636669086, 0.0341737318334543, 0.05817004196489678, 0.17451012589469034, 0.5817004196489678, 0.05817004196489678, 0.4520453898119593, 0.05424544677743511, 0.19889997151726208, 0.07232726236991348, 0.10849089355487022, 0.05424544677743511, 0.07232726236991348, 0.7963014205874631, 0.04998368149879417, 0.22492656674457376, 0.6747797002337214, 0.13145777587108406, 0.7449273966028097, 0.5887923582152096, 0.19626411940506985, 0.05607546268716282, 0.08411319403074423, 0.2185227583277539, 0.582727355540677, 0.7803943561326848, 0.8381168251822724, 0.118542940766383, 0.6322290174207092, 0.19757156794397165, 0.17761956563725656, 0.7460021756764775, 0.33685226568722076, 0.519313909601132, 0.07017755535150433, 0.02807102214060173, 0.014035511070300865, 0.8002489095866675, 0.7493785703248167, 0.4141610757931457, 0.1242483227379437, 0.10354026894828643, 0.18637248410691556, 0.1242483227379437, 0.020708053789657285, 0.8762289149037233, 0.10793931047178021, 0.6476358628306812, 0.8261956073071657, 0.8065100888597609, 0.7789902883357298, 0.624452639372307, 0.20815087979076902, 0.7583787860424452, 0.6776307526050128, 0.14059346384961907, 0.07029673192480954, 0.31633529366164287, 0.38663202558645243, 0.03514836596240477, 0.7896599116579227, 0.07896599116579227, 0.7583472350450376, 0.7265477177000671, 0.7485011595557112, 0.14782664424667713, 0.07391332212333857, 0.14782664424667713, 0.51739325486337, 0.07391332212333857, 0.8038679771710818, 0.064845919686346, 0.22696071890221098, 0.162114799215865, 0.48634439764759496, 0.6921551116779964, 0.7629186323389909, 0.8192338134777417, 0.28953218793713265, 0.48255364656188776, 0.14476609396856632, 0.7198395963435474, 0.12340107365889384, 0.04113369121963128, 0.08226738243926256, 0.8629938914240222, 0.7173967775088813, 0.7784075720043022, 0.15568151440086045, 0.6742456920461862, 0.15732399481077677, 0.1123742820076977, 0.680096364356189, 0.2518875423541441, 0.42887321588207705, 0.42887321588207705, 0.5077133111517551, 0.3626523651083965, 0.03626523651083965, 0.8421896810103318, 0.7682910393680523, 0.035103835326922406, 0.19658147783076546, 0.730159774799986, 0.014041534130768961, 0.014041534130768961, 0.1814737614248817, 0.7258950456995268, 0.7776707912169858, 0.8433478289255767, 0.08429196405413324, 0.6743357124330659, 0.8232751854440553, 0.7576537941638359, 0.861470486880039, 0.8101351248270402, 0.09001501386967113, 0.08221558525961085, 0.7399402673364976, 0.8384214625054196, 0.6632053640840935, 0.09474362344058479, 0.07579489875246782, 0.05684617406435087, 0.05684617406435087, 0.018948724688116956, 0.018948724688116956, 0.7131037867239939, 0.7989769690144289, 0.8270084249375472, 0.4833145929348537, 0.09062148617528507, 0.06041432411685671, 0.18124297235057013, 0.09062148617528507, 0.06041432411685671, 0.8162737209977408, 0.6274841347855724, 0.10912767561488215, 0.054563837807441076, 0.16369151342232324, 0.8507659450173919, 0.7046177288737617, 0.5835262643176224, 0.19450875477254082, 0.16209062897711735, 0.7603701574960303, 0.014295189079270711, 0.4002652942195799, 0.5146268068537456, 0.057180756317082845, 0.28708424035652963, 0.3827789871420395, 0.09569474678550988, 0.19138949357101975, 0.6956520616839338, 0.1764986763620458, 0.39372781649994837, 0.1629218551034269, 0.10861457006895127, 0.1357682125861891, 0.7977328698933877, 0.7588254480071194, 0.7088602418780051, 0.16679064514776593, 0.0957477136835918, 0.0957477136835918, 0.5744862821015508, 0.8858570152923313, 0.7090542266260358, 0.8379620776904536, 0.6524321491237665, 0.27184672880156935, 0.75474006704752, 0.18868501676188, 0.7647167473247333, 0.7985049227205767, 0.0939417556141855, 0.810950573241523, 0.79340318983929, 0.3217103514149986, 0.10723678380499953, 0.07149118920333303, 0.4289471352199981, 0.8370162510412356, 0.7588627301506522, 0.7486017679239647, 0.06805470617490589, 0.7977822925154568, 0.6010885312212904, 0.03756803320133065, 0.3005442656106452, 0.3482857187525897, 0.5030793715315184, 0.03869841319473219, 0.03869841319473219, 0.7396022707800731, 0.8481560513696002, 0.6590138387708171, 0.10983563979513618, 0.10983563979513618, 0.07322375986342412, 0.03661187993171206, 0.16819134850202416, 0.04204783712550604, 0.7148132311336027, 0.04204783712550604, 0.704045702320142, 0.7612323120476635, 0.8420764435524654, 0.8000313089159489, 0.06154086991661145, 0.808452456184189, 0.10748187067019176, 0.429927482680767, 0.3582729022339725, 0.660653327319818, 0.0330326663659909, 0.23122866456193628, 0.10551117496543727, 0.6330670497926236, 0.9193923943225949, 0.8016784315147949, 0.7205064422626711, 0.8109380836976319, 0.027963382196470064, 0.0838901465894102, 0.8668356699141186, 0.11457519895039013, 0.6301635942271457, 0.17186279842558522, 0.8727891139209033, 0.8326870764093521, 0.27437048299303907, 0.17148155187064942, 0.10288893112238966, 0.4115557244895586, 0.39300628747424604, 0.19650314373712302, 0.3649344097975142, 0.11853310358714153, 0.7902206905809436, 0.8680788999057402, 0.8200892940124898, 0.7974100038695474, 0.09085162667401778, 0.7268130133921422, 0.720476824192361, 0.7853715787460829, 0.6500318187969862, 0.21667727293232875, 0.09286168839956947, 0.31754618759182174, 0.5821680105850066, 0.7343326383792593, 0.8157153906089395, 0.7992560531117099, 0.7572392606967462, 0.11649834779949941, 0.9313225728606415, 0.8463660867212823, 0.10463721690497998, 0.78477912678735, 0.7222334251692806, 0.15476430539341726, 0.8093051948065254, 0.0948618751555405, 0.34782687557031516, 0.06324125010369366, 0.4110681256740088, 0.05055114651624623, 0.07077160512274472, 0.6571649047112009, 0.13143298094224018, 0.02022045860649849, 0.05055114651624623, 0.7187869093524013, 0.19356963521021803, 0.1290464234734787, 0.6129705114990238, 0.8337290435297312, 0.11722063096647917, 0.7619341012821146, 0.06840904150505958, 0.7524994565556554, 0.07774197012973506, 0.6996777311676156, 0.8042957564527183, 0.7185313707078264, 0.8002489095866675, 0.14464855145989075, 0.14464855145989075, 0.578594205839563, 0.7770356584583379, 0.8595854460178624, 0.2661155595774799, 0.5765837124178731, 0.08870518652582662, 0.808992572218891, 0.16192570079583546, 0.25908112127333677, 0.5181622425466735, 0.7760117029420269, 0.8296213530337195, 0.09760251212161407, 0.8463165286906065, 0.4231651989986742, 0.4039304172260072, 0.13464347240866906, 0.13783285910083276, 0.06891642955041638, 0.6202478659537475, 0.7748114714306455, 0.06684610972110051, 0.13369221944220103, 0.6016149874899047, 0.15079479125088568, 0.06462633910752244, 0.12925267821504488, 0.43084226071681625, 0.15079479125088568, 0.02154211303584081, 0.02154211303584081, 0.806058838916629, 0.9110201116825793, 0.8665677918463901, 0.9144268694222759, 0.7395533211572883, 0.18488833028932208, 0.7626003739984951, 0.8699751407775402, 0.02674370230325327, 0.6151051529748253, 0.1872059161227729, 0.13371851151626635, 0.7386530395837054, 0.13849744492194477, 0.7225159968390189, 0.8281920330502681, 0.6780219560890928, 0.2764605979220834, 0.5183636211039064, 0.17278787370130214, 0.6402830792493958, 0.14228512872208796, 0.09485675248139196, 0.04742837624069598, 0.02371418812034799, 0.8018412911484466, 0.791167101591669, 0.7717621759782957, 0.8696853323606326, 0.05510329973625307, 0.17143248806834288, 0.6857299522733715, 0.018367766578751023, 0.03673553315750205, 0.024490355438334697, 0.8165108491560908, 0.12561705371632167, 0.5371042307369563, 0.2792941999832173, 0.03222625384421738, 0.09667876153265215, 0.042968338458956506, 0.8565892849200645, 0.8433417568764371, 0.06325063176573278, 0.06325063176573278, 0.8703185881372759, 0.15318314913817196, 0.7148546959781358, 0.8611645541394733, 0.6527513792133363, 0.7780040543391799, 0.06483367119493165, 0.13262524644547272, 0.6631262322273636, 0.10610019715637817, 0.07957514786728362, 0.7555041311334659, 0.2299146843307917, 0.024201545719030708, 0.19361236575224566, 0.01815115928927303, 0.05445347786781909, 0.3388216400664299, 0.04235270500830374, 0.09680618287612283, 0.006050386429757677, 0.2280924871387064, 0.7168621024359344, 0.7016163636438004, 0.1754040909109501, 0.1445929082188056, 0.7711621771669632, 0.8055591718429682, 0.24735282379956086, 0.20612735316630074, 0.4947056475991217, 0.7894084542494862, 0.12144745449992098, 0.8406414732399208, 0.8227667163464999, 0.7824582230344302, 0.06520485191953586, 0.2260206138252184, 0.15068040921681225, 0.03767010230420306, 0.3767010230420307, 0.1695154603689138, 0.7521383317020964, 0.7147222151088526, 0.19853394864134793, 0.7764141693460301, 0.12259171094937318, 0.06754145286741878, 0.09455803401438628, 0.06754145286741878, 0.16209948688180506, 0.5943647852332852, 0.5463930652504946, 0.36426204350032976, 0.03642620435003297, 0.8731305858417362, 0.7808292219203111, 0.11154703170290159, 0.7545084015372412, 0.09431355019215515, 0.047156775096077574, 0.8252500161877881, 0.8494939121433178, 0.19724536968282835, 0.6903587938898993, 0.8557183061478852, 0.754290823095219, 0.31746715806785036, 0.04535245115255005, 0.5442294138306006, 0.7829081972553147, 0.844634543099944, 0.2636074395379198, 0.6736634565969062, 0.24457269141453183, 0.12228634570726592, 0.24457269141453183, 0.28533480665028715], \"Term\": [\"abcnew\", \"absolut\", \"acbhear\", \"accus\", \"action\", \"administr\", \"administr\", \"advis\", \"agre\", \"air\", \"allisonbjanney\", \"almost\", \"almost\", \"almost\", \"alreadi\", \"alreadi\", \"alreadi\", \"also\", \"also\", \"also\", \"alway\", \"alway\", \"amend\", \"amtrak\", \"anyth\", \"anyth\", \"anyth\", \"anyth\", \"anyth\", \"apolog\", \"appar\", \"arizona\", \"around\", \"articl\", \"articl\", \"attack\", \"ballot\", \"barrontrump\", \"barrontrump\", \"basement\", \"becam\", \"becom\", \"becom\", \"believ\", \"believ\", \"bia\", \"bidencar\", \"bidencorrupt\", \"bidencorrupt\", \"bidencrimefamili\", \"bidenemail\", \"bideng\", \"bidenharri\", \"bidenharri\", \"bidenharri\", \"bidenharri\", \"bidenharri\", \"bidenharri\", \"bidenharri\", \"bidenharri\", \"bidenharri\", \"bidenharrislandslid\", \"bidenharristosaveamerica\", \"bidenharristosaveamerica\", \"bidenharristosaveamerica\", \"bidenharristosaveamerica\", \"bidenharristosaveamerica\", \"bidenli\", \"bidentownhal\", \"bidentownhal\", \"billion\", \"blacklivesmatt\", \"blacklivesmatt\", \"blacklivesmatt\", \"block\", \"block\", \"block\", \"bombshel\", \"bombshel\", \"boycot\", \"boycottnbc\", \"boycottnbc\", \"boycotttrumptownhal\", \"brag\", \"brag\", \"break\", \"break\", \"break\", \"bring\", \"bring\", \"burisma\", \"burisma\", \"burisma\", \"burisma\", \"burisma\", \"burismabiden\", \"burismabribedbiden\", \"burismag\", \"businessman\", \"california\", \"call\", \"call\", \"call\", \"call\", \"call\", \"call\", \"campaign\", \"campaign\", \"campaign\", \"campaign\", \"campaign\", \"care\", \"care\", \"care\", \"care\", \"cash\", \"cash\", \"cave\", \"censor\", \"censor\", \"censorship\", \"censorship\", \"censorship\", \"centuri\", \"chanc\", \"chang\", \"chang\", \"check\", \"check\", \"check\", \"check\", \"china\", \"china\", \"china\", \"china\", \"china\", \"chump\", \"clinton\", \"come\", \"come\", \"come\", \"come\", \"come\", \"come\", \"comment\", \"commit\", \"commun\", \"confirm\", \"coronaviru\", \"corrupt\", \"corrupt\", \"corrupt\", \"corrupt\", \"corrupt\", \"corrupt\", \"corrupt\", \"corrupt\", \"corrupt\", \"countri\", \"countri\", \"covid\", \"covid\", \"covid\", \"covid\", \"covidiot\", \"crack\", \"crack\", \"crack\", \"crackhead\", \"crackhead\", \"credibl\", \"crimin\", \"crimin\", \"crowd\", \"cube\", \"damn\", \"day\", \"day\", \"dbongino\", \"dbongino\", \"death\", \"debat\", \"debat\", \"debat\", \"debat\", \"decad\", \"decis\", \"decis\", \"definit\", \"dementia\", \"democrat\", \"democrat\", \"democrat\", \"democrat\", \"democrat\", \"democrat\", \"democrat\", \"democrat\", \"destroy\", \"dirti\", \"disgust\", \"donald\", \"donald\", \"donaldjtrumpjr\", \"donaldjtrumpjr\", \"donaldtrump\", \"donaldtrump\", \"donaldtrump\", \"donaldtrump\", \"donaldtrump\", \"donat\", \"donat\", \"donat\", \"doubt\", \"drive\", \"drive\", \"drug\", \"dumptrump\", \"earli\", \"effort\", \"either\", \"el\", \"el\", \"el\", \"eleccion\", \"eleccion\", \"elect\", \"elect\", \"elect\", \"elect\", \"elect\", \"elect\", \"elect\", \"elect\", \"email\", \"email\", \"email\", \"embarrass\", \"energi\", \"enough\", \"estado\", \"ever\", \"ever\", \"everyon\", \"everyon\", \"evid\", \"evid\", \"exactli\", \"exec\", \"experienc\", \"explain\", \"explain\", \"expo\", \"expo\", \"facebook\", \"facebook\", \"facebook\", \"faith\", \"fake\", \"famili\", \"famili\", \"famili\", \"famili\", \"feel\", \"fire\", \"fire\", \"florida\", \"fnrnn\", \"folk\", \"foxnew\", \"foxnew\", \"foxnew\", \"frack\", \"freedom\", \"friend\", \"friend\", \"full\", \"gaff\", \"game\", \"gavinnewsom\", \"gener\", \"georgia\", \"georgia\", \"get\", \"get\", \"get\", \"get\", \"get\", \"give\", \"give\", \"give\", \"give\", \"give\", \"give\", \"good\", \"good\", \"googl\", \"gophypocrisi\", \"gretchenwhitm\", \"guess\", \"guess\", \"guilti\", \"half\", \"half\", \"hall\", \"hand\", \"happen\", \"hard\", \"hard\", \"harm\", \"harri\", \"harri\", \"head\", \"healthcar\", \"heard\", \"help\", \"help\", \"help\", \"help\", \"hide\", \"hide\", \"hide\", \"high\", \"hilari\", \"hillari\", \"hillari\", \"hillaryclinton\", \"hillaryclinton\", \"hold\", \"home\", \"home\", \"hope\", \"hope\", \"host\", \"hunter\", \"hunter\", \"hunter\", \"hunter\", \"hunter\", \"hunter\", \"hunter\", \"hunter\", \"hunterbidden\", \"hunterbiden\", \"hunterbiden\", \"hunterbiden\", \"hunterbiden\", \"hunterbiden\", \"hunterbiden\", \"hunterbiden\", \"hunterbiden\", \"hunterbiden\", \"hunterbiden\", \"hunterbidenemail\", \"hunterbidenemail\", \"hunterbidenemail\", \"hunterbidenemail\", \"hunterbidenlaptop\", \"hunterbidenscrackpip\", \"hunterscrackpip\", \"hunterscrackpip\", \"icecub\", \"ignor\", \"ilhanomar\", \"impeach\", \"impeach\", \"import\", \"includ\", \"independ\", \"inform\", \"inform\", \"inform\", \"insid\", \"insid\", \"interest\", \"interest\", \"introduc\", \"invest\", \"investig\", \"iowa\", \"iran\", \"jack\", \"jack\", \"jack\", \"jack\", \"joebidenisaliar\", \"joebidenissick\", \"joebidenkamalaharri\", \"joewillleadu\", \"joey\", \"kamala\", \"kamala\", \"kamalaharri\", \"kamalaharri\", \"kamalaharri\", \"kamalaharri\", \"kamalaharri\", \"kamalaharri\", \"kamalaharri\", \"kamalaharrisvp\", \"kayleigh\", \"khrzuhsrqi\", \"kid\", \"kill\", \"kixih\", \"knew\", \"knew\", \"know\", \"know\", \"know\", \"know\", \"know\", \"known\", \"kylegriffin\", \"landslid\", \"landslidevictori\", \"landslidevictori\", \"laptop\", \"laptop\", \"last\", \"last\", \"late\", \"late\", \"least\", \"liar\", \"liar\", \"liber\", \"liber\", \"liber\", \"liberalismisamentaldisord\", \"lie\", \"lie\", \"lie\", \"lie\", \"lie\", \"life\", \"life\", \"life\", \"life\", \"like\", \"like\", \"like\", \"like\", \"like\", \"like\", \"like\", \"lindseygrahamsc\", \"link\", \"link\", \"link\", \"lock\", \"lock\", \"look\", \"look\", \"look\", \"look\", \"lose\", \"lose\", \"loser\", \"machin\", \"maddow\", \"maddow\", \"maddow\", \"made\", \"made\", \"maga\", \"maga\", \"maga\", \"maga\", \"maga\", \"maidan\", \"mailonlin\", \"make\", \"make\", \"make\", \"make\", \"make\", \"make\", \"mani\", \"matter\", \"matter\", \"mayb\", \"mcenani\", \"mental\", \"michigan\", \"michigan\", \"mikep\", \"militari\", \"million\", \"million\", \"million\", \"million\", \"million\", \"mind\", \"mind\", \"minnesota\", \"minut\", \"miss\", \"money\", \"money\", \"money\", \"money\", \"money\", \"month\", \"msnbc\", \"msnbc\", \"msnbc\", \"msnbc\", \"music\", \"nancypelosi\", \"natur\", \"nbcnew\", \"nbcnew\", \"nbcnew\", \"need\", \"need\", \"need\", \"need\", \"neg\", \"network\", \"never\", \"never\", \"news\", \"news\", \"news\", \"newyorkpost\", \"newyorkpost\", \"night\", \"night\", \"noth\", \"noth\", \"noth\", \"novemb\", \"number\", \"nypost\", \"nypost\", \"nypost\", \"nypost\", \"nypost\", \"nytim\", \"nytim\", \"octobersurpris\", \"ohio\", \"open\", \"open\", \"own\", \"pack\", \"part\", \"parti\", \"parti\", \"penc\", \"penc\", \"pennsylvania\", \"peopl\", \"peopl\", \"peopl\", \"peopl\", \"peopl\", \"peopl\", \"peopl\", \"phone\", \"photo\", \"play\", \"plea\", \"plea\", \"plea\", \"plea\", \"plea\", \"plea\", \"polic\", \"polit\", \"polit\", \"polit\", \"polit\", \"politician\", \"politico\", \"poll\", \"poll\", \"poll\", \"posit\", \"post\", \"post\", \"post\", \"post\", \"potu\", \"potu\", \"potu\", \"potu\", \"pozharskyi\", \"presid\", \"presid\", \"presid\", \"presid\", \"presid\", \"press\", \"presssec\", \"probabl\", \"probabl\", \"problem\", \"problem\", \"problem\", \"projectlincoln\", \"promis\", \"proof\", \"prosecutor\", \"prosecutor\", \"protect\", \"protect\", \"publish\", \"push\", \"push\", \"put\", \"putin\", \"question\", \"question\", \"question\", \"question\", \"quid\", \"quidprojo\", \"racist\", \"racist\", \"rais\", \"rate\", \"rate\", \"rate\", \"real\", \"real\", \"real\", \"real\", \"realiz\", \"realjameswood\", \"realli\", \"realli\", \"realli\", \"realli\", \"realli\", \"reason\", \"reason\", \"reason\", \"reason\", \"recov\", \"refus\", \"releas\", \"rememb\", \"rememb\", \"remov\", \"report\", \"report\", \"report\", \"republican\", \"republican\", \"republican\", \"resist\", \"resist\", \"reveal\", \"revel\", \"richard\", \"right\", \"right\", \"right\", \"riot\", \"run\", \"run\", \"run\", \"russia\", \"rvat\", \"said\", \"said\", \"said\", \"said\", \"say\", \"say\", \"say\", \"scandal\", \"scandal\", \"seanhann\", \"see\", \"sell\", \"senior\", \"senior\", \"serious\", \"sexual\", \"share\", \"share\", \"share\", \"shit\", \"shit\", \"shokin\", \"slaughter\", \"sleepi\", \"sleepyjo\", \"sleepyjo\", \"smoke\", \"sobr\", \"someth\", \"someth\", \"spent\", \"spent\", \"sponsor\", \"state\", \"state\", \"state\", \"state\", \"stori\", \"stori\", \"stori\", \"stori\", \"stori\", \"stori\", \"stream\", \"support\", \"support\", \"support\", \"suppress\", \"sure\", \"sure\", \"surpris\", \"surpris\", \"swamp\", \"swamp\", \"swingstat\", \"system\", \"takeov\", \"talk\", \"talk\", \"talk\", \"tax\", \"teamtrump\", \"tech\", \"tech\", \"tech\", \"tedwheel\", \"tell\", \"tell\", \"tell\", \"test\", \"thank\", \"thank\", \"theplumlineg\", \"think\", \"think\", \"think\", \"thought\", \"thought\", \"thought\", \"threat\", \"thursday\", \"thursday\", \"thursday\", \"time\", \"time\", \"time\", \"time\", \"time\", \"time\", \"time\", \"told\", \"tomorrow\", \"tonight\", \"town\", \"townhal\", \"townhal\", \"train\", \"trend\", \"tri\", \"tri\", \"tri\", \"tri\", \"true\", \"true\", \"trump\", \"trumpattacksblackwomen\", \"trumpcovid\", \"trumpisalaughingstock\", \"trumpisalaughingstock\", \"trumpisalaughingstock\", \"trumppenc\", \"trumppenc\", \"trumppenc\", \"trumppenc\", \"trumppenc\", \"trumpral\", \"trust\", \"tucker\", \"tuckercarlson\", \"twitter\", \"twitter\", \"twitter\", \"twitter\", \"twitter\", \"twitter\", \"twittercensorship\", \"twittercensorship\", \"ukrain\", \"ukrain\", \"ukrain\", \"ukrain\", \"ukrain\", \"ukraineg\", \"ukrainian\", \"ukrainian\", \"ukrainian\", \"unido\", \"unit\", \"unit\", \"uselect\", \"vadym\", \"vice\", \"vice\", \"video\", \"video\", \"video\", \"video\", \"voic\", \"vote\", \"vote\", \"vote\", \"vote\", \"vote\", \"vote\", \"vote\", \"vote\", \"vote\", \"votebiden\", \"votebiden\", \"votebidenharri\", \"votebidenharri\", \"votebluedownballot\", \"votebluedownballot\", \"votebluetoendthisnightmar\", \"votebluetosaveamerica\", \"votebluetosaveamerica\", \"votebluetosaveamerica\", \"voteearli\", \"voteearli\", \"voteredtosaveamerica\", \"wake\", \"walkaway\", \"walkaway\", \"want\", \"want\", \"want\", \"want\", \"want\", \"wapo\", \"washington\", \"washington\", \"washingtonpost\", \"washingtonpost\", \"watch\", \"watch\", \"watch\", \"watch\", \"watch\", \"well\", \"well\", \"well\", \"whereshunt\", \"white\", \"white\", \"win\", \"win\", \"win\", \"wisconsin\", \"wise\", \"wors\", \"wors\", \"worst\", \"worth\", \"wrong\", \"wrong\", \"wrong\", \"yeah\", \"yesterday\", \"york\", \"york\", \"youtub\", \"youtub\", \"youtub\", \"youtub\"]}, \"R\": 30, \"lambda.step\": 0.01, \"plot.opts\": {\"xlab\": \"PC1\", \"ylab\": \"PC2\"}, \"topic.order\": [2, 10, 5, 7, 1, 9, 4, 8, 6, 3]};\n",
       "\n",
       "function LDAvis_load_lib(url, callback){\n",
       "  var s = document.createElement('script');\n",
       "  s.src = url;\n",
       "  s.async = true;\n",
       "  s.onreadystatechange = s.onload = callback;\n",
       "  s.onerror = function(){console.warn(\"failed to load library \" + url);};\n",
       "  document.getElementsByTagName(\"head\")[0].appendChild(s);\n",
       "}\n",
       "\n",
       "if(typeof(LDAvis) !== \"undefined\"){\n",
       "   // already loaded: just create the visualization\n",
       "   !function(LDAvis){\n",
       "       new LDAvis(\"#\" + \"ldavis_el472021406102750484647853725801\", ldavis_el472021406102750484647853725801_data);\n",
       "   }(LDAvis);\n",
       "}else if(typeof define === \"function\" && define.amd){\n",
       "   // require.js is available: use it to load d3/LDAvis\n",
       "   require.config({paths: {d3: \"https://d3js.org/d3.v5\"}});\n",
       "   require([\"d3\"], function(d3){\n",
       "      window.d3 = d3;\n",
       "      LDAvis_load_lib(\"https://cdn.jsdelivr.net/gh/bmabey/pyLDAvis@3.3.1/pyLDAvis/js/ldavis.v3.0.0.js\", function(){\n",
       "        new LDAvis(\"#\" + \"ldavis_el472021406102750484647853725801\", ldavis_el472021406102750484647853725801_data);\n",
       "      });\n",
       "    });\n",
       "}else{\n",
       "    // require.js not available: dynamically load d3 & LDAvis\n",
       "    LDAvis_load_lib(\"https://d3js.org/d3.v5.js\", function(){\n",
       "         LDAvis_load_lib(\"https://cdn.jsdelivr.net/gh/bmabey/pyLDAvis@3.3.1/pyLDAvis/js/ldavis.v3.0.0.js\", function(){\n",
       "                 new LDAvis(\"#\" + \"ldavis_el472021406102750484647853725801\", ldavis_el472021406102750484647853725801_data);\n",
       "            })\n",
       "         });\n",
       "}\n",
       "</script>"
      ],
      "text/plain": [
       "PreparedData(topic_coordinates=              x         y  topics  cluster       Freq\n",
       "topic                                                \n",
       "1      0.055720  0.120926       1        1  15.431708\n",
       "9     -0.185116  0.076522       2        1  14.273576\n",
       "4     -0.245654  0.036609       3        1  13.860262\n",
       "6      0.061135  0.054142       4        1  10.483139\n",
       "0      0.141131 -0.042300       5        1   9.858841\n",
       "8     -0.090539 -0.238720       6        1   8.367295\n",
       "3      0.110751  0.072742       7        1   8.325589\n",
       "7     -0.016106  0.016840       8        1   7.485537\n",
       "5      0.047005 -0.019492       9        1   6.218608\n",
       "2      0.121671 -0.077270      10        1   5.695446, topic_info=                 Term        Freq       Total Category  logprob  loglift\n",
       "4    hunterbidenemail  131.000000  131.000000  Default  30.0000  30.0000\n",
       "11         censorship  121.000000  121.000000  Default  29.0000  29.0000\n",
       "27             nypost  142.000000  142.000000  Default  28.0000  28.0000\n",
       "96           facebook  101.000000  101.000000  Default  27.0000  27.0000\n",
       "22             censor   90.000000   90.000000  Default  26.0000  26.0000\n",
       "..                ...         ...         ...      ...      ...      ...\n",
       "379            youtub    7.193364   24.532584  Topic10  -4.8126   1.6387\n",
       "197            famili    7.337283   32.665843  Topic10  -4.7928   1.3721\n",
       "232             night    6.620517   16.321840  Topic10  -4.8956   1.9632\n",
       "3         hunterbiden    7.638344  237.358411  Topic10  -4.7526  -0.5709\n",
       "34         republican    6.739488   30.273063  Topic10  -4.8777   1.3632\n",
       "\n",
       "[512 rows x 6 columns], token_table=      Topic      Freq     Term\n",
       "term                          \n",
       "511       9  0.745258   abcnew\n",
       "332       5  0.792632  absolut\n",
       "780       6  0.836249  acbhear\n",
       "391       8  0.770789    accus\n",
       "92        3  0.782229   action\n",
       "...     ...       ...      ...\n",
       "297       3  0.673663     york\n",
       "379       2  0.244573   youtub\n",
       "379       7  0.122286   youtub\n",
       "379       8  0.244573   youtub\n",
       "379      10  0.285335   youtub\n",
       "\n",
       "[880 rows x 3 columns], R=30, lambda_step=0.01, plot_opts={'xlab': 'PC1', 'ylab': 'PC2'}, topic_order=[2, 10, 5, 7, 1, 9, 4, 8, 6, 3])"
      ]
     },
     "execution_count": 48,
     "metadata": {},
     "output_type": "execute_result"
    }
   ],
   "source": [
    "gensimviz.prepare(lda_b,corpus_b,dictionary_b)"
   ]
  },
  {
   "cell_type": "code",
   "execution_count": null,
   "id": "dcbb3e1f-d056-4c5f-9ae3-125c137eb7d8",
   "metadata": {},
   "outputs": [],
   "source": []
  }
 ],
 "metadata": {
  "kernelspec": {
   "display_name": "Python 3 (ipykernel)",
   "language": "python",
   "name": "python3"
  },
  "language_info": {
   "codemirror_mode": {
    "name": "ipython",
    "version": 3
   },
   "file_extension": ".py",
   "mimetype": "text/x-python",
   "name": "python",
   "nbconvert_exporter": "python",
   "pygments_lexer": "ipython3",
   "version": "3.9.7"
  }
 },
 "nbformat": 4,
 "nbformat_minor": 5
}
